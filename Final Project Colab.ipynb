{
  "cells": [
    {
      "cell_type": "code",
      "execution_count": 1,
      "metadata": {
        "id": "X9p81r401t7A"
      },
      "outputs": [],
      "source": [
        "import warnings\n",
        "warnings.filterwarnings(\"ignore\")"
      ]
    },
    {
      "cell_type": "markdown",
      "metadata": {
        "id": "AdJJBVk81t7D"
      },
      "source": [
        "Create Dataset"
      ]
    },
    {
      "cell_type": "code",
      "execution_count": 2,
      "metadata": {
        "id": "-T6zqqyr4qst"
      },
      "outputs": [],
      "source": [
        "import pandas as pd\n",
        "import numpy as np\n",
        "import matplotlib.pyplot as plt\n",
        "import requests, json\n",
        "from sklearn.model_selection import train_test_split"
      ]
    },
    {
      "cell_type": "code",
      "execution_count": 3,
      "metadata": {
        "id": "KYLfXJs-1t7E"
      },
      "outputs": [],
      "source": [
        "first_df=pd.read_csv('Arrests_cleaned.csv')\n",
        "r = requests.get('https://data.cityofchicago.org/resource/crimes.json?$limit=600000')\n",
        "data = r.json()\n",
        "sec_df = pd.DataFrame(data)\n",
        "sec_df = sec_df[['case_number','ward','district']]"
      ]
    },
    {
      "cell_type": "code",
      "execution_count": 4,
      "metadata": {
        "colab": {
          "base_uri": "https://localhost:8080/",
          "height": 261
        },
        "id": "lWRhrqBM1t7F",
        "outputId": "4d1e46f5-dc80-4ef3-e570-9353d7c5941c"
      },
      "outputs": [
        {
          "name": "stdout",
          "output_type": "stream",
          "text": [
            "67647\n"
          ]
        },
        {
          "data": {
            "text/html": [
              "<div>\n",
              "<style scoped>\n",
              "    .dataframe tbody tr th:only-of-type {\n",
              "        vertical-align: middle;\n",
              "    }\n",
              "\n",
              "    .dataframe tbody tr th {\n",
              "        vertical-align: top;\n",
              "    }\n",
              "\n",
              "    .dataframe thead th {\n",
              "        text-align: right;\n",
              "    }\n",
              "</style>\n",
              "<table border=\"1\" class=\"dataframe\">\n",
              "  <thead>\n",
              "    <tr style=\"text-align: right;\">\n",
              "      <th></th>\n",
              "      <th>id</th>\n",
              "      <th>case_number</th>\n",
              "      <th>date_month</th>\n",
              "      <th>date_day</th>\n",
              "      <th>date_year</th>\n",
              "      <th>time</th>\n",
              "      <th>meridiem</th>\n",
              "      <th>race</th>\n",
              "      <th>charge_1_statute</th>\n",
              "      <th>charge_1_description</th>\n",
              "      <th>...</th>\n",
              "      <th>charge_4_statute</th>\n",
              "      <th>charge_4_description</th>\n",
              "      <th>charge_4_type</th>\n",
              "      <th>charge_4_class</th>\n",
              "      <th>CHARGES STATUTE</th>\n",
              "      <th>CHARGES DESCRIPTION</th>\n",
              "      <th>CHARGES TYPE</th>\n",
              "      <th>CHARGES CLASS</th>\n",
              "      <th>ward</th>\n",
              "      <th>district</th>\n",
              "    </tr>\n",
              "  </thead>\n",
              "  <tbody>\n",
              "    <tr>\n",
              "      <th>0</th>\n",
              "      <td>30039812</td>\n",
              "      <td>JE183770</td>\n",
              "      <td>3</td>\n",
              "      <td>30</td>\n",
              "      <td>2021</td>\n",
              "      <td>12:10:00</td>\n",
              "      <td>AM</td>\n",
              "      <td>WHITE HISPANIC</td>\n",
              "      <td>720 ILCS 5.0/12-3.2-A-1</td>\n",
              "      <td>DOMESTIC BATTERY - BODILY HARM</td>\n",
              "      <td>...</td>\n",
              "      <td>NaN</td>\n",
              "      <td>NaN</td>\n",
              "      <td>NaN</td>\n",
              "      <td>NaN</td>\n",
              "      <td>720 ILCS 5.0/12-3.2-A-1 |  |  |</td>\n",
              "      <td>DOMESTIC BATTERY - BODILY HARM |  |  |</td>\n",
              "      <td>M |  |  |</td>\n",
              "      <td>A |  |  |</td>\n",
              "      <td>14</td>\n",
              "      <td>008</td>\n",
              "    </tr>\n",
              "  </tbody>\n",
              "</table>\n",
              "<p>1 rows × 30 columns</p>\n",
              "</div>"
            ],
            "text/plain": [
              "         id case_number  date_month  date_day  date_year      time meridiem  \\\n",
              "0  30039812    JE183770           3        30       2021  12:10:00       AM   \n",
              "\n",
              "             race         charge_1_statute            charge_1_description  \\\n",
              "0  WHITE HISPANIC  720 ILCS 5.0/12-3.2-A-1  DOMESTIC BATTERY - BODILY HARM   \n",
              "\n",
              "   ... charge_4_statute charge_4_description charge_4_type charge_4_class  \\\n",
              "0  ...              NaN                  NaN           NaN            NaN   \n",
              "\n",
              "                   CHARGES STATUTE                     CHARGES DESCRIPTION  \\\n",
              "0  720 ILCS 5.0/12-3.2-A-1 |  |  |  DOMESTIC BATTERY - BODILY HARM |  |  |   \n",
              "\n",
              "  CHARGES TYPE CHARGES CLASS ward district  \n",
              "0    M |  |  |     A |  |  |   14      008  \n",
              "\n",
              "[1 rows x 30 columns]"
            ]
          },
          "execution_count": 4,
          "metadata": {},
          "output_type": "execute_result"
        }
      ],
      "source": [
        "merged_df = pd.merge(first_df, sec_df, on=\"case_number\")\n",
        "print(len(merged_df))\n",
        "merged_df.head(1)"
      ]
    },
    {
      "cell_type": "code",
      "execution_count": 5,
      "metadata": {
        "colab": {
          "base_uri": "https://localhost:8080/",
          "height": 485
        },
        "id": "9zfTv55w1t7G",
        "outputId": "53dc2d53-f330-419c-f34d-26f1b25f2e2a"
      },
      "outputs": [
        {
          "data": {
            "text/html": [
              "<div>\n",
              "<style scoped>\n",
              "    .dataframe tbody tr th:only-of-type {\n",
              "        vertical-align: middle;\n",
              "    }\n",
              "\n",
              "    .dataframe tbody tr th {\n",
              "        vertical-align: top;\n",
              "    }\n",
              "\n",
              "    .dataframe thead th {\n",
              "        text-align: right;\n",
              "    }\n",
              "</style>\n",
              "<table border=\"1\" class=\"dataframe\">\n",
              "  <thead>\n",
              "    <tr style=\"text-align: right;\">\n",
              "      <th></th>\n",
              "      <th>race_WHITE HISPANIC</th>\n",
              "      <th>race_BLACK</th>\n",
              "      <th>race_BLACK HISPANIC</th>\n",
              "      <th>race_WHITE</th>\n",
              "      <th>race_ASIAN / PACIFIC ISLANDER</th>\n",
              "      <th>race_AMER INDIAN / ALASKAN NATIVE</th>\n",
              "      <th>race_UNKNOWN / REFUSED</th>\n",
              "    </tr>\n",
              "  </thead>\n",
              "  <tbody>\n",
              "    <tr>\n",
              "      <th>0</th>\n",
              "      <td>1</td>\n",
              "      <td>0</td>\n",
              "      <td>0</td>\n",
              "      <td>0</td>\n",
              "      <td>0</td>\n",
              "      <td>0</td>\n",
              "      <td>0</td>\n",
              "    </tr>\n",
              "    <tr>\n",
              "      <th>1</th>\n",
              "      <td>0</td>\n",
              "      <td>1</td>\n",
              "      <td>0</td>\n",
              "      <td>0</td>\n",
              "      <td>0</td>\n",
              "      <td>0</td>\n",
              "      <td>0</td>\n",
              "    </tr>\n",
              "    <tr>\n",
              "      <th>2</th>\n",
              "      <td>0</td>\n",
              "      <td>1</td>\n",
              "      <td>0</td>\n",
              "      <td>0</td>\n",
              "      <td>0</td>\n",
              "      <td>0</td>\n",
              "      <td>0</td>\n",
              "    </tr>\n",
              "    <tr>\n",
              "      <th>3</th>\n",
              "      <td>0</td>\n",
              "      <td>1</td>\n",
              "      <td>0</td>\n",
              "      <td>0</td>\n",
              "      <td>0</td>\n",
              "      <td>0</td>\n",
              "      <td>0</td>\n",
              "    </tr>\n",
              "    <tr>\n",
              "      <th>4</th>\n",
              "      <td>0</td>\n",
              "      <td>0</td>\n",
              "      <td>1</td>\n",
              "      <td>0</td>\n",
              "      <td>0</td>\n",
              "      <td>0</td>\n",
              "      <td>0</td>\n",
              "    </tr>\n",
              "    <tr>\n",
              "      <th>...</th>\n",
              "      <td>...</td>\n",
              "      <td>...</td>\n",
              "      <td>...</td>\n",
              "      <td>...</td>\n",
              "      <td>...</td>\n",
              "      <td>...</td>\n",
              "      <td>...</td>\n",
              "    </tr>\n",
              "    <tr>\n",
              "      <th>67642</th>\n",
              "      <td>0</td>\n",
              "      <td>0</td>\n",
              "      <td>1</td>\n",
              "      <td>0</td>\n",
              "      <td>0</td>\n",
              "      <td>0</td>\n",
              "      <td>0</td>\n",
              "    </tr>\n",
              "    <tr>\n",
              "      <th>67643</th>\n",
              "      <td>0</td>\n",
              "      <td>1</td>\n",
              "      <td>0</td>\n",
              "      <td>0</td>\n",
              "      <td>0</td>\n",
              "      <td>0</td>\n",
              "      <td>0</td>\n",
              "    </tr>\n",
              "    <tr>\n",
              "      <th>67644</th>\n",
              "      <td>0</td>\n",
              "      <td>1</td>\n",
              "      <td>0</td>\n",
              "      <td>0</td>\n",
              "      <td>0</td>\n",
              "      <td>0</td>\n",
              "      <td>0</td>\n",
              "    </tr>\n",
              "    <tr>\n",
              "      <th>67645</th>\n",
              "      <td>1</td>\n",
              "      <td>0</td>\n",
              "      <td>0</td>\n",
              "      <td>0</td>\n",
              "      <td>0</td>\n",
              "      <td>0</td>\n",
              "      <td>0</td>\n",
              "    </tr>\n",
              "    <tr>\n",
              "      <th>67646</th>\n",
              "      <td>0</td>\n",
              "      <td>1</td>\n",
              "      <td>0</td>\n",
              "      <td>0</td>\n",
              "      <td>0</td>\n",
              "      <td>0</td>\n",
              "      <td>0</td>\n",
              "    </tr>\n",
              "  </tbody>\n",
              "</table>\n",
              "<p>67647 rows × 7 columns</p>\n",
              "</div>"
            ],
            "text/plain": [
              "       race_WHITE HISPANIC  race_BLACK  race_BLACK HISPANIC  race_WHITE  \\\n",
              "0                        1           0                    0           0   \n",
              "1                        0           1                    0           0   \n",
              "2                        0           1                    0           0   \n",
              "3                        0           1                    0           0   \n",
              "4                        0           0                    1           0   \n",
              "...                    ...         ...                  ...         ...   \n",
              "67642                    0           0                    1           0   \n",
              "67643                    0           1                    0           0   \n",
              "67644                    0           1                    0           0   \n",
              "67645                    1           0                    0           0   \n",
              "67646                    0           1                    0           0   \n",
              "\n",
              "       race_ASIAN / PACIFIC ISLANDER  race_AMER INDIAN / ALASKAN NATIVE  \\\n",
              "0                                  0                                  0   \n",
              "1                                  0                                  0   \n",
              "2                                  0                                  0   \n",
              "3                                  0                                  0   \n",
              "4                                  0                                  0   \n",
              "...                              ...                                ...   \n",
              "67642                              0                                  0   \n",
              "67643                              0                                  0   \n",
              "67644                              0                                  0   \n",
              "67645                              0                                  0   \n",
              "67646                              0                                  0   \n",
              "\n",
              "       race_UNKNOWN / REFUSED  \n",
              "0                           0  \n",
              "1                           0  \n",
              "2                           0  \n",
              "3                           0  \n",
              "4                           0  \n",
              "...                       ...  \n",
              "67642                       0  \n",
              "67643                       0  \n",
              "67644                       0  \n",
              "67645                       0  \n",
              "67646                       0  \n",
              "\n",
              "[67647 rows x 7 columns]"
            ]
          },
          "execution_count": 5,
          "metadata": {},
          "output_type": "execute_result"
        }
      ],
      "source": [
        "races = merged_df.loc[:, \"race\"].unique().tolist()\n",
        "race_dummies = pd.get_dummies(merged_df, columns=[\"race\"])\n",
        "races = [\"race_\"+r for r in races]\n",
        "race_dummies = race_dummies[races]\n",
        "race_dummies"
      ]
    },
    {
      "cell_type": "code",
      "execution_count": 6,
      "metadata": {
        "id": "SHkDzf2h1t7H"
      },
      "outputs": [],
      "source": [
        "merged_df = merged_df[['ward','district','date_day','date_year','charge_1_type']]\n",
        "# merged_df['ward'] = pd.to_numeric(merged_df['ward'])\n",
        "# merged_df['district'] = pd.to_numeric(merged_df['district'])\n",
        "\n",
        "merged_df = pd.concat([merged_df, race_dummies], axis=1).dropna()"
      ]
    },
    {
      "cell_type": "code",
      "execution_count": 49,
      "metadata": {
        "colab": {
          "base_uri": "https://localhost:8080/",
          "height": 540
        },
        "id": "rwxL45WH1t7I",
        "outputId": "f055574c-7ba6-42aa-ff98-9ac32a4d4486"
      },
      "outputs": [
        {
          "data": {
            "text/html": [
              "\n",
              "  <div id=\"df-b9417900-610d-4728-a512-37843b4ce95d\">\n",
              "    <div class=\"colab-df-container\">\n",
              "      <div>\n",
              "<style scoped>\n",
              "    .dataframe tbody tr th:only-of-type {\n",
              "        vertical-align: middle;\n",
              "    }\n",
              "\n",
              "    .dataframe tbody tr th {\n",
              "        vertical-align: top;\n",
              "    }\n",
              "\n",
              "    .dataframe thead th {\n",
              "        text-align: right;\n",
              "    }\n",
              "</style>\n",
              "<table border=\"1\" class=\"dataframe\">\n",
              "  <thead>\n",
              "    <tr style=\"text-align: right;\">\n",
              "      <th></th>\n",
              "      <th>ward</th>\n",
              "      <th>district</th>\n",
              "      <th>date_day</th>\n",
              "      <th>date_year</th>\n",
              "      <th>charge_1_type</th>\n",
              "      <th>race_WHITE HISPANIC</th>\n",
              "      <th>race_BLACK</th>\n",
              "      <th>race_BLACK HISPANIC</th>\n",
              "      <th>race_WHITE</th>\n",
              "      <th>race_ASIAN / PACIFIC ISLANDER</th>\n",
              "      <th>race_AMER INDIAN / ALASKAN NATIVE</th>\n",
              "      <th>race_UNKNOWN / REFUSED</th>\n",
              "    </tr>\n",
              "  </thead>\n",
              "  <tbody>\n",
              "    <tr>\n",
              "      <th>0</th>\n",
              "      <td>14</td>\n",
              "      <td>008</td>\n",
              "      <td>30</td>\n",
              "      <td>2021</td>\n",
              "      <td>M</td>\n",
              "      <td>1</td>\n",
              "      <td>0</td>\n",
              "      <td>0</td>\n",
              "      <td>0</td>\n",
              "      <td>0</td>\n",
              "      <td>0</td>\n",
              "      <td>0</td>\n",
              "    </tr>\n",
              "    <tr>\n",
              "      <th>1</th>\n",
              "      <td>22</td>\n",
              "      <td>010</td>\n",
              "      <td>23</td>\n",
              "      <td>2021</td>\n",
              "      <td>M</td>\n",
              "      <td>0</td>\n",
              "      <td>1</td>\n",
              "      <td>0</td>\n",
              "      <td>0</td>\n",
              "      <td>0</td>\n",
              "      <td>0</td>\n",
              "      <td>0</td>\n",
              "    </tr>\n",
              "    <tr>\n",
              "      <th>2</th>\n",
              "      <td>7</td>\n",
              "      <td>004</td>\n",
              "      <td>16</td>\n",
              "      <td>2021</td>\n",
              "      <td>F</td>\n",
              "      <td>0</td>\n",
              "      <td>1</td>\n",
              "      <td>0</td>\n",
              "      <td>0</td>\n",
              "      <td>0</td>\n",
              "      <td>0</td>\n",
              "      <td>0</td>\n",
              "    </tr>\n",
              "    <tr>\n",
              "      <th>3</th>\n",
              "      <td>24</td>\n",
              "      <td>011</td>\n",
              "      <td>16</td>\n",
              "      <td>2021</td>\n",
              "      <td>F</td>\n",
              "      <td>0</td>\n",
              "      <td>1</td>\n",
              "      <td>0</td>\n",
              "      <td>0</td>\n",
              "      <td>0</td>\n",
              "      <td>0</td>\n",
              "      <td>0</td>\n",
              "    </tr>\n",
              "    <tr>\n",
              "      <th>4</th>\n",
              "      <td>13</td>\n",
              "      <td>008</td>\n",
              "      <td>16</td>\n",
              "      <td>2021</td>\n",
              "      <td>M</td>\n",
              "      <td>0</td>\n",
              "      <td>0</td>\n",
              "      <td>1</td>\n",
              "      <td>0</td>\n",
              "      <td>0</td>\n",
              "      <td>0</td>\n",
              "      <td>0</td>\n",
              "    </tr>\n",
              "    <tr>\n",
              "      <th>...</th>\n",
              "      <td>...</td>\n",
              "      <td>...</td>\n",
              "      <td>...</td>\n",
              "      <td>...</td>\n",
              "      <td>...</td>\n",
              "      <td>...</td>\n",
              "      <td>...</td>\n",
              "      <td>...</td>\n",
              "      <td>...</td>\n",
              "      <td>...</td>\n",
              "      <td>...</td>\n",
              "      <td>...</td>\n",
              "    </tr>\n",
              "    <tr>\n",
              "      <th>68411</th>\n",
              "      <td>22</td>\n",
              "      <td>010</td>\n",
              "      <td>7</td>\n",
              "      <td>2022</td>\n",
              "      <td>F</td>\n",
              "      <td>0</td>\n",
              "      <td>0</td>\n",
              "      <td>1</td>\n",
              "      <td>0</td>\n",
              "      <td>0</td>\n",
              "      <td>0</td>\n",
              "      <td>0</td>\n",
              "    </tr>\n",
              "    <tr>\n",
              "      <th>68412</th>\n",
              "      <td>34</td>\n",
              "      <td>022</td>\n",
              "      <td>7</td>\n",
              "      <td>2022</td>\n",
              "      <td>M</td>\n",
              "      <td>0</td>\n",
              "      <td>1</td>\n",
              "      <td>0</td>\n",
              "      <td>0</td>\n",
              "      <td>0</td>\n",
              "      <td>0</td>\n",
              "      <td>0</td>\n",
              "    </tr>\n",
              "    <tr>\n",
              "      <th>68413</th>\n",
              "      <td>9</td>\n",
              "      <td>005</td>\n",
              "      <td>7</td>\n",
              "      <td>2022</td>\n",
              "      <td>F</td>\n",
              "      <td>0</td>\n",
              "      <td>1</td>\n",
              "      <td>0</td>\n",
              "      <td>0</td>\n",
              "      <td>0</td>\n",
              "      <td>0</td>\n",
              "      <td>0</td>\n",
              "    </tr>\n",
              "    <tr>\n",
              "      <th>68414</th>\n",
              "      <td>7</td>\n",
              "      <td>003</td>\n",
              "      <td>7</td>\n",
              "      <td>2022</td>\n",
              "      <td>F</td>\n",
              "      <td>1</td>\n",
              "      <td>0</td>\n",
              "      <td>0</td>\n",
              "      <td>0</td>\n",
              "      <td>0</td>\n",
              "      <td>0</td>\n",
              "      <td>0</td>\n",
              "    </tr>\n",
              "    <tr>\n",
              "      <th>68415</th>\n",
              "      <td>28</td>\n",
              "      <td>011</td>\n",
              "      <td>7</td>\n",
              "      <td>2022</td>\n",
              "      <td>F</td>\n",
              "      <td>0</td>\n",
              "      <td>1</td>\n",
              "      <td>0</td>\n",
              "      <td>0</td>\n",
              "      <td>0</td>\n",
              "      <td>0</td>\n",
              "      <td>0</td>\n",
              "    </tr>\n",
              "  </tbody>\n",
              "</table>\n",
              "<p>68408 rows × 12 columns</p>\n",
              "</div>\n",
              "      <button class=\"colab-df-convert\" onclick=\"convertToInteractive('df-b9417900-610d-4728-a512-37843b4ce95d')\"\n",
              "              title=\"Convert this dataframe to an interactive table.\"\n",
              "              style=\"display:none;\">\n",
              "        \n",
              "  <svg xmlns=\"http://www.w3.org/2000/svg\" height=\"24px\"viewBox=\"0 0 24 24\"\n",
              "       width=\"24px\">\n",
              "    <path d=\"M0 0h24v24H0V0z\" fill=\"none\"/>\n",
              "    <path d=\"M18.56 5.44l.94 2.06.94-2.06 2.06-.94-2.06-.94-.94-2.06-.94 2.06-2.06.94zm-11 1L8.5 8.5l.94-2.06 2.06-.94-2.06-.94L8.5 2.5l-.94 2.06-2.06.94zm10 10l.94 2.06.94-2.06 2.06-.94-2.06-.94-.94-2.06-.94 2.06-2.06.94z\"/><path d=\"M17.41 7.96l-1.37-1.37c-.4-.4-.92-.59-1.43-.59-.52 0-1.04.2-1.43.59L10.3 9.45l-7.72 7.72c-.78.78-.78 2.05 0 2.83L4 21.41c.39.39.9.59 1.41.59.51 0 1.02-.2 1.41-.59l7.78-7.78 2.81-2.81c.8-.78.8-2.07 0-2.86zM5.41 20L4 18.59l7.72-7.72 1.47 1.35L5.41 20z\"/>\n",
              "  </svg>\n",
              "      </button>\n",
              "      \n",
              "  <style>\n",
              "    .colab-df-container {\n",
              "      display:flex;\n",
              "      flex-wrap:wrap;\n",
              "      gap: 12px;\n",
              "    }\n",
              "\n",
              "    .colab-df-convert {\n",
              "      background-color: #E8F0FE;\n",
              "      border: none;\n",
              "      border-radius: 50%;\n",
              "      cursor: pointer;\n",
              "      display: none;\n",
              "      fill: #1967D2;\n",
              "      height: 32px;\n",
              "      padding: 0 0 0 0;\n",
              "      width: 32px;\n",
              "    }\n",
              "\n",
              "    .colab-df-convert:hover {\n",
              "      background-color: #E2EBFA;\n",
              "      box-shadow: 0px 1px 2px rgba(60, 64, 67, 0.3), 0px 1px 3px 1px rgba(60, 64, 67, 0.15);\n",
              "      fill: #174EA6;\n",
              "    }\n",
              "\n",
              "    [theme=dark] .colab-df-convert {\n",
              "      background-color: #3B4455;\n",
              "      fill: #D2E3FC;\n",
              "    }\n",
              "\n",
              "    [theme=dark] .colab-df-convert:hover {\n",
              "      background-color: #434B5C;\n",
              "      box-shadow: 0px 1px 3px 1px rgba(0, 0, 0, 0.15);\n",
              "      filter: drop-shadow(0px 1px 2px rgba(0, 0, 0, 0.3));\n",
              "      fill: #FFFFFF;\n",
              "    }\n",
              "  </style>\n",
              "\n",
              "      <script>\n",
              "        const buttonEl =\n",
              "          document.querySelector('#df-b9417900-610d-4728-a512-37843b4ce95d button.colab-df-convert');\n",
              "        buttonEl.style.display =\n",
              "          google.colab.kernel.accessAllowed ? 'block' : 'none';\n",
              "\n",
              "        async function convertToInteractive(key) {\n",
              "          const element = document.querySelector('#df-b9417900-610d-4728-a512-37843b4ce95d');\n",
              "          const dataTable =\n",
              "            await google.colab.kernel.invokeFunction('convertToInteractive',\n",
              "                                                     [key], {});\n",
              "          if (!dataTable) return;\n",
              "\n",
              "          const docLinkHtml = 'Like what you see? Visit the ' +\n",
              "            '<a target=\"_blank\" href=https://colab.research.google.com/notebooks/data_table.ipynb>data table notebook</a>'\n",
              "            + ' to learn more about interactive tables.';\n",
              "          element.innerHTML = '';\n",
              "          dataTable['output_type'] = 'display_data';\n",
              "          await google.colab.output.renderOutput(dataTable, element);\n",
              "          const docLink = document.createElement('div');\n",
              "          docLink.innerHTML = docLinkHtml;\n",
              "          element.appendChild(docLink);\n",
              "        }\n",
              "      </script>\n",
              "    </div>\n",
              "  </div>\n",
              "  "
            ],
            "text/plain": [
              "      ward district  date_day  date_year charge_1_type  race_WHITE HISPANIC  \\\n",
              "0       14      008        30       2021             M                    1   \n",
              "1       22      010        23       2021             M                    0   \n",
              "2        7      004        16       2021             F                    0   \n",
              "3       24      011        16       2021             F                    0   \n",
              "4       13      008        16       2021             M                    0   \n",
              "...    ...      ...       ...        ...           ...                  ...   \n",
              "68411   22      010         7       2022             F                    0   \n",
              "68412   34      022         7       2022             M                    0   \n",
              "68413    9      005         7       2022             F                    0   \n",
              "68414    7      003         7       2022             F                    1   \n",
              "68415   28      011         7       2022             F                    0   \n",
              "\n",
              "       race_BLACK  race_BLACK HISPANIC  race_WHITE  \\\n",
              "0               0                    0           0   \n",
              "1               1                    0           0   \n",
              "2               1                    0           0   \n",
              "3               1                    0           0   \n",
              "4               0                    1           0   \n",
              "...           ...                  ...         ...   \n",
              "68411           0                    1           0   \n",
              "68412           1                    0           0   \n",
              "68413           1                    0           0   \n",
              "68414           0                    0           0   \n",
              "68415           1                    0           0   \n",
              "\n",
              "       race_ASIAN / PACIFIC ISLANDER  race_AMER INDIAN / ALASKAN NATIVE  \\\n",
              "0                                  0                                  0   \n",
              "1                                  0                                  0   \n",
              "2                                  0                                  0   \n",
              "3                                  0                                  0   \n",
              "4                                  0                                  0   \n",
              "...                              ...                                ...   \n",
              "68411                              0                                  0   \n",
              "68412                              0                                  0   \n",
              "68413                              0                                  0   \n",
              "68414                              0                                  0   \n",
              "68415                              0                                  0   \n",
              "\n",
              "       race_UNKNOWN / REFUSED  \n",
              "0                           0  \n",
              "1                           0  \n",
              "2                           0  \n",
              "3                           0  \n",
              "4                           0  \n",
              "...                       ...  \n",
              "68411                       0  \n",
              "68412                       0  \n",
              "68413                       0  \n",
              "68414                       0  \n",
              "68415                       0  \n",
              "\n",
              "[68408 rows x 12 columns]"
            ]
          },
          "execution_count": 49,
          "metadata": {},
          "output_type": "execute_result"
        }
      ],
      "source": [
        "merged_df"
      ]
    },
    {
      "cell_type": "code",
      "execution_count": 7,
      "metadata": {
        "id": "ZZc_X2wX1t7I"
      },
      "outputs": [],
      "source": [
        "x = merged_df[['race_WHITE HISPANIC','race_BLACK','race_BLACK HISPANIC','race_WHITE','race_ASIAN / PACIFIC ISLANDER','race_AMER INDIAN / ALASKAN NATIVE', \\\n",
        "    'race_UNKNOWN / REFUSED','ward','district','date_day','date_year']]\n",
        "y = merged_df[['charge_1_type']]\n",
        "x_train, x_test, y_train, y_test = train_test_split(x, y, test_size=0.2, random_state=2)"
      ]
    },
    {
      "cell_type": "markdown",
      "metadata": {
        "id": "LTAI7oH71t7J"
      },
      "source": [
        "KNN"
      ]
    },
    {
      "cell_type": "code",
      "execution_count": 8,
      "metadata": {
        "id": "QWafU_mF405R"
      },
      "outputs": [],
      "source": [
        "from sklearn.model_selection import GridSearchCV\n",
        "from  sklearn.neighbors import KNeighborsClassifier\n",
        "from sklearn.preprocessing import MinMaxScaler\n",
        "from sklearn.preprocessing import StandardScaler\n",
        "from sklearn.decomposition import PCA\n",
        "from sklearn.pipeline import make_pipeline\n",
        "from sklearn.metrics import accuracy_score"
      ]
    },
    {
      "cell_type": "code",
      "execution_count": 52,
      "metadata": {
        "colab": {
          "base_uri": "https://localhost:8080/"
        },
        "id": "B0L6lU211t7J",
        "outputId": "ac82dbfd-96c6-43b2-e5ad-dd94bd21be1d"
      },
      "outputs": [
        {
          "name": "stdout",
          "output_type": "stream",
          "text": [
            "KNeighborsClassifier(leaf_size=20, n_neighbors=9)\n"
          ]
        }
      ],
      "source": [
        "knn = KNeighborsClassifier()\n",
        "params = {'n_neighbors':[i for i in range(3, 10, 2)],'weights':['uniform', 'distance'], 'algorithm': ['auto', 'ball_tree', 'kd_tree', 'brute'], 'leaf_size':[i for i in range(20, 40, 5)]}\n",
        "clf = GridSearchCV(knn, params, cv=5)\n",
        "clf.fit(x_train,y_train)\n",
        "print(clf.best_estimator_)"
      ]
    },
    {
      "cell_type": "code",
      "execution_count": 53,
      "metadata": {
        "colab": {
          "base_uri": "https://localhost:8080/"
        },
        "id": "JJ4FNGHk1t7K",
        "outputId": "98205f21-e701-4571-a67f-a7392dd5501b"
      },
      "outputs": [
        {
          "data": {
            "text/plain": [
              "0.5679201799406146"
            ]
          },
          "execution_count": 53,
          "metadata": {},
          "output_type": "execute_result"
        }
      ],
      "source": [
        "clf.best_score_"
      ]
    },
    {
      "cell_type": "code",
      "execution_count": 54,
      "metadata": {
        "colab": {
          "base_uri": "https://localhost:8080/"
        },
        "id": "c9kKGSLD1t7K",
        "outputId": "aa91e672-82c6-4781-929d-2ea43a076278"
      },
      "outputs": [
        {
          "name": "stdout",
          "output_type": "stream",
          "text": [
            "MinMaxScaler() score =  0.5628563075573747\n",
            "StandardScaler() score =  0.5634410173951176\n",
            "PCA() score =  0.5711884227452126\n"
          ]
        }
      ],
      "source": [
        "scalers = [MinMaxScaler(), StandardScaler(), PCA()]\n",
        "for index, scaling in enumerate(scalers):\n",
        "    pipe = make_pipeline(scaling, clf.best_estimator_)\n",
        "    pipe.fit(x_train,y_train)\n",
        "    y_pred = pipe.predict(x_test)\n",
        "    print(scalers[index], \"score = \", accuracy_score(y_pred, y_test))"
      ]
    },
    {
      "cell_type": "code",
      "execution_count": 55,
      "metadata": {
        "colab": {
          "base_uri": "https://localhost:8080/"
        },
        "id": "rIg-xS-d1t7K",
        "outputId": "160eacfd-c03c-4020-c678-0ce35feb7e07"
      },
      "outputs": [
        {
          "name": "stdout",
          "output_type": "stream",
          "text": [
            "No scaling score =  0.565633679286654\n"
          ]
        }
      ],
      "source": [
        "clf.best_estimator_.fit(x_train,y_train)\n",
        "y_pred = clf.best_estimator_.predict(x_test)\n",
        "print(\"No scaling score = \", accuracy_score(y_pred, y_test))"
      ]
    },
    {
      "cell_type": "markdown",
      "metadata": {
        "id": "l_zXgUeZ1t7L"
      },
      "source": [
        "Neural Networks"
      ]
    },
    {
      "cell_type": "code",
      "execution_count": 9,
      "metadata": {
        "id": "T7abPjNX1t7L"
      },
      "outputs": [],
      "source": [
        "from statistics import mean \n",
        "\n",
        "from sklearn.neural_network import MLPClassifier\n",
        "from sklearn.neural_network import MLPRegressor\n",
        "\n",
        "from sklearn.model_selection import GridSearchCV\n",
        "from sklearn.model_selection import cross_val_score"
      ]
    },
    {
      "cell_type": "code",
      "execution_count": 57,
      "metadata": {
        "colab": {
          "base_uri": "https://localhost:8080/"
        },
        "id": "uiRLtrvn1t7L",
        "outputId": "53a3813d-05ed-4f10-ad83-02e42b8cf6c6"
      },
      "outputs": [
        {
          "name": "stdout",
          "output_type": "stream",
          "text": [
            "0.5112556643765531\n"
          ]
        }
      ],
      "source": [
        "net_classifier = MLPClassifier()\n",
        "net_classifier.fit(x_train,y_train['charge_1_type'].tolist())\n",
        "classifier_preds = net_classifier.predict(x_test)\n",
        "score = net_classifier.score(x_test,y_test)\n",
        "print(score)"
      ]
    },
    {
      "cell_type": "code",
      "execution_count": 58,
      "metadata": {
        "colab": {
          "base_uri": "https://localhost:8080/"
        },
        "id": "Ueaj8mkj1t7L",
        "outputId": "8935a7e9-3a9c-413b-bbb1-e7459d474b2c"
      },
      "outputs": [
        {
          "name": "stdout",
          "output_type": "stream",
          "text": [
            "MinMaxScore = 0.5774009647712323\n",
            "StandardScaler = 0.5788627393655899\n",
            "PCA = 0.5800321590410759\n"
          ]
        }
      ],
      "source": [
        "scalers = [MinMaxScaler(), StandardScaler(), PCA()]\n",
        "scores = []\n",
        "for scaling in scalers:\n",
        "    pipe = make_pipeline(scaling, net_classifier)\n",
        "    pipe.fit(x_train,y_train['charge_1_type'].tolist())\n",
        "    scores.append(pipe.score(x_test,y_test))\n",
        "\n",
        "print(\"MinMaxScore =\",scores[0])\n",
        "print(\"StandardScaler =\",scores[1])\n",
        "print(\"PCA =\",scores[2])"
      ]
    },
    {
      "cell_type": "code",
      "execution_count": 59,
      "metadata": {
        "colab": {
          "base_uri": "https://localhost:8080/"
        },
        "id": "teIKBvE61t7M",
        "outputId": "02b73275-38b7-4847-f13e-977df2339eb0"
      },
      "outputs": [
        {
          "name": "stdout",
          "output_type": "stream",
          "text": [
            "0.5097208010524777\n"
          ]
        }
      ],
      "source": [
        "parameters = {\n",
        "    # 'solver': ['lbfgs', 'sgd', 'adam'],\n",
        "    # 'activation' : ['identity', 'logistic', 'tanh', 'relu'],\n",
        "    # 'alpha' : [0.001, 0.01,0.0001,0.002,0.003],\n",
        "    'learning_rate' : ['constant', 'invscaling', 'adaptive'],\n",
        "    'learning_rate_init' : [0.001,0.002,0.0011,0.0009],\n",
        "    'random_state':[0,100,200,300,400],\n",
        "}\n",
        "\n",
        "search = GridSearchCV(net_classifier,parameters)\n",
        "search.fit(x_train,y_train['charge_1_type'].tolist())\n",
        "\n",
        "best = search.best_estimator_\n",
        "best_score = best.score(x_test,y_test)\n",
        "print(best_score)"
      ]
    },
    {
      "cell_type": "code",
      "execution_count": 60,
      "metadata": {
        "colab": {
          "base_uri": "https://localhost:8080/"
        },
        "id": "s3PHZ7Dl1t7M",
        "outputId": "9d8295e8-e43b-4f72-c366-02ab9c1d45d1"
      },
      "outputs": [
        {
          "name": "stdout",
          "output_type": "stream",
          "text": [
            "MinMaxScore = 0.575793012717439\n",
            "StandardScaler = 0.5742581493933635\n",
            "PCA = 0.5728694635287239\n"
          ]
        }
      ],
      "source": [
        "scores = []\n",
        "for scaling in scalers:\n",
        "    pipe = make_pipeline(scaling, best)\n",
        "    pipe.fit(x_train,y_train['charge_1_type'].tolist())\n",
        "    scores.append(pipe.score(x_test,y_test))\n",
        "\n",
        "print(\"MinMaxScore =\",scores[0])\n",
        "print(\"StandardScaler =\",scores[1])\n",
        "print(\"PCA =\",scores[2])"
      ]
    },
    {
      "cell_type": "markdown",
      "metadata": {
        "id": "LQhJiBo11t7M"
      },
      "source": [
        "Random Forest"
      ]
    },
    {
      "cell_type": "code",
      "execution_count": 10,
      "metadata": {
        "id": "xsP-Tatu3lZc"
      },
      "outputs": [],
      "source": [
        "from sklearn.model_selection import cross_val_score\n",
        "from sklearn.ensemble import RandomForestClassifier\n",
        "from sklearn.model_selection import GridSearchCV"
      ]
    },
    {
      "cell_type": "code",
      "execution_count": 12,
      "metadata": {
        "id": "5Cj7REAb1t7N"
      },
      "outputs": [],
      "source": [
        "# creating a Random Forest classifier\n",
        "clf_m = RandomForestClassifier(n_estimators = 100,random_state=0)\n",
        "\n",
        "# Training the model on the training dataset\n",
        "# fit function is used to train the model using the training sets as parameters\n",
        "clf_m.fit(x_train, y_train)\n",
        "scores_RF = cross_val_score(clf_m, x_train,y_train, cv=5)"
      ]
    },
    {
      "cell_type": "code",
      "execution_count": 13,
      "metadata": {
        "colab": {
          "base_uri": "https://localhost:8080/"
        },
        "id": "JeVq6D6Y1t7N",
        "outputId": "21343864-5005-457b-8ef1-10dc77421aad"
      },
      "outputs": [
        {
          "data": {
            "text/plain": [
              "GridSearchCV(cv=5, estimator=RandomForestClassifier(random_state=0),\n",
              "             param_grid={'max_depth': [6, 8, 10, 12, 14, 16],\n",
              "                         'min_samples_leaf': [9, 10, 11, 12, 13, 14]})"
            ]
          },
          "execution_count": 13,
          "metadata": {},
          "output_type": "execute_result"
        }
      ],
      "source": [
        "#n_estimators max_depth min_samples_leaf min_samples_split max_features\n",
        "parameters = {'max_depth':[i for i in range(6, 17,2)],'min_samples_leaf':[i for i in range(9, 15)]}\n",
        "clf_mCV = GridSearchCV(clf_m, parameters,cv=5)\n",
        "clf_mCV.fit(x_train,y_train)"
      ]
    },
    {
      "cell_type": "code",
      "execution_count": 14,
      "metadata": {
        "colab": {
          "base_uri": "https://localhost:8080/",
          "height": 280
        },
        "id": "NBEw8ic91t7N",
        "outputId": "23fdad52-c050-4f06-a2cf-e4f77d44700c"
      },
      "outputs": [
        {
          "data": {
            "image/png": "[encoded data removed]",
            "text/plain": [
              "<Figure size 432x288 with 1 Axes>"
            ]
          },
          "metadata": {
            "needs_background": "light"
          },
          "output_type": "display_data"
        }
      ],
      "source": [
        "x = [i for i in range(6,17,2)]\n",
        "k1 = clf_mCV.cv_results_['mean_test_score'][3::6]\n",
        "plt.plot(x,k1,'s-',color = 'r')\n",
        "plt.xlabel(\"max_depth\")\n",
        "plt.ylabel(\"mean test score\")\n",
        "plt.show()"
      ]
    },
    {
      "cell_type": "code",
      "execution_count": 15,
      "metadata": {
        "colab": {
          "base_uri": "https://localhost:8080/",
          "height": 280
        },
        "id": "aBH4Henk1t7N",
        "outputId": "482b221d-7aef-4d27-8aa0-482308564348"
      },
      "outputs": [
        {
          "data": {
            "image/png": "[encoded data removed]",
            "text/plain": [
              "<Figure size 432x288 with 1 Axes>"
            ]
          },
          "metadata": {
            "needs_background": "light"
          },
          "output_type": "display_data"
        }
      ],
      "source": [
        "x = [i for i in range(11,17)]\n",
        "k1 = clf_mCV.cv_results_['mean_test_score'][13:19]\n",
        "plt.plot(x,k1,'s-',color = 'r')\n",
        "plt.xlabel(\"min_samples_leaf\")\n",
        "plt.ylabel(\"mean test score\")\n",
        "plt.show()"
      ]
    },
    {
      "cell_type": "code",
      "execution_count": 16,
      "metadata": {
        "colab": {
          "base_uri": "https://localhost:8080/"
        },
        "id": "rbCtoJTo1t7N",
        "outputId": "2889f69d-807e-47fe-f115-15058ad54c81"
      },
      "outputs": [
        {
          "data": {
            "text/plain": [
              "GridSearchCV(cv=5,\n",
              "             estimator=RandomForestClassifier(max_depth=12, min_samples_leaf=11,\n",
              "                                              random_state=0),\n",
              "             param_grid={'max_features': [4, 5, 6, 7, 8],\n",
              "                         'min_samples_split': [33, 34, 35, 36, 37, 38]})"
            ]
          },
          "execution_count": 16,
          "metadata": {},
          "output_type": "execute_result"
        }
      ],
      "source": [
        "clf_m = RandomForestClassifier(n_estimators = 100,max_depth=12,min_samples_leaf=11,random_state=0)\n",
        "parameters = {'max_features':[i for i in range(4, 9)],'min_samples_split':[i for i in range(33,39)]}\n",
        "clf_mCV = GridSearchCV(clf_m, parameters,cv=5)\n",
        "clf_mCV.fit(x_train,y_train)"
      ]
    },
    {
      "cell_type": "code",
      "execution_count": 17,
      "metadata": {
        "id": "0TFk8FGV1t7O"
      },
      "outputs": [
        {
          "data": {
            "image/png": "[encoded data removed]",
            "text/plain": [
              "<Figure size 432x288 with 1 Axes>"
            ]
          },
          "metadata": {
            "needs_background": "light"
          },
          "output_type": "display_data"
        }
      ],
      "source": [
        "x = [i for i in range(4, 9)]\n",
        "k1 = clf_mCV.cv_results_['mean_test_score'][3::6]\n",
        "plt.plot(x,k1,'s-',color = 'r')\n",
        "plt.xlabel(\"max_features\")\n",
        "plt.ylabel(\"mean test score\")\n",
        "plt.show()"
      ]
    },
    {
      "cell_type": "code",
      "execution_count": 18,
      "metadata": {
        "id": "HUCH8NSf1t7O"
      },
      "outputs": [
        {
          "data": {
            "image/png": "[encoded data removed]",
            "text/plain": [
              "<Figure size 432x288 with 1 Axes>"
            ]
          },
          "metadata": {
            "needs_background": "light"
          },
          "output_type": "display_data"
        }
      ],
      "source": [
        "x = [i for i in range(33,39)]\n",
        "k1 = clf_mCV.cv_results_['mean_test_score'][18:24]\n",
        "plt.plot(x,k1,'s-',color = 'r')\n",
        "plt.xlabel(\"min_samples_split\")\n",
        "plt.ylabel(\"mean test score\")\n",
        "plt.show()"
      ]
    },
    {
      "cell_type": "code",
      "execution_count": 19,
      "metadata": {
        "id": "QN35CXmY1t7O"
      },
      "outputs": [
        {
          "data": {
            "text/plain": [
              "0.5983995680704417"
            ]
          },
          "execution_count": 19,
          "metadata": {},
          "output_type": "execute_result"
        }
      ],
      "source": [
        "clf_m = RandomForestClassifier(n_estimators = 100,max_depth=12,min_samples_leaf=16,random_state=0,max_features=8,min_samples_split=33)\n",
        "clf_m.fit(x_train, y_train)\n",
        "scores_RF = cross_val_score(clf_m, x_train,y_train, cv=5)\n",
        "scores_RF.mean()"
      ]
    },
    {
      "cell_type": "code",
      "execution_count": 20,
      "metadata": {
        "id": "VYx2O6Jr1t7O"
      },
      "outputs": [
        {
          "name": "stdout",
          "output_type": "stream",
          "text": [
            "ACCURACY OF THE MODEL:  0.6016410408042578\n"
          ]
        }
      ],
      "source": [
        "# performing predictions on the test dataset\n",
        "y_pred_m = clf_m.predict(x_test)\n",
        "\n",
        "# using metrics module for accuracy calculation\n",
        "print(\"ACCURACY OF THE MODEL: \", accuracy_score(y_test, y_pred_m))"
      ]
    },
    {
      "cell_type": "markdown",
      "metadata": {
        "id": "yTKQcd-k1t7O"
      },
      "source": [
        "Gradient Boosting"
      ]
    },
    {
      "cell_type": "code",
      "execution_count": 30,
      "metadata": {
        "id": "0QwGrWO_1t7O"
      },
      "outputs": [],
      "source": [
        "from sklearn.ensemble import HistGradientBoostingClassifier\n",
        "from sklearn.model_selection import GridSearchCV\n",
        "from sklearn import metrics\n",
        "from xgboost import XGBClassifier\n",
        "from sklearn.preprocessing import LabelEncoder"
      ]
    },
    {
      "cell_type": "code",
      "execution_count": 46,
      "metadata": {},
      "outputs": [],
      "source": [
        "merged_df = merged_df.infer_objects()\n",
        "\n",
        "x = merged_df[['race_WHITE HISPANIC','race_BLACK','race_BLACK HISPANIC','race_WHITE','race_ASIAN / PACIFIC ISLANDER','race_AMER INDIAN / ALASKAN NATIVE', \\\n",
        "    'race_UNKNOWN / REFUSED','ward','district','date_day','date_year']]\n",
        "\n",
        "x = x.astype({'district':'int', 'ward':'int'})\n",
        "\n",
        "m_charge_types = merged_df.loc[:, \"charge_1_type\"].replace('A', 'M')\n",
        "m_charge_types = m_charge_types.replace('R', 'O')\n",
        "m_charge_types = m_charge_types.replace('V', 'O')\n",
        "multi_class_types = pd.factorize(m_charge_types)\n",
        "multi_class_types = multi_class_types[0]\n",
        "\n",
        "x_train, x_test, y_train, y_test = train_test_split(x, multi_class_types, test_size=0.2, random_state=2)"
      ]
    },
    {
      "cell_type": "code",
      "execution_count": 47,
      "metadata": {
        "id": "29JXGxB41t7P"
      },
      "outputs": [
        {
          "name": "stdout",
          "output_type": "stream",
          "text": [
            "accuracy score:  0.5983885274985216\n"
          ]
        }
      ],
      "source": [
        "# training\n",
        "xgb_clf_m = XGBClassifier()\n",
        "xgb_clf_m.fit(x_train, y_train)\n",
        "\n",
        "# testing\n",
        "score_m = xgb_clf_m.score(x_test, y_test)\n",
        "print(\"accuracy score: \", score_m)"
      ]
    },
    {
      "cell_type": "code",
      "execution_count": 48,
      "metadata": {
        "id": "J2i7L3NC1t7P"
      },
      "outputs": [
        {
          "name": "stdout",
          "output_type": "stream",
          "text": [
            "MinMaxScaler() score =  0.5983885274985216\n",
            "StandardScaler() score =  0.5983885274985216\n",
            "PCA() score =  0.5760644589000591\n"
          ]
        }
      ],
      "source": [
        "scalers = [MinMaxScaler(), StandardScaler(), PCA()]\n",
        "for index, scaling in enumerate(scalers):\n",
        "    pipe = make_pipeline(scaling, XGBClassifier())\n",
        "    pipe.fit(x_train,y_train)\n",
        "    y_pred = pipe.predict(x_test)\n",
        "    print(scalers[index], \"score = \", accuracy_score(y_pred, y_test))"
      ]
    },
    {
      "cell_type": "code",
      "execution_count": 49,
      "metadata": {
        "id": "YWdZcG9_1t7P"
      },
      "outputs": [
        {
          "name": "stdout",
          "output_type": "stream",
          "text": [
            "accuracy score:  0.6042282672974572\n"
          ]
        }
      ],
      "source": [
        "# training\n",
        "light_clf = HistGradientBoostingClassifier()\n",
        "light_clf.fit(x_train, y_train)\n",
        "\n",
        "# testing\n",
        "score_light = light_clf.score(x_test, y_test)\n",
        "print(\"accuracy score: \", score_light)"
      ]
    },
    {
      "cell_type": "code",
      "execution_count": 50,
      "metadata": {
        "id": "5jjNoKMo1t7P"
      },
      "outputs": [
        {
          "name": "stdout",
          "output_type": "stream",
          "text": [
            "MinMaxScaler() score =  0.601123595505618\n",
            "StandardScaler() score =  0.604745712596097\n",
            "PCA() score =  0.5907007687758723\n"
          ]
        }
      ],
      "source": [
        "for index, scaling in enumerate(scalers):\n",
        "    pipe = make_pipeline(scaling, HistGradientBoostingClassifier())\n",
        "    pipe.fit(x_train,y_train)\n",
        "    y_pred = pipe.predict(x_test)\n",
        "    print(scalers[index], \"score = \", accuracy_score(y_pred, y_test))"
      ]
    },
    {
      "cell_type": "code",
      "execution_count": 51,
      "metadata": {
        "id": "3ZE7Cm0h1t7P"
      },
      "outputs": [
        {
          "name": "stdout",
          "output_type": "stream",
          "text": [
            "best accuracy:  0.6006357553259549\n",
            "best parameters:  {'l2_regularization': 0, 'max_depth': None, 'max_iter': 150, 'max_leaf_nodes': 31}\n",
            "0.6006061502069782\n"
          ]
        }
      ],
      "source": [
        "hist_params = {\"max_iter\": [100, 150, 200], \"max_leaf_nodes\": [31, None], \"max_depth\": [9, None], \"l2_regularization\": [0, 0.001, 0.1]}\n",
        "hist_clf = HistGradientBoostingClassifier()\n",
        "hist_clf_cv = GridSearchCV(hist_clf, scoring='accuracy', cv=5, param_grid=hist_params)\n",
        "hist_clf_cv.fit(x_train, y_train)\n",
        "print(\"best accuracy: \", hist_clf_cv.best_score_)\n",
        "print(\"best parameters: \", hist_clf_cv.best_params_)\n",
        "print(hist_clf_cv.score(x_test, y_test))"
      ]
    },
    {
      "cell_type": "code",
      "execution_count": 53,
      "metadata": {
        "id": "1v752Scx1t7Q"
      },
      "outputs": [
        {
          "name": "stdout",
          "output_type": "stream",
          "text": [
            "dim =  1  accuracy score:  0.584391360568717\n",
            "dim =  2  accuracy score:  0.5902681669681156\n",
            "dim =  3  accuracy score:  0.5938903069472592\n",
            "dim =  4  accuracy score:  0.5956644177535698\n",
            "dim =  5  accuracy score:  0.5953688621088039\n",
            "dim =  6  accuracy score:  0.5975124913228437\n",
            "dim =  7  accuracy score:  0.5944816863229916\n",
            "dim =  8  accuracy score:  0.5966069473633919\n",
            "dim =  9  accuracy score:  0.5954612323191814\n",
            "dim =  10  accuracy score:  0.5963112841426346\n"
          ]
        }
      ],
      "source": [
        "# Plot\n",
        "dims = list(range(1, 11))\n",
        "acc_scores = []\n",
        "for dim in dims:\n",
        "    # PCA\n",
        "    pca_project = PCA(n_components=dim)\n",
        "    trans_s_data = pca_project.fit_transform(x_train)\n",
        "\n",
        "    # CV\n",
        "    hist_params = {'l2_regularization': [0.001], 'max_depth': [None], 'max_iter': [100], 'max_leaf_nodes': [31]}\n",
        "    hist_clf = HistGradientBoostingClassifier()\n",
        "    hist_clf_cv = GridSearchCV(hist_clf, scoring='accuracy', cv=5, param_grid=hist_params)\n",
        "    hist_clf_cv.fit(trans_s_data, y_train)\n",
        "    acc_scores.append(hist_clf_cv.best_score_)\n",
        "    print(\"dim = \", dim, \" accuracy score: \", hist_clf_cv.best_score_)"
      ]
    },
    {
      "cell_type": "code",
      "execution_count": 54,
      "metadata": {
        "id": "kL8hbfW11t7Q"
      },
      "outputs": [
        {
          "data": {
            "image/png": "[encoded data removed]",
            "text/plain": [
              "<Figure size 432x288 with 1 Axes>"
            ]
          },
          "metadata": {
            "needs_background": "light"
          },
          "output_type": "display_data"
        }
      ],
      "source": [
        "plt.plot(dims, acc_scores)\n",
        "plt.axvline(x = 4, color = 'purple', label = 'axvline - full height', linestyle=\":\")\n",
        "plt.axvline(x = 12, color = 'purple', label = 'axvline - full height', linestyle=\":\")\n",
        "plt.xlabel(\"dimension\")\n",
        "plt.ylabel(\"accuracy score\")\n",
        "plt.title(\"Explore Reduced Dimensions by Knee Method\")\n",
        "plt.show()"
      ]
    },
    {
      "cell_type": "markdown",
      "metadata": {
        "id": "DWuHYl_b1t7Q"
      },
      "source": [
        "Ensemble Model"
      ]
    },
    {
      "cell_type": "code",
      "execution_count": 55,
      "metadata": {
        "id": "mbRFHplq1t7Q"
      },
      "outputs": [],
      "source": [
        "from sklearn.ensemble import GradientBoostingRegressor\n",
        "from sklearn.model_selection import cross_validate\n",
        "from sklearn.ensemble import BaggingClassifier\n",
        "from sklearn.linear_model import LogisticRegression\n",
        "from sklearn.tree import DecisionTreeClassifier\n",
        "from sklearn.neighbors import KNeighborsClassifier\n",
        "from sklearn.metrics import f1_score\n",
        "from sklearn.ensemble import VotingClassifier, AdaBoostClassifier, RandomForestClassifier, HistGradientBoostingClassifier, StackingClassifier, ExtraTreesClassifier"
      ]
    },
    {
      "cell_type": "code",
      "execution_count": 56,
      "metadata": {
        "id": "fHZZn3gx4-7T"
      },
      "outputs": [],
      "source": [
        "merged_df = pd.merge(first_df, sec_df, on=\"case_number\")\n",
        "races = merged_df.loc[:, \"race\"].unique().tolist()\n",
        "race_dummies = pd.get_dummies(merged_df, columns=[\"race\"])\n",
        "races = [\"race_\"+r for r in races]\n",
        "race_dummies = race_dummies[races]\n",
        "merged_df = merged_df[['ward','district','date_day','date_year','charge_1_type']]\n",
        "merged_df = pd.concat([merged_df, race_dummies], axis=1).dropna()\n",
        "x = merged_df[['race_WHITE HISPANIC','race_BLACK','race_BLACK HISPANIC','race_WHITE','race_ASIAN / PACIFIC ISLANDER','race_AMER INDIAN / ALASKAN NATIVE', \\\n",
        "    'race_UNKNOWN / REFUSED','ward','district','date_day','date_year']]\n",
        "y = merged_df[['charge_1_type']]\n",
        "x_train, x_test, y_train, y_test = train_test_split(x, y, test_size=0.2, random_state=2)\n",
        "y_bool_train = [i == \"M\" for i in y_train['charge_1_type']]\n",
        "y_bool_test = [i == \"M\" for i in y_test['charge_1_type']]"
      ]
    },
    {
      "cell_type": "code",
      "execution_count": 57,
      "metadata": {
        "id": "Zj-3MMby1t7Q"
      },
      "outputs": [
        {
          "data": {
            "text/plain": [
              "{'fit_time': array([0.14801216, 0.26103306, 0.15571713, 0.27577114, 0.15136576]),\n",
              " 'score_time': array([0.01742721, 0.02727413, 0.01775694, 0.02116799, 0.01793528]),\n",
              " 'test_score': array([0.57636515, 0.57909813, 0.57355387, 0.58177786, 0.57447792])}"
            ]
          },
          "execution_count": 57,
          "metadata": {},
          "output_type": "execute_result"
        }
      ],
      "source": [
        "decision_tree_model = DecisionTreeClassifier(criterion='entropy')\n",
        "decision_tree_model.fit(x_train, y_bool_train)\n",
        "y_pred = decision_tree_model.predict(x_test)\n",
        "cv_results = cross_validate(decision_tree_model, x_train, y_bool_train)\n",
        "cv_results"
      ]
    },
    {
      "cell_type": "code",
      "execution_count": 58,
      "metadata": {
        "id": "AqycX4No1t7Q"
      },
      "outputs": [],
      "source": [
        "decision_tree_model = DecisionTreeClassifier(criterion='entropy')\n",
        "best_depth = []\n",
        "best_min_samples = []\n",
        "best_nodes = [] \n",
        "\n",
        "for i in range(1,21):\n",
        "    decision_tree_model = DecisionTreeClassifier(criterion='entropy', max_depth = i)\n",
        "    decision_tree_model.fit(x_train, y_bool_train)\n",
        "    y_pred = decision_tree_model.predict(x_train)\n",
        "    cv_results = cross_validate(decision_tree_model, x_train, y_bool_train)\n",
        "    score = np.mean(cv_results['test_score'])\n",
        "    best_min_samples.append(score)"
      ]
    },
    {
      "cell_type": "code",
      "execution_count": 59,
      "metadata": {
        "id": "5OzeV6Ul1t7R"
      },
      "outputs": [
        {
          "name": "stdout",
          "output_type": "stream",
          "text": [
            "7\n"
          ]
        },
        {
          "data": {
            "text/plain": [
              "[<matplotlib.lines.Line2D at 0x7fa3231048b0>]"
            ]
          },
          "execution_count": 59,
          "metadata": {},
          "output_type": "execute_result"
        },
        {
          "data": {
            "image/png": "[encoded data removed]",
            "text/plain": [
              "<Figure size 432x288 with 1 Axes>"
            ]
          },
          "metadata": {
            "needs_background": "light"
          },
          "output_type": "display_data"
        }
      ],
      "source": [
        "x = list(range(20))\n",
        "best_min_samples \n",
        "\n",
        "print(best_min_samples.index(max(best_min_samples)))\n",
        "plt.plot(x, best_min_samples)"
      ]
    },
    {
      "cell_type": "code",
      "execution_count": 60,
      "metadata": {
        "id": "_yRLh2qb1t7R"
      },
      "outputs": [
        {
          "name": "stdout",
          "output_type": "stream",
          "text": [
            "10\n"
          ]
        }
      ],
      "source": [
        "for i in range(20,200,5):\n",
        "    decision_tree_model = DecisionTreeClassifier(criterion='entropy', max_depth = 7, max_leaf_nodes=i)\n",
        "    decision_tree_model.fit(x_train, y_bool_train)\n",
        "    y_pred = decision_tree_model.predict(x_train)\n",
        "    cv_results = cross_validate(decision_tree_model, x_train, y_bool_train)\n",
        "    score = np.mean(cv_results['test_score'])\n",
        "    best_nodes.append(score)\n",
        "print(best_nodes.index(max(best_nodes)))"
      ]
    },
    {
      "cell_type": "code",
      "execution_count": 61,
      "metadata": {
        "id": "PLhttJWj1t7S"
      },
      "outputs": [
        {
          "data": {
            "text/plain": [
              "0.609413990373793"
            ]
          },
          "execution_count": 61,
          "metadata": {},
          "output_type": "execute_result"
        }
      ],
      "source": [
        "decision_tree_model = DecisionTreeClassifier(criterion='entropy', max_depth = 7, max_leaf_nodes=70)\n",
        "decision_tree_model.fit(x_train, y_bool_train)\n",
        "y_pred = decision_tree_model.predict(x_train)\n",
        "cv_results = cross_validate(decision_tree_model, x_train, y_bool_train)\n",
        "score = np.mean(cv_results['test_score'])\n",
        "score"
      ]
    },
    {
      "cell_type": "code",
      "execution_count": 62,
      "metadata": {
        "id": "7ToI_8O91t7U"
      },
      "outputs": [
        {
          "data": {
            "text/plain": [
              "{'fit_time': array([1.13363194, 1.11023402, 1.130615  , 1.20889711, 1.24005699]),\n",
              " 'score_time': array([0.16472697, 0.15137601, 0.110852  , 0.14794898, 0.23236108]),\n",
              " 'test_score': array([0.61008962, 0.61504343, 0.61411939, 0.61097764, 0.61735354])}"
            ]
          },
          "execution_count": 62,
          "metadata": {},
          "output_type": "execute_result"
        }
      ],
      "source": [
        "clf = BaggingClassifier(base_estimator = DecisionTreeClassifier(criterion='entropy', max_depth = 7,max_leaf_nodes=70))\n",
        "clf.fit(x_train, y_bool_train)\n",
        "cv_results = cross_validate(clf, x_train, y_bool_train)\n",
        "cv_results"
      ]
    },
    {
      "cell_type": "code",
      "execution_count": 63,
      "metadata": {
        "id": "TtevlnzC1t7Y"
      },
      "outputs": [
        {
          "data": {
            "text/plain": [
              "{'fit_time': array([1.02169609, 1.44342279, 1.25888896, 1.25342798, 1.0309751 ]),\n",
              " 'score_time': array([0.40452981, 0.31433201, 0.43334103, 0.26538682, 0.34982014]),\n",
              " 'test_score': array([0.59863254, 0.61291813, 0.59942709, 0.60728146, 0.61107004])}"
            ]
          },
          "execution_count": 63,
          "metadata": {},
          "output_type": "execute_result"
        }
      ],
      "source": [
        "clf = []\n",
        "for i in range(10):\n",
        "    clf.append(DecisionTreeClassifier(criterion='entropy', max_depth = 7,max_leaf_nodes=70,max_features='sqrt'))\n",
        "eclf1 = VotingClassifier(estimators=[('clf1', clf[0]), \n",
        "                                     ('clf2', clf[1]), \n",
        "                                     ('clf3', clf[2]), \n",
        "                                     ('clf4', clf[3]), \n",
        "                                     ('clf5', clf[4]), \n",
        "                                     ('clf6', clf[5]), \n",
        "                                     ('clf7', clf[6]), \n",
        "                                     ('clf8', clf[7]), \n",
        "                                     ('clf9', clf[8]), \n",
        "                                     ('clf10', clf[9])], voting='hard')\n",
        "eclf1 = eclf1.fit(x_train, y_bool_train)\n",
        "cv_results = cross_validate(eclf1, x_train, y_bool_train)\n",
        "cv_results"
      ]
    },
    {
      "cell_type": "code",
      "execution_count": 64,
      "metadata": {
        "id": "bsAc914y1t7b"
      },
      "outputs": [
        {
          "data": {
            "text/plain": [
              "0.6027498521584861"
            ]
          },
          "execution_count": 64,
          "metadata": {},
          "output_type": "execute_result"
        }
      ],
      "source": [
        "aclf = AdaBoostClassifier(base_estimator = DecisionTreeClassifier(criterion='entropy', max_depth = 7,max_leaf_nodes=70,max_features='sqrt'))\n",
        "aclf.fit(x_train,y_bool_train)\n",
        "aclf.score(x_test,y_bool_test)"
      ]
    },
    {
      "cell_type": "code",
      "execution_count": 65,
      "metadata": {
        "id": "V0uJbabH1t7d"
      },
      "outputs": [
        {
          "data": {
            "text/plain": [
              "0.581682436428149"
            ]
          },
          "execution_count": 65,
          "metadata": {},
          "output_type": "execute_result"
        }
      ],
      "source": [
        "rclf = RandomForestClassifier()\n",
        "rclf.fit(x_train,y_bool_train)\n",
        "rclf.score(x_test,y_bool_test)"
      ]
    },
    {
      "cell_type": "code",
      "execution_count": 66,
      "metadata": {
        "id": "_GV_GDZf1t7f"
      },
      "outputs": [
        {
          "data": {
            "text/plain": [
              "0.5778385570668244"
            ]
          },
          "execution_count": 66,
          "metadata": {},
          "output_type": "execute_result"
        }
      ],
      "source": [
        "eclf = ExtraTreesClassifier()\n",
        "eclf.fit(x_train,y_bool_train)\n",
        "eclf.score(x_test,y_bool_test)"
      ]
    },
    {
      "cell_type": "code",
      "execution_count": 67,
      "metadata": {
        "id": "SKsb1B_a1t7g"
      },
      "outputs": [
        {
          "data": {
            "text/plain": [
              "0.61428149024246"
            ]
          },
          "execution_count": 67,
          "metadata": {},
          "output_type": "execute_result"
        }
      ],
      "source": [
        "hclf = HistGradientBoostingClassifier()\n",
        "hclf.fit(x_train,y_bool_train)\n",
        "hclf.score(x_test,y_bool_test)"
      ]
    },
    {
      "cell_type": "code",
      "execution_count": 68,
      "metadata": {
        "id": "fF2CF44V1t7h"
      },
      "outputs": [
        {
          "data": {
            "text/plain": [
              "0.6103636901241869"
            ]
          },
          "execution_count": 68,
          "metadata": {},
          "output_type": "execute_result"
        }
      ],
      "source": [
        "estimators = [('dt', DecisionTreeClassifier(criterion='entropy', max_depth = 7,max_leaf_nodes=70,max_features='sqrt')),('rf',RandomForestClassifier())]\n",
        "sclf = StackingClassifier(estimators=estimators, final_estimator=LogisticRegression())\n",
        "sclf.fit(x_train,y_bool_train)\n",
        "sclf.score(x_test,y_bool_test)"
      ]
    },
    {
      "cell_type": "markdown",
      "metadata": {},
      "source": [
        "Visualizations"
      ]
    },
    {
      "cell_type": "code",
      "execution_count": 72,
      "metadata": {},
      "outputs": [
        {
          "data": {
            "image/png": "[encoded data removed]",
            "text/plain": [
              "<Figure size 720x360 with 1 Axes>"
            ]
          },
          "metadata": {
            "needs_background": "light"
          },
          "output_type": "display_data"
        }
      ],
      "source": [
        "vis_data = {'KNN': 0.5711884227452126, 'Neural Nets':0.5800321590410759, 'Random Forest': 0.6016410408042578, 'Gradient Boosting': 0.6036369012418688, 'Ensemble Model':0.61428149024246}\n",
        "methods = list(vis_data.keys())\n",
        "values = list(vis_data.values())\n",
        "fig = plt.figure(figsize = (10, 5))\n",
        " \n",
        "plt.bar(methods, values, color ='maroon', width = 0.4)\n",
        "ax = plt.gca()\n",
        "ax.set_ylim([0.5, 0.65])\n",
        "plt.xlabel(\"ML Method\")\n",
        "plt.ylabel(\"Accuracy\")\n",
        "plt.title(\"Accuracy for all the models\")\n",
        "plt.show()"
      ]
    }
  ],
  "metadata": {
    "accelerator": "GPU",
    "colab": {
      "provenance": []
    },
    "gpuClass": "standard",
    "kernelspec": {
      "display_name": "Python 3.9.12 ('base')",
      "language": "python",
      "name": "python3"
    },
    "language_info": {
      "codemirror_mode": {
        "name": "ipython",
        "version": 3
      },
      "file_extension": ".py",
      "mimetype": "text/x-python",
      "name": "python",
      "nbconvert_exporter": "python",
      "pygments_lexer": "ipython3",
      "version": "3.9.12"
    },
    "vscode": {
      "interpreter": {
        "hash": "861d1558aefcf33bd47063bd8115b8b386b776d6787af849a7341cedbeb6e451"
      }
    }
  },
  "nbformat": 4,
  "nbformat_minor": 0
}
