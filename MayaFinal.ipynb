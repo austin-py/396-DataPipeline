{
 "cells": [
  {
   "cell_type": "markdown",
   "metadata": {},
   "source": [
    "Create Dataset"
   ]
  },
  {
   "cell_type": "code",
   "execution_count": 1,
   "metadata": {},
   "outputs": [],
   "source": [
    "import pandas as pd\n",
    "import numpy as np\n",
    "\n",
    "first_df=pd.read_csv('Arrests_cleaned.csv')"
   ]
  },
  {
   "cell_type": "code",
   "execution_count": 2,
   "metadata": {},
   "outputs": [],
   "source": [
    "import requests, json\n",
    "r = requests.get('https://data.cityofchicago.org/resource/crimes.json?$limit=600000')\n",
    "data = r.json()\n",
    "sec_df = pd.DataFrame(data)\n",
    "sec_df = sec_df[['case_number','ward','district']]"
   ]
  },
  {
   "cell_type": "code",
   "execution_count": 3,
   "metadata": {},
   "outputs": [
    {
     "name": "stdout",
     "output_type": "stream",
     "text": [
      "68416\n"
     ]
    },
    {
     "data": {
      "text/html": [
       "<div>\n",
       "<style scoped>\n",
       "    .dataframe tbody tr th:only-of-type {\n",
       "        vertical-align: middle;\n",
       "    }\n",
       "\n",
       "    .dataframe tbody tr th {\n",
       "        vertical-align: top;\n",
       "    }\n",
       "\n",
       "    .dataframe thead th {\n",
       "        text-align: right;\n",
       "    }\n",
       "</style>\n",
       "<table border=\"1\" class=\"dataframe\">\n",
       "  <thead>\n",
       "    <tr style=\"text-align: right;\">\n",
       "      <th></th>\n",
       "      <th>id</th>\n",
       "      <th>case_number</th>\n",
       "      <th>date_month</th>\n",
       "      <th>date_day</th>\n",
       "      <th>date_year</th>\n",
       "      <th>time</th>\n",
       "      <th>meridiem</th>\n",
       "      <th>race</th>\n",
       "      <th>charge_1_statute</th>\n",
       "      <th>charge_1_description</th>\n",
       "      <th>...</th>\n",
       "      <th>charge_4_statute</th>\n",
       "      <th>charge_4_description</th>\n",
       "      <th>charge_4_type</th>\n",
       "      <th>charge_4_class</th>\n",
       "      <th>CHARGES STATUTE</th>\n",
       "      <th>CHARGES DESCRIPTION</th>\n",
       "      <th>CHARGES TYPE</th>\n",
       "      <th>CHARGES CLASS</th>\n",
       "      <th>ward</th>\n",
       "      <th>district</th>\n",
       "    </tr>\n",
       "  </thead>\n",
       "  <tbody>\n",
       "    <tr>\n",
       "      <th>0</th>\n",
       "      <td>30039812</td>\n",
       "      <td>JE183770</td>\n",
       "      <td>3</td>\n",
       "      <td>30</td>\n",
       "      <td>2021</td>\n",
       "      <td>12:10:00</td>\n",
       "      <td>AM</td>\n",
       "      <td>WHITE HISPANIC</td>\n",
       "      <td>720 ILCS 5.0/12-3.2-A-1</td>\n",
       "      <td>DOMESTIC BATTERY - BODILY HARM</td>\n",
       "      <td>...</td>\n",
       "      <td>NaN</td>\n",
       "      <td>NaN</td>\n",
       "      <td>NaN</td>\n",
       "      <td>NaN</td>\n",
       "      <td>720 ILCS 5.0/12-3.2-A-1 |  |  |</td>\n",
       "      <td>DOMESTIC BATTERY - BODILY HARM |  |  |</td>\n",
       "      <td>M |  |  |</td>\n",
       "      <td>A |  |  |</td>\n",
       "      <td>14</td>\n",
       "      <td>008</td>\n",
       "    </tr>\n",
       "  </tbody>\n",
       "</table>\n",
       "<p>1 rows × 30 columns</p>\n",
       "</div>"
      ],
      "text/plain": [
       "         id case_number  date_month  date_day  date_year      time meridiem  \\\n",
       "0  30039812    JE183770           3        30       2021  12:10:00       AM   \n",
       "\n",
       "             race         charge_1_statute            charge_1_description  \\\n",
       "0  WHITE HISPANIC  720 ILCS 5.0/12-3.2-A-1  DOMESTIC BATTERY - BODILY HARM   \n",
       "\n",
       "   ... charge_4_statute charge_4_description charge_4_type charge_4_class  \\\n",
       "0  ...              NaN                  NaN           NaN            NaN   \n",
       "\n",
       "                   CHARGES STATUTE                     CHARGES DESCRIPTION  \\\n",
       "0  720 ILCS 5.0/12-3.2-A-1 |  |  |  DOMESTIC BATTERY - BODILY HARM |  |  |   \n",
       "\n",
       "  CHARGES TYPE CHARGES CLASS ward district  \n",
       "0    M |  |  |     A |  |  |   14      008  \n",
       "\n",
       "[1 rows x 30 columns]"
      ]
     },
     "execution_count": 3,
     "metadata": {},
     "output_type": "execute_result"
    }
   ],
   "source": [
    "merged_df = pd.merge(first_df, sec_df, on=\"case_number\")\n",
    "print(len(merged_df))\n",
    "merged_df.head(1)"
   ]
  },
  {
   "cell_type": "code",
   "execution_count": 4,
   "metadata": {},
   "outputs": [
    {
     "data": {
      "text/html": [
       "<div>\n",
       "<style scoped>\n",
       "    .dataframe tbody tr th:only-of-type {\n",
       "        vertical-align: middle;\n",
       "    }\n",
       "\n",
       "    .dataframe tbody tr th {\n",
       "        vertical-align: top;\n",
       "    }\n",
       "\n",
       "    .dataframe thead th {\n",
       "        text-align: right;\n",
       "    }\n",
       "</style>\n",
       "<table border=\"1\" class=\"dataframe\">\n",
       "  <thead>\n",
       "    <tr style=\"text-align: right;\">\n",
       "      <th></th>\n",
       "      <th>race</th>\n",
       "      <th>ward</th>\n",
       "      <th>district</th>\n",
       "      <th>date_day</th>\n",
       "      <th>date_year</th>\n",
       "      <th>charge_1_type</th>\n",
       "    </tr>\n",
       "  </thead>\n",
       "  <tbody>\n",
       "    <tr>\n",
       "      <th>0</th>\n",
       "      <td>3</td>\n",
       "      <td>14</td>\n",
       "      <td>008</td>\n",
       "      <td>30</td>\n",
       "      <td>2021</td>\n",
       "      <td>M</td>\n",
       "    </tr>\n",
       "  </tbody>\n",
       "</table>\n",
       "</div>"
      ],
      "text/plain": [
       "   race ward district  date_day  date_year charge_1_type\n",
       "0     3   14      008        30       2021             M"
      ]
     },
     "execution_count": 4,
     "metadata": {},
     "output_type": "execute_result"
    }
   ],
   "source": [
    "races = {'BLACK': 1, 'WHITE': 2, 'WHITE HISPANIC': 3, 'BLACK HISPANIC': 4, 'ASIAN / PACIFIC ISLANDER': 5, 'AMER INDIAN / ALASKAN NATIVE': 6, 'UNKNOWN / REFUSED': 7}\n",
    "merged_df['race'] = merged_df['race'].apply(lambda x: races[x])\n",
    "merged_df = merged_df[['race','ward','district','date_day','date_year','charge_1_type']].dropna()\n",
    "merged_df.head(1)\n"
   ]
  },
  {
   "cell_type": "code",
   "execution_count": 5,
   "metadata": {},
   "outputs": [],
   "source": [
    "from sklearn.model_selection import train_test_split\n",
    "\n",
    "x = merged_df[['race','ward','district','date_day','date_year']]\n",
    "y = merged_df[['charge_1_type']]\n",
    "x_train, x_test, y_train, y_test = train_test_split(x, y, test_size=0.2, random_state=2)"
   ]
  },
  {
   "cell_type": "markdown",
   "metadata": {},
   "source": [
    "KNN"
   ]
  },
  {
   "cell_type": "code",
   "execution_count": 9,
   "metadata": {},
   "outputs": [
    {
     "name": "stderr",
     "output_type": "stream",
     "text": [
      "/Library/Frameworks/Python.framework/Versions/3.8/lib/python3.8/site-packages/sklearn/neighbors/_classification.py:207: DataConversionWarning: A column-vector y was passed when a 1d array was expected. Please change the shape of y to (n_samples,), for example using ravel().\n",
      "  return self._fit(X, y)\n"
     ]
    },
    {
     "name": "stdout",
     "output_type": "stream",
     "text": [
      "score =  0.5600789358280953\n"
     ]
    },
    {
     "name": "stderr",
     "output_type": "stream",
     "text": [
      "/Library/Frameworks/Python.framework/Versions/3.8/lib/python3.8/site-packages/sklearn/neighbors/_classification.py:207: DataConversionWarning: A column-vector y was passed when a 1d array was expected. Please change the shape of y to (n_samples,), for example using ravel().\n",
      "  return self._fit(X, y)\n"
     ]
    },
    {
     "name": "stdout",
     "output_type": "stream",
     "text": [
      "score =  0.5604443794766847\n"
     ]
    },
    {
     "name": "stderr",
     "output_type": "stream",
     "text": [
      "/Library/Frameworks/Python.framework/Versions/3.8/lib/python3.8/site-packages/sklearn/neighbors/_classification.py:207: DataConversionWarning: A column-vector y was passed when a 1d array was expected. Please change the shape of y to (n_samples,), for example using ravel().\n",
      "  return self._fit(X, y)\n"
     ]
    },
    {
     "name": "stdout",
     "output_type": "stream",
     "text": [
      "score =  0.5595673147200702\n"
     ]
    }
   ],
   "source": [
    "from sklearn.preprocessing import MinMaxScaler\n",
    "from sklearn.preprocessing import StandardScaler\n",
    "from sklearn.decomposition import PCA\n",
    "from  sklearn.neighbors import KNeighborsClassifier\n",
    "from sklearn.pipeline import make_pipeline\n",
    "\n",
    "knn = KNeighborsClassifier(n_neighbors=5)\n",
    "scalers = [MinMaxScaler(), StandardScaler(), PCA()]\n",
    "for scaling in scalers:\n",
    "    pipe = make_pipeline(scaling, knn)\n",
    "    pipe.fit(x_train,y_train)\n",
    "    y_pred = pipe.predict(x_test)\n",
    "    length = len(y_pred)\n",
    "    correct = 0\n",
    "    concat = np.array(y_test['charge_1_type'])\n",
    "    for y in range(length):\n",
    "        if concat[y] == y_pred[y]:\n",
    "            correct += 1\n",
    "    score = correct/length\n",
    "    print(\"score = \", score)"
   ]
  },
  {
   "cell_type": "markdown",
   "metadata": {},
   "source": [
    "Neural Network"
   ]
  },
  {
   "cell_type": "code",
   "execution_count": 6,
   "metadata": {},
   "outputs": [],
   "source": [
    "from statistics import mean \n",
    "\n",
    "from sklearn.neural_network import MLPClassifier\n",
    "from sklearn.neural_network import MLPRegressor\n",
    "\n",
    "from sklearn.model_selection import GridSearchCV\n",
    "from sklearn.model_selection import cross_val_score"
   ]
  },
  {
   "cell_type": "code",
   "execution_count": 7,
   "metadata": {},
   "outputs": [
    {
     "name": "stdout",
     "output_type": "stream",
     "text": [
      "0.44949568776494664\n"
     ]
    }
   ],
   "source": [
    "\n",
    "net_classifier = MLPClassifier()\n",
    "net_classifier.fit(x_train,y_train['charge_1_type'].tolist())\n",
    "classifier_preds = net_classifier.predict(x_test)\n",
    "score = net_classifier.score(x_test,y_test)\n",
    "print(score)\n"
   ]
  },
  {
   "cell_type": "code",
   "execution_count": 11,
   "metadata": {},
   "outputs": [
    {
     "name": "stdout",
     "output_type": "stream",
     "text": [
      "MinMaxScore = 0.5770355211226429\n",
      "StandardScaler = 0.5843443940944306\n",
      "PCA = 0.5811284899868441\n"
     ]
    }
   ],
   "source": [
    "scalers = [MinMaxScaler(), StandardScaler(), PCA()]\n",
    "scores = []\n",
    "for scaling in scalers:\n",
    "    pipe = make_pipeline(scaling, net_classifier)\n",
    "    pipe.fit(x_train,y_train['charge_1_type'].tolist())\n",
    "    scores.append(pipe.score(x_test,y_test))\n",
    "\n",
    "print(\"MinMaxScore =\",scores[0])\n",
    "print(\"StandardScaler =\",scores[1])\n",
    "print(\"PCA =\",scores[2])"
   ]
  },
  {
   "cell_type": "code",
   "execution_count": 18,
   "metadata": {},
   "outputs": [
    {
     "name": "stderr",
     "output_type": "stream",
     "text": [
      "/Library/Frameworks/Python.framework/Versions/3.8/lib/python3.8/site-packages/sklearn/model_selection/_split.py:684: UserWarning: The least populated class in y has only 1 members, which is less than n_splits=5.\n",
      "  warnings.warn(\n"
     ]
    },
    {
     "name": "stdout",
     "output_type": "stream",
     "text": [
      "0.5097208010524777\n"
     ]
    }
   ],
   "source": [
    "parameters = {\n",
    "    # 'solver': ['lbfgs', 'sgd', 'adam'],\n",
    "    # 'activation' : ['identity', 'logistic', 'tanh', 'relu'],\n",
    "    # 'alpha' : [0.001, 0.01,0.0001,0.002,0.003,0.004,0.005,0.006,0.007,0.008,0.009],\n",
    "    'learning_rate' : ['constant', 'invscaling', 'adaptive'],\n",
    "    # 'learning_rate_init' : [0.001,0.002,0.0001,0.0011,0.0009],\n",
    "    'random_state':[0,100,200,300,400,500],\n",
    "}\n",
    "\n",
    "search = GridSearchCV(net_classifier,parameters)\n",
    "search.fit(x_train,y_train['charge_1_type'].tolist())\n",
    "\n",
    "best = search.best_estimator_\n",
    "best_score = best.score(x_test,y_test)\n",
    "print(best_score)\n",
    "# scores = cross_val_score(best,x_test,y_test,cv=5)\n",
    "# avg_score = mean(scores)\n",
    "# print(avg_score)\n"
   ]
  },
  {
   "cell_type": "code",
   "execution_count": 19,
   "metadata": {},
   "outputs": [
    {
     "name": "stderr",
     "output_type": "stream",
     "text": [
      "/Library/Frameworks/Python.framework/Versions/3.8/lib/python3.8/site-packages/sklearn/neural_network/_multilayer_perceptron.py:702: ConvergenceWarning: Stochastic Optimizer: Maximum iterations (200) reached and the optimization hasn't converged yet.\n",
      "  warnings.warn(\n"
     ]
    },
    {
     "name": "stdout",
     "output_type": "stream",
     "text": [
      "MinMaxScore = 0.5791550942844613\n",
      "StandardScaler = 0.5768162549334892\n",
      "PCA = 0.5845636602835843\n"
     ]
    }
   ],
   "source": [
    "scores = []\n",
    "for scaling in scalers:\n",
    "    pipe = make_pipeline(scaling, best)\n",
    "    pipe.fit(x_train,y_train['charge_1_type'].tolist())\n",
    "    scores.append(pipe.score(x_test,y_test))\n",
    "\n",
    "print(\"MinMaxScore =\",scores[0])\n",
    "print(\"StandardScaler =\",scores[1])\n",
    "print(\"PCA =\",scores[2])"
   ]
  }
 ],
 "metadata": {
  "kernelspec": {
   "display_name": "Python 3.8.5 64-bit",
   "language": "python",
   "name": "python3"
  },
  "language_info": {
   "codemirror_mode": {
    "name": "ipython",
    "version": 3
   },
   "file_extension": ".py",
   "mimetype": "text/x-python",
   "name": "python",
   "nbconvert_exporter": "python",
   "pygments_lexer": "ipython3",
   "version": "3.8.5"
  },
  "vscode": {
   "interpreter": {
    "hash": "aee8b7b246df8f9039afb4144a1f6fd8d2ca17a180786b69acc140d282b71a49"
   }
  }
 },
 "nbformat": 4,
 "nbformat_minor": 4
}
