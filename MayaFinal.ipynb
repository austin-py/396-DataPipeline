{
 "cells": [
  {
   "cell_type": "code",
   "execution_count": 13,
   "metadata": {},
   "outputs": [],
   "source": [
    "import pandas as pd\n",
    "import numpy as np\n",
    "\n",
    "first_df=pd.read_csv('Arrests_cleaned.csv')"
   ]
  },
  {
   "cell_type": "code",
   "execution_count": 22,
   "metadata": {},
   "outputs": [],
   "source": [
    "import requests, json\n",
    "r = requests.get('https://data.cityofchicago.org/resource/crimes.json?$limit=600000')\n",
    "data = r.json()\n",
    "sec_df = pd.DataFrame(data)\n",
    "sec_df = sec_df[['case_number','ward','district']]"
   ]
  },
  {
   "cell_type": "code",
   "execution_count": 24,
   "metadata": {},
   "outputs": [
    {
     "name": "stdout",
     "output_type": "stream",
     "text": [
      "69054\n"
     ]
    },
    {
     "data": {
      "text/html": [
       "<div>\n",
       "<style scoped>\n",
       "    .dataframe tbody tr th:only-of-type {\n",
       "        vertical-align: middle;\n",
       "    }\n",
       "\n",
       "    .dataframe tbody tr th {\n",
       "        vertical-align: top;\n",
       "    }\n",
       "\n",
       "    .dataframe thead th {\n",
       "        text-align: right;\n",
       "    }\n",
       "</style>\n",
       "<table border=\"1\" class=\"dataframe\">\n",
       "  <thead>\n",
       "    <tr style=\"text-align: right;\">\n",
       "      <th></th>\n",
       "      <th>id</th>\n",
       "      <th>case_number</th>\n",
       "      <th>date_month</th>\n",
       "      <th>date_day</th>\n",
       "      <th>date_year</th>\n",
       "      <th>time</th>\n",
       "      <th>meridiem</th>\n",
       "      <th>race</th>\n",
       "      <th>charge_1_statute</th>\n",
       "      <th>charge_1_description</th>\n",
       "      <th>...</th>\n",
       "      <th>charge_4_statute</th>\n",
       "      <th>charge_4_description</th>\n",
       "      <th>charge_4_type</th>\n",
       "      <th>charge_4_class</th>\n",
       "      <th>CHARGES STATUTE</th>\n",
       "      <th>CHARGES DESCRIPTION</th>\n",
       "      <th>CHARGES TYPE</th>\n",
       "      <th>CHARGES CLASS</th>\n",
       "      <th>ward</th>\n",
       "      <th>district</th>\n",
       "    </tr>\n",
       "  </thead>\n",
       "  <tbody>\n",
       "    <tr>\n",
       "      <th>0</th>\n",
       "      <td>30039812</td>\n",
       "      <td>JE183770</td>\n",
       "      <td>3</td>\n",
       "      <td>30</td>\n",
       "      <td>2021</td>\n",
       "      <td>12:10:00</td>\n",
       "      <td>AM</td>\n",
       "      <td>WHITE HISPANIC</td>\n",
       "      <td>720 ILCS 5.0/12-3.2-A-1</td>\n",
       "      <td>DOMESTIC BATTERY - BODILY HARM</td>\n",
       "      <td>...</td>\n",
       "      <td>NaN</td>\n",
       "      <td>NaN</td>\n",
       "      <td>NaN</td>\n",
       "      <td>NaN</td>\n",
       "      <td>720 ILCS 5.0/12-3.2-A-1 |  |  |</td>\n",
       "      <td>DOMESTIC BATTERY - BODILY HARM |  |  |</td>\n",
       "      <td>M |  |  |</td>\n",
       "      <td>A |  |  |</td>\n",
       "      <td>14</td>\n",
       "      <td>008</td>\n",
       "    </tr>\n",
       "  </tbody>\n",
       "</table>\n",
       "<p>1 rows × 30 columns</p>\n",
       "</div>"
      ],
      "text/plain": [
       "         id case_number  date_month  date_day  date_year      time meridiem  \\\n",
       "0  30039812    JE183770           3        30       2021  12:10:00       AM   \n",
       "\n",
       "             race         charge_1_statute            charge_1_description  \\\n",
       "0  WHITE HISPANIC  720 ILCS 5.0/12-3.2-A-1  DOMESTIC BATTERY - BODILY HARM   \n",
       "\n",
       "   ... charge_4_statute charge_4_description charge_4_type charge_4_class  \\\n",
       "0  ...              NaN                  NaN           NaN            NaN   \n",
       "\n",
       "                   CHARGES STATUTE                     CHARGES DESCRIPTION  \\\n",
       "0  720 ILCS 5.0/12-3.2-A-1 |  |  |  DOMESTIC BATTERY - BODILY HARM |  |  |   \n",
       "\n",
       "  CHARGES TYPE CHARGES CLASS ward district  \n",
       "0    M |  |  |     A |  |  |   14      008  \n",
       "\n",
       "[1 rows x 30 columns]"
      ]
     },
     "execution_count": 24,
     "metadata": {},
     "output_type": "execute_result"
    }
   ],
   "source": [
    "merged_df = pd.merge(first_df, sec_df, on=\"case_number\")\n",
    "print(len(merged_df))\n",
    "merged_df.head(1)"
   ]
  },
  {
   "cell_type": "code",
   "execution_count": 25,
   "metadata": {},
   "outputs": [],
   "source": [
    "from sklearn.model_selection import train_test_split\n",
    "\n",
    "x = merged_df[['race','ward','district','date_year','date_year']]\n",
    "y = merged_df[['charge_1_type']]\n",
    "x_train, x_test, y_train, y_test = train_test_split(x, y, test_size=0.2, random_state=2)"
   ]
  },
  {
   "cell_type": "code",
   "execution_count": null,
   "metadata": {},
   "outputs": [],
   "source": [
    "from sklearn.preprocessing import MinMaxScaler\n",
    "from sklearn.preprocessing import StandardScaler\n",
    "from sklearn.decomposition import PCA\n"
   ]
  }
 ],
 "metadata": {
  "kernelspec": {
   "display_name": "Python 3.9.12 ('base')",
   "language": "python",
   "name": "python3"
  },
  "language_info": {
   "codemirror_mode": {
    "name": "ipython",
    "version": 3
   },
   "file_extension": ".py",
   "mimetype": "text/x-python",
   "name": "python",
   "nbconvert_exporter": "python",
   "pygments_lexer": "ipython3",
   "version": "3.9.12"
  },
  "vscode": {
   "interpreter": {
    "hash": "861d1558aefcf33bd47063bd8115b8b386b776d6787af849a7341cedbeb6e451"
   }
  }
 },
 "nbformat": 4,
 "nbformat_minor": 4
}
