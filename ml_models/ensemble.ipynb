{
 "cells": [
  {
   "cell_type": "code",
   "execution_count": 1,
   "metadata": {},
   "outputs": [],
   "source": [
    "import warnings\n",
    "warnings.filterwarnings(\"ignore\")"
   ]
  },
  {
   "cell_type": "markdown",
   "metadata": {},
   "source": [
    "Create Dataset"
   ]
  },
  {
   "cell_type": "code",
   "execution_count": 2,
   "metadata": {},
   "outputs": [],
   "source": [
    "import pandas as pd\n",
    "import numpy as np\n",
    "\n",
    "first_df=pd.read_csv('Arrests_cleaned.csv')"
   ]
  },
  {
   "cell_type": "code",
   "execution_count": 3,
   "metadata": {},
   "outputs": [],
   "source": [
    "import requests, json\n",
    "r = requests.get('https://data.cityofchicago.org/resource/crimes.json?$limit=600000')\n",
    "data = r.json()\n",
    "sec_df = pd.DataFrame(data)\n",
    "sec_df = sec_df[['case_number','ward','district']]"
   ]
  },
  {
   "cell_type": "code",
   "execution_count": 4,
   "metadata": {},
   "outputs": [
    {
     "name": "stdout",
     "output_type": "stream",
     "text": [
      "68416\n"
     ]
    },
    {
     "data": {
      "text/html": [
       "<div>\n",
       "<style scoped>\n",
       "    .dataframe tbody tr th:only-of-type {\n",
       "        vertical-align: middle;\n",
       "    }\n",
       "\n",
       "    .dataframe tbody tr th {\n",
       "        vertical-align: top;\n",
       "    }\n",
       "\n",
       "    .dataframe thead th {\n",
       "        text-align: right;\n",
       "    }\n",
       "</style>\n",
       "<table border=\"1\" class=\"dataframe\">\n",
       "  <thead>\n",
       "    <tr style=\"text-align: right;\">\n",
       "      <th></th>\n",
       "      <th>id</th>\n",
       "      <th>case_number</th>\n",
       "      <th>date_month</th>\n",
       "      <th>date_day</th>\n",
       "      <th>date_year</th>\n",
       "      <th>time</th>\n",
       "      <th>meridiem</th>\n",
       "      <th>race</th>\n",
       "      <th>charge_1_statute</th>\n",
       "      <th>charge_1_description</th>\n",
       "      <th>...</th>\n",
       "      <th>charge_4_statute</th>\n",
       "      <th>charge_4_description</th>\n",
       "      <th>charge_4_type</th>\n",
       "      <th>charge_4_class</th>\n",
       "      <th>CHARGES STATUTE</th>\n",
       "      <th>CHARGES DESCRIPTION</th>\n",
       "      <th>CHARGES TYPE</th>\n",
       "      <th>CHARGES CLASS</th>\n",
       "      <th>ward</th>\n",
       "      <th>district</th>\n",
       "    </tr>\n",
       "  </thead>\n",
       "  <tbody>\n",
       "    <tr>\n",
       "      <th>0</th>\n",
       "      <td>30039812</td>\n",
       "      <td>JE183770</td>\n",
       "      <td>3</td>\n",
       "      <td>30</td>\n",
       "      <td>2021</td>\n",
       "      <td>12:10:00</td>\n",
       "      <td>AM</td>\n",
       "      <td>WHITE HISPANIC</td>\n",
       "      <td>720 ILCS 5.0/12-3.2-A-1</td>\n",
       "      <td>DOMESTIC BATTERY - BODILY HARM</td>\n",
       "      <td>...</td>\n",
       "      <td>NaN</td>\n",
       "      <td>NaN</td>\n",
       "      <td>NaN</td>\n",
       "      <td>NaN</td>\n",
       "      <td>720 ILCS 5.0/12-3.2-A-1 |  |  |</td>\n",
       "      <td>DOMESTIC BATTERY - BODILY HARM |  |  |</td>\n",
       "      <td>M |  |  |</td>\n",
       "      <td>A |  |  |</td>\n",
       "      <td>14</td>\n",
       "      <td>008</td>\n",
       "    </tr>\n",
       "  </tbody>\n",
       "</table>\n",
       "<p>1 rows × 30 columns</p>\n",
       "</div>"
      ],
      "text/plain": [
       "         id case_number  date_month  date_day  date_year      time meridiem  \\\n",
       "0  30039812    JE183770           3        30       2021  12:10:00       AM   \n",
       "\n",
       "             race         charge_1_statute            charge_1_description  \\\n",
       "0  WHITE HISPANIC  720 ILCS 5.0/12-3.2-A-1  DOMESTIC BATTERY - BODILY HARM   \n",
       "\n",
       "   ... charge_4_statute charge_4_description charge_4_type charge_4_class  \\\n",
       "0  ...              NaN                  NaN           NaN            NaN   \n",
       "\n",
       "                   CHARGES STATUTE                     CHARGES DESCRIPTION  \\\n",
       "0  720 ILCS 5.0/12-3.2-A-1 |  |  |  DOMESTIC BATTERY - BODILY HARM |  |  |   \n",
       "\n",
       "  CHARGES TYPE CHARGES CLASS ward district  \n",
       "0    M |  |  |     A |  |  |   14      008  \n",
       "\n",
       "[1 rows x 30 columns]"
      ]
     },
     "execution_count": 4,
     "metadata": {},
     "output_type": "execute_result"
    }
   ],
   "source": [
    "merged_df = pd.merge(first_df, sec_df, on=\"case_number\")\n",
    "print(len(merged_df))\n",
    "merged_df.head(1)"
   ]
  },
  {
   "cell_type": "code",
   "execution_count": 5,
   "metadata": {},
   "outputs": [
    {
     "data": {
      "text/html": [
       "<div>\n",
       "<style scoped>\n",
       "    .dataframe tbody tr th:only-of-type {\n",
       "        vertical-align: middle;\n",
       "    }\n",
       "\n",
       "    .dataframe tbody tr th {\n",
       "        vertical-align: top;\n",
       "    }\n",
       "\n",
       "    .dataframe thead th {\n",
       "        text-align: right;\n",
       "    }\n",
       "</style>\n",
       "<table border=\"1\" class=\"dataframe\">\n",
       "  <thead>\n",
       "    <tr style=\"text-align: right;\">\n",
       "      <th></th>\n",
       "      <th>race_WHITE HISPANIC</th>\n",
       "      <th>race_BLACK</th>\n",
       "      <th>race_BLACK HISPANIC</th>\n",
       "      <th>race_WHITE</th>\n",
       "      <th>race_ASIAN / PACIFIC ISLANDER</th>\n",
       "      <th>race_AMER INDIAN / ALASKAN NATIVE</th>\n",
       "      <th>race_UNKNOWN / REFUSED</th>\n",
       "    </tr>\n",
       "  </thead>\n",
       "  <tbody>\n",
       "    <tr>\n",
       "      <th>0</th>\n",
       "      <td>1</td>\n",
       "      <td>0</td>\n",
       "      <td>0</td>\n",
       "      <td>0</td>\n",
       "      <td>0</td>\n",
       "      <td>0</td>\n",
       "      <td>0</td>\n",
       "    </tr>\n",
       "    <tr>\n",
       "      <th>1</th>\n",
       "      <td>0</td>\n",
       "      <td>1</td>\n",
       "      <td>0</td>\n",
       "      <td>0</td>\n",
       "      <td>0</td>\n",
       "      <td>0</td>\n",
       "      <td>0</td>\n",
       "    </tr>\n",
       "    <tr>\n",
       "      <th>2</th>\n",
       "      <td>0</td>\n",
       "      <td>1</td>\n",
       "      <td>0</td>\n",
       "      <td>0</td>\n",
       "      <td>0</td>\n",
       "      <td>0</td>\n",
       "      <td>0</td>\n",
       "    </tr>\n",
       "    <tr>\n",
       "      <th>3</th>\n",
       "      <td>0</td>\n",
       "      <td>1</td>\n",
       "      <td>0</td>\n",
       "      <td>0</td>\n",
       "      <td>0</td>\n",
       "      <td>0</td>\n",
       "      <td>0</td>\n",
       "    </tr>\n",
       "    <tr>\n",
       "      <th>4</th>\n",
       "      <td>0</td>\n",
       "      <td>0</td>\n",
       "      <td>1</td>\n",
       "      <td>0</td>\n",
       "      <td>0</td>\n",
       "      <td>0</td>\n",
       "      <td>0</td>\n",
       "    </tr>\n",
       "    <tr>\n",
       "      <th>...</th>\n",
       "      <td>...</td>\n",
       "      <td>...</td>\n",
       "      <td>...</td>\n",
       "      <td>...</td>\n",
       "      <td>...</td>\n",
       "      <td>...</td>\n",
       "      <td>...</td>\n",
       "    </tr>\n",
       "    <tr>\n",
       "      <th>68411</th>\n",
       "      <td>0</td>\n",
       "      <td>0</td>\n",
       "      <td>1</td>\n",
       "      <td>0</td>\n",
       "      <td>0</td>\n",
       "      <td>0</td>\n",
       "      <td>0</td>\n",
       "    </tr>\n",
       "    <tr>\n",
       "      <th>68412</th>\n",
       "      <td>0</td>\n",
       "      <td>1</td>\n",
       "      <td>0</td>\n",
       "      <td>0</td>\n",
       "      <td>0</td>\n",
       "      <td>0</td>\n",
       "      <td>0</td>\n",
       "    </tr>\n",
       "    <tr>\n",
       "      <th>68413</th>\n",
       "      <td>0</td>\n",
       "      <td>1</td>\n",
       "      <td>0</td>\n",
       "      <td>0</td>\n",
       "      <td>0</td>\n",
       "      <td>0</td>\n",
       "      <td>0</td>\n",
       "    </tr>\n",
       "    <tr>\n",
       "      <th>68414</th>\n",
       "      <td>1</td>\n",
       "      <td>0</td>\n",
       "      <td>0</td>\n",
       "      <td>0</td>\n",
       "      <td>0</td>\n",
       "      <td>0</td>\n",
       "      <td>0</td>\n",
       "    </tr>\n",
       "    <tr>\n",
       "      <th>68415</th>\n",
       "      <td>0</td>\n",
       "      <td>1</td>\n",
       "      <td>0</td>\n",
       "      <td>0</td>\n",
       "      <td>0</td>\n",
       "      <td>0</td>\n",
       "      <td>0</td>\n",
       "    </tr>\n",
       "  </tbody>\n",
       "</table>\n",
       "<p>68416 rows × 7 columns</p>\n",
       "</div>"
      ],
      "text/plain": [
       "       race_WHITE HISPANIC  race_BLACK  race_BLACK HISPANIC  race_WHITE  \\\n",
       "0                        1           0                    0           0   \n",
       "1                        0           1                    0           0   \n",
       "2                        0           1                    0           0   \n",
       "3                        0           1                    0           0   \n",
       "4                        0           0                    1           0   \n",
       "...                    ...         ...                  ...         ...   \n",
       "68411                    0           0                    1           0   \n",
       "68412                    0           1                    0           0   \n",
       "68413                    0           1                    0           0   \n",
       "68414                    1           0                    0           0   \n",
       "68415                    0           1                    0           0   \n",
       "\n",
       "       race_ASIAN / PACIFIC ISLANDER  race_AMER INDIAN / ALASKAN NATIVE  \\\n",
       "0                                  0                                  0   \n",
       "1                                  0                                  0   \n",
       "2                                  0                                  0   \n",
       "3                                  0                                  0   \n",
       "4                                  0                                  0   \n",
       "...                              ...                                ...   \n",
       "68411                              0                                  0   \n",
       "68412                              0                                  0   \n",
       "68413                              0                                  0   \n",
       "68414                              0                                  0   \n",
       "68415                              0                                  0   \n",
       "\n",
       "       race_UNKNOWN / REFUSED  \n",
       "0                           0  \n",
       "1                           0  \n",
       "2                           0  \n",
       "3                           0  \n",
       "4                           0  \n",
       "...                       ...  \n",
       "68411                       0  \n",
       "68412                       0  \n",
       "68413                       0  \n",
       "68414                       0  \n",
       "68415                       0  \n",
       "\n",
       "[68416 rows x 7 columns]"
      ]
     },
     "execution_count": 5,
     "metadata": {},
     "output_type": "execute_result"
    }
   ],
   "source": [
    "races = merged_df.loc[:, \"race\"].unique().tolist()\n",
    "race_dummies = pd.get_dummies(merged_df, columns=[\"race\"])\n",
    "races = [\"race_\"+r for r in races]\n",
    "race_dummies = race_dummies[races]\n",
    "race_dummies"
   ]
  },
  {
   "cell_type": "code",
   "execution_count": 6,
   "metadata": {},
   "outputs": [],
   "source": [
    "\n",
    "merged_df = merged_df[['ward','district','date_day','date_year','charge_1_type']]\n",
    "\n",
    "merged_df = pd.concat([merged_df, race_dummies], axis=1).dropna()"
   ]
  },
  {
   "cell_type": "code",
   "execution_count": 7,
   "metadata": {},
   "outputs": [
    {
     "data": {
      "text/html": [
       "<div>\n",
       "<style scoped>\n",
       "    .dataframe tbody tr th:only-of-type {\n",
       "        vertical-align: middle;\n",
       "    }\n",
       "\n",
       "    .dataframe tbody tr th {\n",
       "        vertical-align: top;\n",
       "    }\n",
       "\n",
       "    .dataframe thead th {\n",
       "        text-align: right;\n",
       "    }\n",
       "</style>\n",
       "<table border=\"1\" class=\"dataframe\">\n",
       "  <thead>\n",
       "    <tr style=\"text-align: right;\">\n",
       "      <th></th>\n",
       "      <th>ward</th>\n",
       "      <th>district</th>\n",
       "      <th>date_day</th>\n",
       "      <th>date_year</th>\n",
       "      <th>charge_1_type</th>\n",
       "      <th>race_WHITE HISPANIC</th>\n",
       "      <th>race_BLACK</th>\n",
       "      <th>race_BLACK HISPANIC</th>\n",
       "      <th>race_WHITE</th>\n",
       "      <th>race_ASIAN / PACIFIC ISLANDER</th>\n",
       "      <th>race_AMER INDIAN / ALASKAN NATIVE</th>\n",
       "      <th>race_UNKNOWN / REFUSED</th>\n",
       "    </tr>\n",
       "  </thead>\n",
       "  <tbody>\n",
       "    <tr>\n",
       "      <th>0</th>\n",
       "      <td>14</td>\n",
       "      <td>008</td>\n",
       "      <td>30</td>\n",
       "      <td>2021</td>\n",
       "      <td>M</td>\n",
       "      <td>1</td>\n",
       "      <td>0</td>\n",
       "      <td>0</td>\n",
       "      <td>0</td>\n",
       "      <td>0</td>\n",
       "      <td>0</td>\n",
       "      <td>0</td>\n",
       "    </tr>\n",
       "    <tr>\n",
       "      <th>1</th>\n",
       "      <td>22</td>\n",
       "      <td>010</td>\n",
       "      <td>23</td>\n",
       "      <td>2021</td>\n",
       "      <td>M</td>\n",
       "      <td>0</td>\n",
       "      <td>1</td>\n",
       "      <td>0</td>\n",
       "      <td>0</td>\n",
       "      <td>0</td>\n",
       "      <td>0</td>\n",
       "      <td>0</td>\n",
       "    </tr>\n",
       "    <tr>\n",
       "      <th>2</th>\n",
       "      <td>7</td>\n",
       "      <td>004</td>\n",
       "      <td>16</td>\n",
       "      <td>2021</td>\n",
       "      <td>F</td>\n",
       "      <td>0</td>\n",
       "      <td>1</td>\n",
       "      <td>0</td>\n",
       "      <td>0</td>\n",
       "      <td>0</td>\n",
       "      <td>0</td>\n",
       "      <td>0</td>\n",
       "    </tr>\n",
       "    <tr>\n",
       "      <th>3</th>\n",
       "      <td>24</td>\n",
       "      <td>011</td>\n",
       "      <td>16</td>\n",
       "      <td>2021</td>\n",
       "      <td>F</td>\n",
       "      <td>0</td>\n",
       "      <td>1</td>\n",
       "      <td>0</td>\n",
       "      <td>0</td>\n",
       "      <td>0</td>\n",
       "      <td>0</td>\n",
       "      <td>0</td>\n",
       "    </tr>\n",
       "    <tr>\n",
       "      <th>4</th>\n",
       "      <td>13</td>\n",
       "      <td>008</td>\n",
       "      <td>16</td>\n",
       "      <td>2021</td>\n",
       "      <td>M</td>\n",
       "      <td>0</td>\n",
       "      <td>0</td>\n",
       "      <td>1</td>\n",
       "      <td>0</td>\n",
       "      <td>0</td>\n",
       "      <td>0</td>\n",
       "      <td>0</td>\n",
       "    </tr>\n",
       "    <tr>\n",
       "      <th>...</th>\n",
       "      <td>...</td>\n",
       "      <td>...</td>\n",
       "      <td>...</td>\n",
       "      <td>...</td>\n",
       "      <td>...</td>\n",
       "      <td>...</td>\n",
       "      <td>...</td>\n",
       "      <td>...</td>\n",
       "      <td>...</td>\n",
       "      <td>...</td>\n",
       "      <td>...</td>\n",
       "      <td>...</td>\n",
       "    </tr>\n",
       "    <tr>\n",
       "      <th>68411</th>\n",
       "      <td>22</td>\n",
       "      <td>010</td>\n",
       "      <td>7</td>\n",
       "      <td>2022</td>\n",
       "      <td>F</td>\n",
       "      <td>0</td>\n",
       "      <td>0</td>\n",
       "      <td>1</td>\n",
       "      <td>0</td>\n",
       "      <td>0</td>\n",
       "      <td>0</td>\n",
       "      <td>0</td>\n",
       "    </tr>\n",
       "    <tr>\n",
       "      <th>68412</th>\n",
       "      <td>34</td>\n",
       "      <td>022</td>\n",
       "      <td>7</td>\n",
       "      <td>2022</td>\n",
       "      <td>M</td>\n",
       "      <td>0</td>\n",
       "      <td>1</td>\n",
       "      <td>0</td>\n",
       "      <td>0</td>\n",
       "      <td>0</td>\n",
       "      <td>0</td>\n",
       "      <td>0</td>\n",
       "    </tr>\n",
       "    <tr>\n",
       "      <th>68413</th>\n",
       "      <td>9</td>\n",
       "      <td>005</td>\n",
       "      <td>7</td>\n",
       "      <td>2022</td>\n",
       "      <td>F</td>\n",
       "      <td>0</td>\n",
       "      <td>1</td>\n",
       "      <td>0</td>\n",
       "      <td>0</td>\n",
       "      <td>0</td>\n",
       "      <td>0</td>\n",
       "      <td>0</td>\n",
       "    </tr>\n",
       "    <tr>\n",
       "      <th>68414</th>\n",
       "      <td>7</td>\n",
       "      <td>003</td>\n",
       "      <td>7</td>\n",
       "      <td>2022</td>\n",
       "      <td>F</td>\n",
       "      <td>1</td>\n",
       "      <td>0</td>\n",
       "      <td>0</td>\n",
       "      <td>0</td>\n",
       "      <td>0</td>\n",
       "      <td>0</td>\n",
       "      <td>0</td>\n",
       "    </tr>\n",
       "    <tr>\n",
       "      <th>68415</th>\n",
       "      <td>28</td>\n",
       "      <td>011</td>\n",
       "      <td>7</td>\n",
       "      <td>2022</td>\n",
       "      <td>F</td>\n",
       "      <td>0</td>\n",
       "      <td>1</td>\n",
       "      <td>0</td>\n",
       "      <td>0</td>\n",
       "      <td>0</td>\n",
       "      <td>0</td>\n",
       "      <td>0</td>\n",
       "    </tr>\n",
       "  </tbody>\n",
       "</table>\n",
       "<p>68408 rows × 12 columns</p>\n",
       "</div>"
      ],
      "text/plain": [
       "      ward district  date_day  date_year charge_1_type  race_WHITE HISPANIC  \\\n",
       "0       14      008        30       2021             M                    1   \n",
       "1       22      010        23       2021             M                    0   \n",
       "2        7      004        16       2021             F                    0   \n",
       "3       24      011        16       2021             F                    0   \n",
       "4       13      008        16       2021             M                    0   \n",
       "...    ...      ...       ...        ...           ...                  ...   \n",
       "68411   22      010         7       2022             F                    0   \n",
       "68412   34      022         7       2022             M                    0   \n",
       "68413    9      005         7       2022             F                    0   \n",
       "68414    7      003         7       2022             F                    1   \n",
       "68415   28      011         7       2022             F                    0   \n",
       "\n",
       "       race_BLACK  race_BLACK HISPANIC  race_WHITE  \\\n",
       "0               0                    0           0   \n",
       "1               1                    0           0   \n",
       "2               1                    0           0   \n",
       "3               1                    0           0   \n",
       "4               0                    1           0   \n",
       "...           ...                  ...         ...   \n",
       "68411           0                    1           0   \n",
       "68412           1                    0           0   \n",
       "68413           1                    0           0   \n",
       "68414           0                    0           0   \n",
       "68415           1                    0           0   \n",
       "\n",
       "       race_ASIAN / PACIFIC ISLANDER  race_AMER INDIAN / ALASKAN NATIVE  \\\n",
       "0                                  0                                  0   \n",
       "1                                  0                                  0   \n",
       "2                                  0                                  0   \n",
       "3                                  0                                  0   \n",
       "4                                  0                                  0   \n",
       "...                              ...                                ...   \n",
       "68411                              0                                  0   \n",
       "68412                              0                                  0   \n",
       "68413                              0                                  0   \n",
       "68414                              0                                  0   \n",
       "68415                              0                                  0   \n",
       "\n",
       "       race_UNKNOWN / REFUSED  \n",
       "0                           0  \n",
       "1                           0  \n",
       "2                           0  \n",
       "3                           0  \n",
       "4                           0  \n",
       "...                       ...  \n",
       "68411                       0  \n",
       "68412                       0  \n",
       "68413                       0  \n",
       "68414                       0  \n",
       "68415                       0  \n",
       "\n",
       "[68408 rows x 12 columns]"
      ]
     },
     "execution_count": 7,
     "metadata": {},
     "output_type": "execute_result"
    }
   ],
   "source": [
    "merged_df"
   ]
  },
  {
   "cell_type": "code",
   "execution_count": 37,
   "metadata": {},
   "outputs": [],
   "source": [
    "from sklearn.model_selection import train_test_split\n",
    "\n",
    "X = merged_df[['race_WHITE HISPANIC','race_BLACK','race_BLACK HISPANIC','race_WHITE','race_ASIAN / PACIFIC ISLANDER','race_AMER INDIAN / ALASKAN NATIVE', \\\n",
    "    'race_UNKNOWN / REFUSED','ward','district','date_day','date_year']]\n",
    "y = merged_df[['charge_1_type']]"
   ]
  },
  {
   "cell_type": "markdown",
   "metadata": {},
   "source": [
    "#### Ensemble"
   ]
  },
  {
   "cell_type": "code",
   "execution_count": 48,
   "metadata": {},
   "outputs": [],
   "source": [
    "X_train, X_test, y_train, y_test = train_test_split(X,y,test_size=0.2,random_state=2)\n",
    "y_bool_train = [i == \"M\" for i in y_train['charge_1_type']]\n",
    "y_bool_test = [i == \"M\" for i in y_test['charge_1_type']]"
   ]
  },
  {
   "cell_type": "code",
   "execution_count": 57,
   "metadata": {},
   "outputs": [],
   "source": [
    "from sklearn.ensemble import GradientBoostingRegressor\n",
    "from sklearn.model_selection import cross_validate\n",
    "from sklearn.linear_model import LogisticRegression\n",
    "from sklearn.tree import DecisionTreeClassifier\n",
    "from sklearn.neighbors import KNeighborsClassifier\n",
    "from sklearn.metrics import f1_score"
   ]
  },
  {
   "cell_type": "code",
   "execution_count": 54,
   "metadata": {},
   "outputs": [
    {
     "data": {
      "text/plain": [
       "{'fit_time': array([0.16573787, 0.16132712, 0.16025114, 0.16142225, 0.16346812]),\n",
       " 'score_time': array([0.0195322 , 0.01916599, 0.01905322, 0.01932597, 0.01907992]),\n",
       " 'test_score': array([0.57610086, 0.56820466, 0.56957515, 0.56994061, 0.57697579])}"
      ]
     },
     "execution_count": 54,
     "metadata": {},
     "output_type": "execute_result"
    }
   ],
   "source": [
    "decision_tree_model = DecisionTreeClassifier(criterion='entropy')\n",
    "decision_tree_model.fit(X_train, y_bool_train)\n",
    "y_pred = decision_tree_model.predict(X_test)\n",
    "cv_results = cross_validate(decision_tree_model, X_train, y_bool_train)\n",
    "cv_results"
   ]
  },
  {
   "cell_type": "code",
   "execution_count": 89,
   "metadata": {},
   "outputs": [
    {
     "name": "stdout",
     "output_type": "stream",
     "text": [
      "0.5480392845078506\n",
      "0.57122761457738\n",
      "0.5917113848564451\n",
      "0.5948909806578195\n",
      "0.6001351290779429\n",
      "0.6008660914993051\n",
      "0.6084675808322545\n",
      "0.6114095317542482\n",
      "0.6100756661068912\n",
      "0.6080108363687782\n",
      "0.6058363675260512\n",
      "0.6016335568846342\n",
      "0.5953658697620788\n",
      "0.5945071503056201\n",
      "0.591364221068801\n",
      "0.5852610693952796\n",
      "0.5820998903458708\n",
      "0.5779702241920698\n",
      "0.5757591939565943\n",
      "0.5757226492577833\n"
     ]
    }
   ],
   "source": [
    "decision_tree_model = DecisionTreeClassifier(criterion='entropy')\n",
    "best_depth = []\n",
    "best_min_samples = []\n",
    "best_nodes = [] \n",
    "\n",
    "for i in range(1,21):\n",
    "    decision_tree_model = DecisionTreeClassifier(criterion='entropy', max_depth = i)\n",
    "    decision_tree_model.fit(X_train, y_bool_train)\n",
    "    y_pred = decision_tree_model.predict(X_train)\n",
    "    cv_results = cross_validate(decision_tree_model, X_train, y_bool_train)\n",
    "    score = np.mean(cv_results['test_score'])\n",
    "    best_min_samples.append(score)\n",
    "    print(score)"
   ]
  },
  {
   "cell_type": "code",
   "execution_count": 90,
   "metadata": {},
   "outputs": [
    {
     "data": {
      "text/plain": [
       "[<matplotlib.lines.Line2D at 0x7fdac28da550>]"
      ]
     },
     "execution_count": 90,
     "metadata": {},
     "output_type": "execute_result"
    },
    {
     "data": {
      "image/png": "[encoded data removed]",
      "text/plain": [
       "<Figure size 432x288 with 1 Axes>"
      ]
     },
     "metadata": {
      "needs_background": "light"
     },
     "output_type": "display_data"
    }
   ],
   "source": [
    "import matplotlib.pyplot as plt\n",
    "x = list(range(20))\n",
    "best_min_samples \n",
    "\n",
    "plt.plot(x, best_min_samples)"
   ]
  },
  {
   "cell_type": "code",
   "execution_count": 91,
   "metadata": {},
   "outputs": [
    {
     "data": {
      "text/plain": [
       "7"
      ]
     },
     "execution_count": 91,
     "metadata": {},
     "output_type": "execute_result"
    }
   ],
   "source": [
    "best_min_samples.index(max(best_min_samples))"
   ]
  },
  {
   "cell_type": "code",
   "execution_count": 92,
   "metadata": {},
   "outputs": [],
   "source": [
    "for i in range(20,200,5):\n",
    "    decision_tree_model = DecisionTreeClassifier(criterion='entropy', max_depth = 7, max_leaf_nodes=i)\n",
    "    decision_tree_model.fit(X_train, y_bool_train)\n",
    "    y_pred = decision_tree_model.predict(X_train)\n",
    "    cv_results = cross_validate(decision_tree_model, X_train, y_bool_train)\n",
    "    score = np.mean(cv_results['test_score'])\n",
    "    best_nodes.append(score)"
   ]
  },
  {
   "cell_type": "code",
   "execution_count": 94,
   "metadata": {},
   "outputs": [
    {
     "data": {
      "text/plain": [
       "14"
      ]
     },
     "execution_count": 94,
     "metadata": {},
     "output_type": "execute_result"
    }
   ],
   "source": [
    "best_nodes.index(max(best_nodes))"
   ]
  },
  {
   "cell_type": "code",
   "execution_count": 95,
   "metadata": {},
   "outputs": [
    {
     "data": {
      "text/plain": [
       "0.6083762249281055"
      ]
     },
     "execution_count": 95,
     "metadata": {},
     "output_type": "execute_result"
    }
   ],
   "source": [
    "decision_tree_model = DecisionTreeClassifier(criterion='entropy', max_depth = 7, max_leaf_nodes=70)\n",
    "decision_tree_model.fit(X_train, y_bool_train)\n",
    "y_pred = decision_tree_model.predict(X_train)\n",
    "cv_results = cross_validate(decision_tree_model, X_train, y_bool_train)\n",
    "score = np.mean(cv_results['test_score'])\n",
    "score"
   ]
  },
  {
   "cell_type": "code",
   "execution_count": 98,
   "metadata": {},
   "outputs": [],
   "source": [
    "from sklearn.ensemble import BaggingClassifier"
   ]
  },
  {
   "cell_type": "code",
   "execution_count": 101,
   "metadata": {},
   "outputs": [],
   "source": [
    "clf = BaggingClassifier(base_estimator = DecisionTreeClassifier(criterion='entropy', max_depth = 7,max_leaf_nodes=70))"
   ]
  },
  {
   "cell_type": "code",
   "execution_count": 102,
   "metadata": {},
   "outputs": [
    {
     "data": {
      "text/plain": [
       "BaggingClassifier(base_estimator=DecisionTreeClassifier(criterion='entropy',\n",
       "                                                        max_depth=7,\n",
       "                                                        max_leaf_nodes=70))"
      ]
     },
     "execution_count": 102,
     "metadata": {},
     "output_type": "execute_result"
    }
   ],
   "source": [
    "clf.fit(X_train, y_bool_train)"
   ]
  },
  {
   "cell_type": "code",
   "execution_count": 103,
   "metadata": {},
   "outputs": [
    {
     "data": {
      "text/plain": [
       "array([ True,  True, False, ...,  True, False,  True])"
      ]
     },
     "execution_count": 103,
     "metadata": {},
     "output_type": "execute_result"
    }
   ],
   "source": [
    "clf.predict(X_train)"
   ]
  },
  {
   "cell_type": "code",
   "execution_count": 104,
   "metadata": {},
   "outputs": [
    {
     "data": {
      "text/plain": [
       "{'fit_time': array([1.087291  , 0.79097199, 0.76517391, 0.8068428 , 0.77283931]),\n",
       " 'score_time': array([0.11098814, 0.12687588, 0.11433411, 0.11382031, 0.11022282]),\n",
       " 'test_score': array([0.61392289, 0.60210142, 0.61644587, 0.61160347, 0.61288259])}"
      ]
     },
     "execution_count": 104,
     "metadata": {},
     "output_type": "execute_result"
    }
   ],
   "source": [
    "cv_results = cross_validate(clf, X_train, y_bool_train)\n",
    "cv_results"
   ]
  },
  {
   "cell_type": "code",
   "execution_count": 128,
   "metadata": {},
   "outputs": [],
   "source": [
    "clf1 = DecisionTreeClassifier(criterion='entropy', max_depth = 7,max_leaf_nodes=70,max_features='sqrt')\n",
    "clf2 = DecisionTreeClassifier(criterion='entropy', max_depth = 7,max_leaf_nodes=70,max_features='sqrt')\n",
    "clf3 = DecisionTreeClassifier(criterion='entropy', max_depth = 7,max_leaf_nodes=70,max_features='sqrt')\n",
    "clf4 = DecisionTreeClassifier(criterion='entropy', max_depth = 7,max_leaf_nodes=70,max_features='sqrt')\n",
    "clf5 = DecisionTreeClassifier(criterion='entropy', max_depth = 7,max_leaf_nodes=70,max_features='sqrt')\n",
    "clf6 = DecisionTreeClassifier(criterion='entropy', max_depth = 7,max_leaf_nodes=70,max_features='sqrt')\n",
    "clf7 = DecisionTreeClassifier(criterion='entropy', max_depth = 7,max_leaf_nodes=70,max_features='sqrt')\n",
    "clf8 = DecisionTreeClassifier(criterion='entropy', max_depth = 7,max_leaf_nodes=70,max_features='sqrt')\n",
    "clf9 = DecisionTreeClassifier(criterion='entropy', max_depth = 7,max_leaf_nodes=70,max_features='sqrt')\n",
    "clf10 = DecisionTreeClassifier(criterion='entropy', max_depth = 7,max_leaf_nodes=70,max_features='sqrt')"
   ]
  },
  {
   "cell_type": "code",
   "execution_count": 129,
   "metadata": {},
   "outputs": [],
   "source": [
    "from sklearn.ensemble import VotingClassifier, AdaBoostClassifier, RandomForestClassifier, HistGradientBoostingClassifier, StackingClassifier, ExtraTreesClassifier"
   ]
  },
  {
   "cell_type": "code",
   "execution_count": 130,
   "metadata": {},
   "outputs": [],
   "source": [
    "eclf1 = VotingClassifier(estimators=[('clf1', clf1), \n",
    "                                     ('clf2', clf2), \n",
    "                                     ('clf3', clf3), \n",
    "                                     ('clf4', clf4), \n",
    "                                     ('clf5', clf5), \n",
    "                                     ('clf6', clf6), \n",
    "                                     ('clf7', clf7), \n",
    "                                     ('clf8', clf8), \n",
    "                                     ('clf9', clf9), \n",
    "                                     ('clf10', clf10)], voting='hard')"
   ]
  },
  {
   "cell_type": "code",
   "execution_count": 131,
   "metadata": {},
   "outputs": [],
   "source": [
    "eclf1 = eclf1.fit(X_train, y_bool_train)"
   ]
  },
  {
   "cell_type": "code",
   "execution_count": 132,
   "metadata": {},
   "outputs": [
    {
     "data": {
      "text/plain": [
       "array([False,  True, False, ...,  True,  True,  True])"
      ]
     },
     "execution_count": 132,
     "metadata": {},
     "output_type": "execute_result"
    }
   ],
   "source": [
    "eclf1.predict(X_train)"
   ]
  },
  {
   "cell_type": "code",
   "execution_count": 135,
   "metadata": {},
   "outputs": [
    {
     "data": {
      "text/plain": [
       "{'fit_time': array([1.02390003, 0.6962142 , 0.73222566, 0.7402041 , 0.70698857]),\n",
       " 'score_time': array([0.19764781, 0.19444489, 0.19034719, 0.19941092, 0.19187307]),\n",
       " 'test_score': array([0.60104148, 0.60465966, 0.61416172, 0.61096391, 0.60995889])}"
      ]
     },
     "execution_count": 135,
     "metadata": {},
     "output_type": "execute_result"
    }
   ],
   "source": [
    "cv_results = cross_validate(eclf1, X_train, y_bool_train)\n",
    "cv_results"
   ]
  },
  {
   "cell_type": "code",
   "execution_count": 136,
   "metadata": {},
   "outputs": [
    {
     "data": {
      "text/plain": [
       "0.6053939482531794"
      ]
     },
     "execution_count": 136,
     "metadata": {},
     "output_type": "execute_result"
    }
   ],
   "source": [
    "aclf = AdaBoostClassifier(base_estimator = DecisionTreeClassifier(criterion='entropy', max_depth = 7,max_leaf_nodes=70,max_features='sqrt'))\n",
    "aclf.fit(X_train,y_bool_train)\n",
    "aclf.score(X_test,y_bool_test)"
   ]
  },
  {
   "cell_type": "code",
   "execution_count": 141,
   "metadata": {},
   "outputs": [
    {
     "data": {
      "text/plain": [
       "0.5906300248501681"
      ]
     },
     "execution_count": 141,
     "metadata": {},
     "output_type": "execute_result"
    }
   ],
   "source": [
    "rclf = RandomForestClassifier()\n",
    "rclf.fit(X_train,y_bool_train)\n",
    "rclf.score(X_test,y_bool_test)"
   ]
  },
  {
   "cell_type": "code",
   "execution_count": 142,
   "metadata": {},
   "outputs": [
    {
     "data": {
      "text/plain": [
       "0.5873410320128636"
      ]
     },
     "execution_count": 142,
     "metadata": {},
     "output_type": "execute_result"
    }
   ],
   "source": [
    "eclf = ExtraTreesClassifier()\n",
    "eclf.fit(X_train,y_bool_train)\n",
    "eclf.score(X_test,y_bool_test)"
   ]
  },
  {
   "cell_type": "code",
   "execution_count": null,
   "metadata": {},
   "outputs": [
    {
     "data": {
      "text/plain": [
       "0.6118988451980705"
      ]
     },
     "execution_count": 143,
     "metadata": {},
     "output_type": "execute_result"
    }
   ],
   "source": [
    "hclf = HistGradientBoostingClassifier()\n",
    "hclf.fit(X_train,y_bool_train)\n",
    "hclf.score(X_test,y_bool_test)"
   ]
  },
  {
   "cell_type": "code",
   "execution_count": null,
   "metadata": {},
   "outputs": [
    {
     "data": {
      "text/plain": [
       "0.6007162695512352"
      ]
     },
     "execution_count": 144,
     "metadata": {},
     "output_type": "execute_result"
    }
   ],
   "source": [
    "estimators = [('dt', DecisionTreeClassifier(criterion='entropy', max_depth = 7,max_leaf_nodes=70,max_features='sqrt')),('rf',RandomForestClassifier())]\n",
    "sclf = StackingClassifier(estimators=estimators, final_estimator=LogisticRegression())\n",
    "sclf.fit(X_train,y_bool_train)\n",
    "sclf.score(X_test,y_bool_test)"
   ]
  }
 ],
 "metadata": {
  "kernelspec": {
   "display_name": "Python 3 (ipykernel)",
   "language": "python",
   "name": "python3"
  },
  "language_info": {
   "codemirror_mode": {
    "name": "ipython",
    "version": 3
   },
   "file_extension": ".py",
   "mimetype": "text/x-python",
   "name": "python",
   "nbconvert_exporter": "python",
   "pygments_lexer": "ipython3",
   "version": "3.9.12"
  },
  "vscode": {
   "interpreter": {
    "hash": "aee8b7b246df8f9039afb4144a1f6fd8d2ca17a180786b69acc140d282b71a49"
   }
  }
 },
 "nbformat": 4,
 "nbformat_minor": 4
}
