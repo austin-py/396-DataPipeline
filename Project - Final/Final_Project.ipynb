{
  "cells": [
    {
      "cell_type": "code",
      "execution_count": 1,
      "metadata": {
        "id": "X9p81r401t7A"
      },
      "outputs": [],
      "source": [
        "import warnings\n",
        "warnings.filterwarnings(\"ignore\")"
      ]
    },
    {
      "cell_type": "code",
      "source": [
        "!pip install sodapy\n",
        "!pip install -U matplotlib"
      ],
      "metadata": {
        "id": "Jr3WVqp76Oku"
      },
      "execution_count": null,
      "outputs": []
    },
    {
      "cell_type": "markdown",
      "metadata": {
        "id": "AdJJBVk81t7D"
      },
      "source": [
        "Create Dataset"
      ]
    },
    {
      "cell_type": "code",
      "execution_count": 3,
      "metadata": {
        "id": "-T6zqqyr4qst"
      },
      "outputs": [],
      "source": [
        "import pandas as pd\n",
        "import numpy as np\n",
        "import matplotlib.pyplot as plt\n",
        "import requests, json\n",
        "from sklearn.model_selection import train_test_split\n",
        "from sodapy import Socrata"
      ]
    },
    {
      "cell_type": "code",
      "execution_count": 11,
      "metadata": {
        "id": "ygjx2k2DkVHa"
      },
      "outputs": [],
      "source": [
        "first_df=pd.read_csv('Arrests_cleaned.csv')"
      ]
    },
    {
      "cell_type": "code",
      "execution_count": 12,
      "metadata": {
        "id": "KYLfXJs-1t7E",
        "colab": {
          "base_uri": "https://localhost:8080/"
        },
        "outputId": "304948ba-fc2a-457a-f8ba-9de209b9ad31"
      },
      "outputs": [
        {
          "output_type": "stream",
          "name": "stderr",
          "text": [
            "WARNING:root:Requests made without an app_token will be subject to strict throttling limits.\n"
          ]
        }
      ],
      "source": [
        "client = Socrata(\"data.cityofchicago.org\", None)\n",
        "sec_df = pd.DataFrame()\n",
        "for i in range(2014,2023):\n",
        "    results = client.get(\"ijzp-q8t2\", limit=80000, year=i)\n",
        "    results_df = pd.DataFrame.from_records(results)\n",
        "    sec_df = [sec_df, results_df[['case_number','ward','district']]]\n",
        "    sec_df = pd.concat(sec_df)"
      ]
    },
    {
      "cell_type": "code",
      "execution_count": 64,
      "metadata": {
        "colab": {
          "base_uri": "https://localhost:8080/",
          "height": 261
        },
        "id": "lWRhrqBM1t7F",
        "outputId": "aeef5216-b9eb-4088-9976-d5cd46c66939"
      },
      "outputs": [
        {
          "output_type": "stream",
          "name": "stdout",
          "text": [
            "106044\n"
          ]
        },
        {
          "output_type": "execute_result",
          "data": {
            "text/plain": [
              "         id case_number  date_month  date_day  date_year     time meridiem  \\\n",
              "0  30069116    JE252804           7        16       2021  9:36:00       PM   \n",
              "\n",
              "    race       charge_1_statute           charge_1_description  ...  \\\n",
              "0  BLACK  720 ILCS 5.0/12-3.3-A  DOMESTIC BATTERY - AGGRAVATED  ...   \n",
              "\n",
              "  charge_4_statute charge_4_description charge_4_type charge_4_class  \\\n",
              "0              NaN                  NaN           NaN            NaN   \n",
              "\n",
              "                 CHARGES STATUTE                    CHARGES DESCRIPTION  \\\n",
              "0  720 ILCS 5.0/12-3.3-A |  |  |  DOMESTIC BATTERY - AGGRAVATED |  |  |   \n",
              "\n",
              "  CHARGES TYPE CHARGES CLASS ward district  \n",
              "0    F |  |  |     2 |  |  |    7      004  \n",
              "\n",
              "[1 rows x 30 columns]"
            ],
            "text/html": [
              "\n",
              "  <div id=\"df-6d33a711-4458-4c75-8a91-3cd165cc3e8e\">\n",
              "    <div class=\"colab-df-container\">\n",
              "      <div>\n",
              "<style scoped>\n",
              "    .dataframe tbody tr th:only-of-type {\n",
              "        vertical-align: middle;\n",
              "    }\n",
              "\n",
              "    .dataframe tbody tr th {\n",
              "        vertical-align: top;\n",
              "    }\n",
              "\n",
              "    .dataframe thead th {\n",
              "        text-align: right;\n",
              "    }\n",
              "</style>\n",
              "<table border=\"1\" class=\"dataframe\">\n",
              "  <thead>\n",
              "    <tr style=\"text-align: right;\">\n",
              "      <th></th>\n",
              "      <th>id</th>\n",
              "      <th>case_number</th>\n",
              "      <th>date_month</th>\n",
              "      <th>date_day</th>\n",
              "      <th>date_year</th>\n",
              "      <th>time</th>\n",
              "      <th>meridiem</th>\n",
              "      <th>race</th>\n",
              "      <th>charge_1_statute</th>\n",
              "      <th>charge_1_description</th>\n",
              "      <th>...</th>\n",
              "      <th>charge_4_statute</th>\n",
              "      <th>charge_4_description</th>\n",
              "      <th>charge_4_type</th>\n",
              "      <th>charge_4_class</th>\n",
              "      <th>CHARGES STATUTE</th>\n",
              "      <th>CHARGES DESCRIPTION</th>\n",
              "      <th>CHARGES TYPE</th>\n",
              "      <th>CHARGES CLASS</th>\n",
              "      <th>ward</th>\n",
              "      <th>district</th>\n",
              "    </tr>\n",
              "  </thead>\n",
              "  <tbody>\n",
              "    <tr>\n",
              "      <th>0</th>\n",
              "      <td>30069116</td>\n",
              "      <td>JE252804</td>\n",
              "      <td>7</td>\n",
              "      <td>16</td>\n",
              "      <td>2021</td>\n",
              "      <td>9:36:00</td>\n",
              "      <td>PM</td>\n",
              "      <td>BLACK</td>\n",
              "      <td>720 ILCS 5.0/12-3.3-A</td>\n",
              "      <td>DOMESTIC BATTERY - AGGRAVATED</td>\n",
              "      <td>...</td>\n",
              "      <td>NaN</td>\n",
              "      <td>NaN</td>\n",
              "      <td>NaN</td>\n",
              "      <td>NaN</td>\n",
              "      <td>720 ILCS 5.0/12-3.3-A |  |  |</td>\n",
              "      <td>DOMESTIC BATTERY - AGGRAVATED |  |  |</td>\n",
              "      <td>F |  |  |</td>\n",
              "      <td>2 |  |  |</td>\n",
              "      <td>7</td>\n",
              "      <td>004</td>\n",
              "    </tr>\n",
              "  </tbody>\n",
              "</table>\n",
              "<p>1 rows × 30 columns</p>\n",
              "</div>\n",
              "      <button class=\"colab-df-convert\" onclick=\"convertToInteractive('df-6d33a711-4458-4c75-8a91-3cd165cc3e8e')\"\n",
              "              title=\"Convert this dataframe to an interactive table.\"\n",
              "              style=\"display:none;\">\n",
              "        \n",
              "  <svg xmlns=\"http://www.w3.org/2000/svg\" height=\"24px\"viewBox=\"0 0 24 24\"\n",
              "       width=\"24px\">\n",
              "    <path d=\"M0 0h24v24H0V0z\" fill=\"none\"/>\n",
              "    <path d=\"M18.56 5.44l.94 2.06.94-2.06 2.06-.94-2.06-.94-.94-2.06-.94 2.06-2.06.94zm-11 1L8.5 8.5l.94-2.06 2.06-.94-2.06-.94L8.5 2.5l-.94 2.06-2.06.94zm10 10l.94 2.06.94-2.06 2.06-.94-2.06-.94-.94-2.06-.94 2.06-2.06.94z\"/><path d=\"M17.41 7.96l-1.37-1.37c-.4-.4-.92-.59-1.43-.59-.52 0-1.04.2-1.43.59L10.3 9.45l-7.72 7.72c-.78.78-.78 2.05 0 2.83L4 21.41c.39.39.9.59 1.41.59.51 0 1.02-.2 1.41-.59l7.78-7.78 2.81-2.81c.8-.78.8-2.07 0-2.86zM5.41 20L4 18.59l7.72-7.72 1.47 1.35L5.41 20z\"/>\n",
              "  </svg>\n",
              "      </button>\n",
              "      \n",
              "  <style>\n",
              "    .colab-df-container {\n",
              "      display:flex;\n",
              "      flex-wrap:wrap;\n",
              "      gap: 12px;\n",
              "    }\n",
              "\n",
              "    .colab-df-convert {\n",
              "      background-color: #E8F0FE;\n",
              "      border: none;\n",
              "      border-radius: 50%;\n",
              "      cursor: pointer;\n",
              "      display: none;\n",
              "      fill: #1967D2;\n",
              "      height: 32px;\n",
              "      padding: 0 0 0 0;\n",
              "      width: 32px;\n",
              "    }\n",
              "\n",
              "    .colab-df-convert:hover {\n",
              "      background-color: #E2EBFA;\n",
              "      box-shadow: 0px 1px 2px rgba(60, 64, 67, 0.3), 0px 1px 3px 1px rgba(60, 64, 67, 0.15);\n",
              "      fill: #174EA6;\n",
              "    }\n",
              "\n",
              "    [theme=dark] .colab-df-convert {\n",
              "      background-color: #3B4455;\n",
              "      fill: #D2E3FC;\n",
              "    }\n",
              "\n",
              "    [theme=dark] .colab-df-convert:hover {\n",
              "      background-color: #434B5C;\n",
              "      box-shadow: 0px 1px 3px 1px rgba(0, 0, 0, 0.15);\n",
              "      filter: drop-shadow(0px 1px 2px rgba(0, 0, 0, 0.3));\n",
              "      fill: #FFFFFF;\n",
              "    }\n",
              "  </style>\n",
              "\n",
              "      <script>\n",
              "        const buttonEl =\n",
              "          document.querySelector('#df-6d33a711-4458-4c75-8a91-3cd165cc3e8e button.colab-df-convert');\n",
              "        buttonEl.style.display =\n",
              "          google.colab.kernel.accessAllowed ? 'block' : 'none';\n",
              "\n",
              "        async function convertToInteractive(key) {\n",
              "          const element = document.querySelector('#df-6d33a711-4458-4c75-8a91-3cd165cc3e8e');\n",
              "          const dataTable =\n",
              "            await google.colab.kernel.invokeFunction('convertToInteractive',\n",
              "                                                     [key], {});\n",
              "          if (!dataTable) return;\n",
              "\n",
              "          const docLinkHtml = 'Like what you see? Visit the ' +\n",
              "            '<a target=\"_blank\" href=https://colab.research.google.com/notebooks/data_table.ipynb>data table notebook</a>'\n",
              "            + ' to learn more about interactive tables.';\n",
              "          element.innerHTML = '';\n",
              "          dataTable['output_type'] = 'display_data';\n",
              "          await google.colab.output.renderOutput(dataTable, element);\n",
              "          const docLink = document.createElement('div');\n",
              "          docLink.innerHTML = docLinkHtml;\n",
              "          element.appendChild(docLink);\n",
              "        }\n",
              "      </script>\n",
              "    </div>\n",
              "  </div>\n",
              "  "
            ]
          },
          "metadata": {},
          "execution_count": 64
        }
      ],
      "source": [
        "merged_df_init = pd.merge(first_df, sec_df, on=\"case_number\")\n",
        "print(len(merged_df_init))\n",
        "merged_df_init.head(1)"
      ]
    },
    {
      "cell_type": "code",
      "execution_count": 65,
      "metadata": {
        "colab": {
          "base_uri": "https://localhost:8080/",
          "height": 485
        },
        "id": "9zfTv55w1t7G",
        "outputId": "4390d9f1-d3bf-45a4-bbcb-60543c7eb905"
      },
      "outputs": [
        {
          "output_type": "execute_result",
          "data": {
            "text/plain": [
              "        race_BLACK  race_WHITE HISPANIC  race_BLACK HISPANIC  race_WHITE  \\\n",
              "0                1                    0                    0           0   \n",
              "1                1                    0                    0           0   \n",
              "2                1                    0                    0           0   \n",
              "3                0                    1                    0           0   \n",
              "4                0                    1                    0           0   \n",
              "...            ...                  ...                  ...         ...   \n",
              "106039           1                    0                    0           0   \n",
              "106040           0                    0                    1           0   \n",
              "106041           1                    0                    0           0   \n",
              "106042           0                    1                    0           0   \n",
              "106043           1                    0                    0           0   \n",
              "\n",
              "        race_ASIAN / PACIFIC ISLANDER  race_UNKNOWN / REFUSED  \\\n",
              "0                                   0                       0   \n",
              "1                                   0                       0   \n",
              "2                                   0                       0   \n",
              "3                                   0                       0   \n",
              "4                                   0                       0   \n",
              "...                               ...                     ...   \n",
              "106039                              0                       0   \n",
              "106040                              0                       0   \n",
              "106041                              0                       0   \n",
              "106042                              0                       0   \n",
              "106043                              0                       0   \n",
              "\n",
              "        race_AMER INDIAN / ALASKAN NATIVE  \n",
              "0                                       0  \n",
              "1                                       0  \n",
              "2                                       0  \n",
              "3                                       0  \n",
              "4                                       0  \n",
              "...                                   ...  \n",
              "106039                                  0  \n",
              "106040                                  0  \n",
              "106041                                  0  \n",
              "106042                                  0  \n",
              "106043                                  0  \n",
              "\n",
              "[106044 rows x 7 columns]"
            ],
            "text/html": [
              "\n",
              "  <div id=\"df-6dfa4ae7-415d-4cf6-a89a-4e50c8e305e9\">\n",
              "    <div class=\"colab-df-container\">\n",
              "      <div>\n",
              "<style scoped>\n",
              "    .dataframe tbody tr th:only-of-type {\n",
              "        vertical-align: middle;\n",
              "    }\n",
              "\n",
              "    .dataframe tbody tr th {\n",
              "        vertical-align: top;\n",
              "    }\n",
              "\n",
              "    .dataframe thead th {\n",
              "        text-align: right;\n",
              "    }\n",
              "</style>\n",
              "<table border=\"1\" class=\"dataframe\">\n",
              "  <thead>\n",
              "    <tr style=\"text-align: right;\">\n",
              "      <th></th>\n",
              "      <th>race_BLACK</th>\n",
              "      <th>race_WHITE HISPANIC</th>\n",
              "      <th>race_BLACK HISPANIC</th>\n",
              "      <th>race_WHITE</th>\n",
              "      <th>race_ASIAN / PACIFIC ISLANDER</th>\n",
              "      <th>race_UNKNOWN / REFUSED</th>\n",
              "      <th>race_AMER INDIAN / ALASKAN NATIVE</th>\n",
              "    </tr>\n",
              "  </thead>\n",
              "  <tbody>\n",
              "    <tr>\n",
              "      <th>0</th>\n",
              "      <td>1</td>\n",
              "      <td>0</td>\n",
              "      <td>0</td>\n",
              "      <td>0</td>\n",
              "      <td>0</td>\n",
              "      <td>0</td>\n",
              "      <td>0</td>\n",
              "    </tr>\n",
              "    <tr>\n",
              "      <th>1</th>\n",
              "      <td>1</td>\n",
              "      <td>0</td>\n",
              "      <td>0</td>\n",
              "      <td>0</td>\n",
              "      <td>0</td>\n",
              "      <td>0</td>\n",
              "      <td>0</td>\n",
              "    </tr>\n",
              "    <tr>\n",
              "      <th>2</th>\n",
              "      <td>1</td>\n",
              "      <td>0</td>\n",
              "      <td>0</td>\n",
              "      <td>0</td>\n",
              "      <td>0</td>\n",
              "      <td>0</td>\n",
              "      <td>0</td>\n",
              "    </tr>\n",
              "    <tr>\n",
              "      <th>3</th>\n",
              "      <td>0</td>\n",
              "      <td>1</td>\n",
              "      <td>0</td>\n",
              "      <td>0</td>\n",
              "      <td>0</td>\n",
              "      <td>0</td>\n",
              "      <td>0</td>\n",
              "    </tr>\n",
              "    <tr>\n",
              "      <th>4</th>\n",
              "      <td>0</td>\n",
              "      <td>1</td>\n",
              "      <td>0</td>\n",
              "      <td>0</td>\n",
              "      <td>0</td>\n",
              "      <td>0</td>\n",
              "      <td>0</td>\n",
              "    </tr>\n",
              "    <tr>\n",
              "      <th>...</th>\n",
              "      <td>...</td>\n",
              "      <td>...</td>\n",
              "      <td>...</td>\n",
              "      <td>...</td>\n",
              "      <td>...</td>\n",
              "      <td>...</td>\n",
              "      <td>...</td>\n",
              "    </tr>\n",
              "    <tr>\n",
              "      <th>106039</th>\n",
              "      <td>1</td>\n",
              "      <td>0</td>\n",
              "      <td>0</td>\n",
              "      <td>0</td>\n",
              "      <td>0</td>\n",
              "      <td>0</td>\n",
              "      <td>0</td>\n",
              "    </tr>\n",
              "    <tr>\n",
              "      <th>106040</th>\n",
              "      <td>0</td>\n",
              "      <td>0</td>\n",
              "      <td>1</td>\n",
              "      <td>0</td>\n",
              "      <td>0</td>\n",
              "      <td>0</td>\n",
              "      <td>0</td>\n",
              "    </tr>\n",
              "    <tr>\n",
              "      <th>106041</th>\n",
              "      <td>1</td>\n",
              "      <td>0</td>\n",
              "      <td>0</td>\n",
              "      <td>0</td>\n",
              "      <td>0</td>\n",
              "      <td>0</td>\n",
              "      <td>0</td>\n",
              "    </tr>\n",
              "    <tr>\n",
              "      <th>106042</th>\n",
              "      <td>0</td>\n",
              "      <td>1</td>\n",
              "      <td>0</td>\n",
              "      <td>0</td>\n",
              "      <td>0</td>\n",
              "      <td>0</td>\n",
              "      <td>0</td>\n",
              "    </tr>\n",
              "    <tr>\n",
              "      <th>106043</th>\n",
              "      <td>1</td>\n",
              "      <td>0</td>\n",
              "      <td>0</td>\n",
              "      <td>0</td>\n",
              "      <td>0</td>\n",
              "      <td>0</td>\n",
              "      <td>0</td>\n",
              "    </tr>\n",
              "  </tbody>\n",
              "</table>\n",
              "<p>106044 rows × 7 columns</p>\n",
              "</div>\n",
              "      <button class=\"colab-df-convert\" onclick=\"convertToInteractive('df-6dfa4ae7-415d-4cf6-a89a-4e50c8e305e9')\"\n",
              "              title=\"Convert this dataframe to an interactive table.\"\n",
              "              style=\"display:none;\">\n",
              "        \n",
              "  <svg xmlns=\"http://www.w3.org/2000/svg\" height=\"24px\"viewBox=\"0 0 24 24\"\n",
              "       width=\"24px\">\n",
              "    <path d=\"M0 0h24v24H0V0z\" fill=\"none\"/>\n",
              "    <path d=\"M18.56 5.44l.94 2.06.94-2.06 2.06-.94-2.06-.94-.94-2.06-.94 2.06-2.06.94zm-11 1L8.5 8.5l.94-2.06 2.06-.94-2.06-.94L8.5 2.5l-.94 2.06-2.06.94zm10 10l.94 2.06.94-2.06 2.06-.94-2.06-.94-.94-2.06-.94 2.06-2.06.94z\"/><path d=\"M17.41 7.96l-1.37-1.37c-.4-.4-.92-.59-1.43-.59-.52 0-1.04.2-1.43.59L10.3 9.45l-7.72 7.72c-.78.78-.78 2.05 0 2.83L4 21.41c.39.39.9.59 1.41.59.51 0 1.02-.2 1.41-.59l7.78-7.78 2.81-2.81c.8-.78.8-2.07 0-2.86zM5.41 20L4 18.59l7.72-7.72 1.47 1.35L5.41 20z\"/>\n",
              "  </svg>\n",
              "      </button>\n",
              "      \n",
              "  <style>\n",
              "    .colab-df-container {\n",
              "      display:flex;\n",
              "      flex-wrap:wrap;\n",
              "      gap: 12px;\n",
              "    }\n",
              "\n",
              "    .colab-df-convert {\n",
              "      background-color: #E8F0FE;\n",
              "      border: none;\n",
              "      border-radius: 50%;\n",
              "      cursor: pointer;\n",
              "      display: none;\n",
              "      fill: #1967D2;\n",
              "      height: 32px;\n",
              "      padding: 0 0 0 0;\n",
              "      width: 32px;\n",
              "    }\n",
              "\n",
              "    .colab-df-convert:hover {\n",
              "      background-color: #E2EBFA;\n",
              "      box-shadow: 0px 1px 2px rgba(60, 64, 67, 0.3), 0px 1px 3px 1px rgba(60, 64, 67, 0.15);\n",
              "      fill: #174EA6;\n",
              "    }\n",
              "\n",
              "    [theme=dark] .colab-df-convert {\n",
              "      background-color: #3B4455;\n",
              "      fill: #D2E3FC;\n",
              "    }\n",
              "\n",
              "    [theme=dark] .colab-df-convert:hover {\n",
              "      background-color: #434B5C;\n",
              "      box-shadow: 0px 1px 3px 1px rgba(0, 0, 0, 0.15);\n",
              "      filter: drop-shadow(0px 1px 2px rgba(0, 0, 0, 0.3));\n",
              "      fill: #FFFFFF;\n",
              "    }\n",
              "  </style>\n",
              "\n",
              "      <script>\n",
              "        const buttonEl =\n",
              "          document.querySelector('#df-6dfa4ae7-415d-4cf6-a89a-4e50c8e305e9 button.colab-df-convert');\n",
              "        buttonEl.style.display =\n",
              "          google.colab.kernel.accessAllowed ? 'block' : 'none';\n",
              "\n",
              "        async function convertToInteractive(key) {\n",
              "          const element = document.querySelector('#df-6dfa4ae7-415d-4cf6-a89a-4e50c8e305e9');\n",
              "          const dataTable =\n",
              "            await google.colab.kernel.invokeFunction('convertToInteractive',\n",
              "                                                     [key], {});\n",
              "          if (!dataTable) return;\n",
              "\n",
              "          const docLinkHtml = 'Like what you see? Visit the ' +\n",
              "            '<a target=\"_blank\" href=https://colab.research.google.com/notebooks/data_table.ipynb>data table notebook</a>'\n",
              "            + ' to learn more about interactive tables.';\n",
              "          element.innerHTML = '';\n",
              "          dataTable['output_type'] = 'display_data';\n",
              "          await google.colab.output.renderOutput(dataTable, element);\n",
              "          const docLink = document.createElement('div');\n",
              "          docLink.innerHTML = docLinkHtml;\n",
              "          element.appendChild(docLink);\n",
              "        }\n",
              "      </script>\n",
              "    </div>\n",
              "  </div>\n",
              "  "
            ]
          },
          "metadata": {},
          "execution_count": 65
        }
      ],
      "source": [
        "races = merged_df_init.loc[:, \"race\"].unique().tolist()\n",
        "race_dummies = pd.get_dummies(merged_df_init, columns=[\"race\"])\n",
        "races = [\"race_\"+r for r in races]\n",
        "race_dummies = race_dummies[races]\n",
        "race_dummies"
      ]
    },
    {
      "cell_type": "code",
      "execution_count": 66,
      "metadata": {
        "id": "SHkDzf2h1t7H"
      },
      "outputs": [],
      "source": [
        "merged_df = merged_df_init[['ward','district','date_day',\n",
        "                            'date_year','charge_1_type']]\n",
        "# merged_df['ward'] = pd.to_numeric(merged_df['ward'])\n",
        "# merged_df['district'] = pd.to_numeric(merged_df['district'])\n",
        "\n",
        "merged_df = pd.concat([merged_df, race_dummies], axis=1).dropna()"
      ]
    },
    {
      "cell_type": "code",
      "execution_count": 67,
      "metadata": {
        "colab": {
          "base_uri": "https://localhost:8080/",
          "height": 540
        },
        "id": "rwxL45WH1t7I",
        "outputId": "001fdae0-4fe4-4c81-b1e7-e1ce5abfb5ee"
      },
      "outputs": [
        {
          "output_type": "execute_result",
          "data": {
            "text/plain": [
              "       ward district  date_day  date_year charge_1_type  race_BLACK  \\\n",
              "0         7      004        16       2021             F           1   \n",
              "1        42      001        20       2021             M           1   \n",
              "2        17      007         2       2014             M           1   \n",
              "3        14      008        15       2022             M           0   \n",
              "4        15      008        18       2014             M           0   \n",
              "...     ...      ...       ...        ...           ...         ...   \n",
              "106039   48      020         7       2022             M           1   \n",
              "106040   22      010         7       2022             F           0   \n",
              "106041    9      005         7       2022             F           1   \n",
              "106042    7      003         7       2022             F           0   \n",
              "106043   28      011         7       2022             F           1   \n",
              "\n",
              "        race_WHITE HISPANIC  race_BLACK HISPANIC  race_WHITE  \\\n",
              "0                         0                    0           0   \n",
              "1                         0                    0           0   \n",
              "2                         0                    0           0   \n",
              "3                         1                    0           0   \n",
              "4                         1                    0           0   \n",
              "...                     ...                  ...         ...   \n",
              "106039                    0                    0           0   \n",
              "106040                    0                    1           0   \n",
              "106041                    0                    0           0   \n",
              "106042                    1                    0           0   \n",
              "106043                    0                    0           0   \n",
              "\n",
              "        race_ASIAN / PACIFIC ISLANDER  race_UNKNOWN / REFUSED  \\\n",
              "0                                   0                       0   \n",
              "1                                   0                       0   \n",
              "2                                   0                       0   \n",
              "3                                   0                       0   \n",
              "4                                   0                       0   \n",
              "...                               ...                     ...   \n",
              "106039                              0                       0   \n",
              "106040                              0                       0   \n",
              "106041                              0                       0   \n",
              "106042                              0                       0   \n",
              "106043                              0                       0   \n",
              "\n",
              "        race_AMER INDIAN / ALASKAN NATIVE  \n",
              "0                                       0  \n",
              "1                                       0  \n",
              "2                                       0  \n",
              "3                                       0  \n",
              "4                                       0  \n",
              "...                                   ...  \n",
              "106039                                  0  \n",
              "106040                                  0  \n",
              "106041                                  0  \n",
              "106042                                  0  \n",
              "106043                                  0  \n",
              "\n",
              "[106042 rows x 12 columns]"
            ],
            "text/html": [
              "\n",
              "  <div id=\"df-76abac32-237b-48b2-83ca-176862085902\">\n",
              "    <div class=\"colab-df-container\">\n",
              "      <div>\n",
              "<style scoped>\n",
              "    .dataframe tbody tr th:only-of-type {\n",
              "        vertical-align: middle;\n",
              "    }\n",
              "\n",
              "    .dataframe tbody tr th {\n",
              "        vertical-align: top;\n",
              "    }\n",
              "\n",
              "    .dataframe thead th {\n",
              "        text-align: right;\n",
              "    }\n",
              "</style>\n",
              "<table border=\"1\" class=\"dataframe\">\n",
              "  <thead>\n",
              "    <tr style=\"text-align: right;\">\n",
              "      <th></th>\n",
              "      <th>ward</th>\n",
              "      <th>district</th>\n",
              "      <th>date_day</th>\n",
              "      <th>date_year</th>\n",
              "      <th>charge_1_type</th>\n",
              "      <th>race_BLACK</th>\n",
              "      <th>race_WHITE HISPANIC</th>\n",
              "      <th>race_BLACK HISPANIC</th>\n",
              "      <th>race_WHITE</th>\n",
              "      <th>race_ASIAN / PACIFIC ISLANDER</th>\n",
              "      <th>race_UNKNOWN / REFUSED</th>\n",
              "      <th>race_AMER INDIAN / ALASKAN NATIVE</th>\n",
              "    </tr>\n",
              "  </thead>\n",
              "  <tbody>\n",
              "    <tr>\n",
              "      <th>0</th>\n",
              "      <td>7</td>\n",
              "      <td>004</td>\n",
              "      <td>16</td>\n",
              "      <td>2021</td>\n",
              "      <td>F</td>\n",
              "      <td>1</td>\n",
              "      <td>0</td>\n",
              "      <td>0</td>\n",
              "      <td>0</td>\n",
              "      <td>0</td>\n",
              "      <td>0</td>\n",
              "      <td>0</td>\n",
              "    </tr>\n",
              "    <tr>\n",
              "      <th>1</th>\n",
              "      <td>42</td>\n",
              "      <td>001</td>\n",
              "      <td>20</td>\n",
              "      <td>2021</td>\n",
              "      <td>M</td>\n",
              "      <td>1</td>\n",
              "      <td>0</td>\n",
              "      <td>0</td>\n",
              "      <td>0</td>\n",
              "      <td>0</td>\n",
              "      <td>0</td>\n",
              "      <td>0</td>\n",
              "    </tr>\n",
              "    <tr>\n",
              "      <th>2</th>\n",
              "      <td>17</td>\n",
              "      <td>007</td>\n",
              "      <td>2</td>\n",
              "      <td>2014</td>\n",
              "      <td>M</td>\n",
              "      <td>1</td>\n",
              "      <td>0</td>\n",
              "      <td>0</td>\n",
              "      <td>0</td>\n",
              "      <td>0</td>\n",
              "      <td>0</td>\n",
              "      <td>0</td>\n",
              "    </tr>\n",
              "    <tr>\n",
              "      <th>3</th>\n",
              "      <td>14</td>\n",
              "      <td>008</td>\n",
              "      <td>15</td>\n",
              "      <td>2022</td>\n",
              "      <td>M</td>\n",
              "      <td>0</td>\n",
              "      <td>1</td>\n",
              "      <td>0</td>\n",
              "      <td>0</td>\n",
              "      <td>0</td>\n",
              "      <td>0</td>\n",
              "      <td>0</td>\n",
              "    </tr>\n",
              "    <tr>\n",
              "      <th>4</th>\n",
              "      <td>15</td>\n",
              "      <td>008</td>\n",
              "      <td>18</td>\n",
              "      <td>2014</td>\n",
              "      <td>M</td>\n",
              "      <td>0</td>\n",
              "      <td>1</td>\n",
              "      <td>0</td>\n",
              "      <td>0</td>\n",
              "      <td>0</td>\n",
              "      <td>0</td>\n",
              "      <td>0</td>\n",
              "    </tr>\n",
              "    <tr>\n",
              "      <th>...</th>\n",
              "      <td>...</td>\n",
              "      <td>...</td>\n",
              "      <td>...</td>\n",
              "      <td>...</td>\n",
              "      <td>...</td>\n",
              "      <td>...</td>\n",
              "      <td>...</td>\n",
              "      <td>...</td>\n",
              "      <td>...</td>\n",
              "      <td>...</td>\n",
              "      <td>...</td>\n",
              "      <td>...</td>\n",
              "    </tr>\n",
              "    <tr>\n",
              "      <th>106039</th>\n",
              "      <td>48</td>\n",
              "      <td>020</td>\n",
              "      <td>7</td>\n",
              "      <td>2022</td>\n",
              "      <td>M</td>\n",
              "      <td>1</td>\n",
              "      <td>0</td>\n",
              "      <td>0</td>\n",
              "      <td>0</td>\n",
              "      <td>0</td>\n",
              "      <td>0</td>\n",
              "      <td>0</td>\n",
              "    </tr>\n",
              "    <tr>\n",
              "      <th>106040</th>\n",
              "      <td>22</td>\n",
              "      <td>010</td>\n",
              "      <td>7</td>\n",
              "      <td>2022</td>\n",
              "      <td>F</td>\n",
              "      <td>0</td>\n",
              "      <td>0</td>\n",
              "      <td>1</td>\n",
              "      <td>0</td>\n",
              "      <td>0</td>\n",
              "      <td>0</td>\n",
              "      <td>0</td>\n",
              "    </tr>\n",
              "    <tr>\n",
              "      <th>106041</th>\n",
              "      <td>9</td>\n",
              "      <td>005</td>\n",
              "      <td>7</td>\n",
              "      <td>2022</td>\n",
              "      <td>F</td>\n",
              "      <td>1</td>\n",
              "      <td>0</td>\n",
              "      <td>0</td>\n",
              "      <td>0</td>\n",
              "      <td>0</td>\n",
              "      <td>0</td>\n",
              "      <td>0</td>\n",
              "    </tr>\n",
              "    <tr>\n",
              "      <th>106042</th>\n",
              "      <td>7</td>\n",
              "      <td>003</td>\n",
              "      <td>7</td>\n",
              "      <td>2022</td>\n",
              "      <td>F</td>\n",
              "      <td>0</td>\n",
              "      <td>1</td>\n",
              "      <td>0</td>\n",
              "      <td>0</td>\n",
              "      <td>0</td>\n",
              "      <td>0</td>\n",
              "      <td>0</td>\n",
              "    </tr>\n",
              "    <tr>\n",
              "      <th>106043</th>\n",
              "      <td>28</td>\n",
              "      <td>011</td>\n",
              "      <td>7</td>\n",
              "      <td>2022</td>\n",
              "      <td>F</td>\n",
              "      <td>1</td>\n",
              "      <td>0</td>\n",
              "      <td>0</td>\n",
              "      <td>0</td>\n",
              "      <td>0</td>\n",
              "      <td>0</td>\n",
              "      <td>0</td>\n",
              "    </tr>\n",
              "  </tbody>\n",
              "</table>\n",
              "<p>106042 rows × 12 columns</p>\n",
              "</div>\n",
              "      <button class=\"colab-df-convert\" onclick=\"convertToInteractive('df-76abac32-237b-48b2-83ca-176862085902')\"\n",
              "              title=\"Convert this dataframe to an interactive table.\"\n",
              "              style=\"display:none;\">\n",
              "        \n",
              "  <svg xmlns=\"http://www.w3.org/2000/svg\" height=\"24px\"viewBox=\"0 0 24 24\"\n",
              "       width=\"24px\">\n",
              "    <path d=\"M0 0h24v24H0V0z\" fill=\"none\"/>\n",
              "    <path d=\"M18.56 5.44l.94 2.06.94-2.06 2.06-.94-2.06-.94-.94-2.06-.94 2.06-2.06.94zm-11 1L8.5 8.5l.94-2.06 2.06-.94-2.06-.94L8.5 2.5l-.94 2.06-2.06.94zm10 10l.94 2.06.94-2.06 2.06-.94-2.06-.94-.94-2.06-.94 2.06-2.06.94z\"/><path d=\"M17.41 7.96l-1.37-1.37c-.4-.4-.92-.59-1.43-.59-.52 0-1.04.2-1.43.59L10.3 9.45l-7.72 7.72c-.78.78-.78 2.05 0 2.83L4 21.41c.39.39.9.59 1.41.59.51 0 1.02-.2 1.41-.59l7.78-7.78 2.81-2.81c.8-.78.8-2.07 0-2.86zM5.41 20L4 18.59l7.72-7.72 1.47 1.35L5.41 20z\"/>\n",
              "  </svg>\n",
              "      </button>\n",
              "      \n",
              "  <style>\n",
              "    .colab-df-container {\n",
              "      display:flex;\n",
              "      flex-wrap:wrap;\n",
              "      gap: 12px;\n",
              "    }\n",
              "\n",
              "    .colab-df-convert {\n",
              "      background-color: #E8F0FE;\n",
              "      border: none;\n",
              "      border-radius: 50%;\n",
              "      cursor: pointer;\n",
              "      display: none;\n",
              "      fill: #1967D2;\n",
              "      height: 32px;\n",
              "      padding: 0 0 0 0;\n",
              "      width: 32px;\n",
              "    }\n",
              "\n",
              "    .colab-df-convert:hover {\n",
              "      background-color: #E2EBFA;\n",
              "      box-shadow: 0px 1px 2px rgba(60, 64, 67, 0.3), 0px 1px 3px 1px rgba(60, 64, 67, 0.15);\n",
              "      fill: #174EA6;\n",
              "    }\n",
              "\n",
              "    [theme=dark] .colab-df-convert {\n",
              "      background-color: #3B4455;\n",
              "      fill: #D2E3FC;\n",
              "    }\n",
              "\n",
              "    [theme=dark] .colab-df-convert:hover {\n",
              "      background-color: #434B5C;\n",
              "      box-shadow: 0px 1px 3px 1px rgba(0, 0, 0, 0.15);\n",
              "      filter: drop-shadow(0px 1px 2px rgba(0, 0, 0, 0.3));\n",
              "      fill: #FFFFFF;\n",
              "    }\n",
              "  </style>\n",
              "\n",
              "      <script>\n",
              "        const buttonEl =\n",
              "          document.querySelector('#df-76abac32-237b-48b2-83ca-176862085902 button.colab-df-convert');\n",
              "        buttonEl.style.display =\n",
              "          google.colab.kernel.accessAllowed ? 'block' : 'none';\n",
              "\n",
              "        async function convertToInteractive(key) {\n",
              "          const element = document.querySelector('#df-76abac32-237b-48b2-83ca-176862085902');\n",
              "          const dataTable =\n",
              "            await google.colab.kernel.invokeFunction('convertToInteractive',\n",
              "                                                     [key], {});\n",
              "          if (!dataTable) return;\n",
              "\n",
              "          const docLinkHtml = 'Like what you see? Visit the ' +\n",
              "            '<a target=\"_blank\" href=https://colab.research.google.com/notebooks/data_table.ipynb>data table notebook</a>'\n",
              "            + ' to learn more about interactive tables.';\n",
              "          element.innerHTML = '';\n",
              "          dataTable['output_type'] = 'display_data';\n",
              "          await google.colab.output.renderOutput(dataTable, element);\n",
              "          const docLink = document.createElement('div');\n",
              "          docLink.innerHTML = docLinkHtml;\n",
              "          element.appendChild(docLink);\n",
              "        }\n",
              "      </script>\n",
              "    </div>\n",
              "  </div>\n",
              "  "
            ]
          },
          "metadata": {},
          "execution_count": 67
        }
      ],
      "source": [
        "merged_df"
      ]
    },
    {
      "cell_type": "code",
      "execution_count": 68,
      "metadata": {
        "id": "ZZc_X2wX1t7I"
      },
      "outputs": [],
      "source": [
        "x = merged_df[['race_WHITE HISPANIC','race_BLACK','race_BLACK HISPANIC',\n",
        "               'race_WHITE','race_ASIAN / PACIFIC ISLANDER',\n",
        "               'race_AMER INDIAN / ALASKAN NATIVE', \\\n",
        "    'race_UNKNOWN / REFUSED','ward','district','date_day','date_year']]\n",
        "y = merged_df[['charge_1_type']]\n",
        "x_train, x_test, y_train, y_test = train_test_split(x, y, \n",
        "                                                    test_size=0.2, \n",
        "                                                    random_state=2)"
      ]
    },
    {
      "cell_type": "code",
      "execution_count": 69,
      "metadata": {
        "id": "5mA7w3xKkVHh"
      },
      "outputs": [],
      "source": [
        "merged_df.to_csv('final_dataset.csv')"
      ]
    },
    {
      "cell_type": "markdown",
      "metadata": {
        "id": "Xa_8LaSAkVHh"
      },
      "source": [
        "EDA"
      ]
    },
    {
      "cell_type": "code",
      "execution_count": 19,
      "metadata": {
        "colab": {
          "base_uri": "https://localhost:8080/",
          "height": 593
        },
        "id": "B943mBvWkVHi",
        "outputId": "cfa1a128-aeb2-4c82-8df8-0fa99873fbe3"
      },
      "outputs": [
        {
          "output_type": "execute_result",
          "data": {
            "text/plain": [
              "<matplotlib.legend.Legend at 0x7fa665d28970>"
            ]
          },
          "metadata": {},
          "execution_count": 19
        },
        {
          "output_type": "display_data",
          "data": {
            "text/plain": [
              "<Figure size 1080x720 with 1 Axes>"
            ],
            "image/png": "[encoded data removed]"
          },
          "metadata": {}
        }
      ],
      "source": [
        "import seaborn as sns\n",
        "\n",
        "#Pie chart for number of arrests per race\n",
        "\n",
        "vc=merged_df_init['race'].value_counts()\n",
        "labels = list(dict(vc).keys())\n",
        "total=sum(list(dict(vc).values()))\n",
        "sizes = list(dict(vc).values())/total*100\n",
        "labels = [f'{l}, {s:0.2f}%' for l, s in zip(labels, sizes)]\n",
        "plt.figure(figsize = (15,10))\n",
        "pie = plt.pie(sizes, startangle=90)\n",
        "plt.legend(bbox_to_anchor=(0.85, 1), loc='upper left', labels=labels)"
      ]
    },
    {
      "cell_type": "code",
      "execution_count": 20,
      "metadata": {
        "colab": {
          "base_uri": "https://localhost:8080/",
          "height": 593
        },
        "id": "_9t2kxikkVHj",
        "outputId": "54b5ebea-b873-4c71-b82e-6839b3029196"
      },
      "outputs": [
        {
          "output_type": "execute_result",
          "data": {
            "text/plain": [
              "<matplotlib.legend.Legend at 0x7fa6652387f0>"
            ]
          },
          "metadata": {},
          "execution_count": 20
        },
        {
          "output_type": "display_data",
          "data": {
            "text/plain": [
              "<Figure size 1080x720 with 1 Axes>"
            ],
            "image/png": "[encoded data removed]"
          },
          "metadata": {}
        }
      ],
      "source": [
        "#Pie chart of charge 1 type\n",
        "vc=merged_df_init['charge_1_type'].value_counts()\n",
        "labels = list(dict(vc).keys())[:3]\n",
        "total=sum(list(dict(vc).values()))\n",
        "sizes = list(dict(vc).values())[:3]/total*100\n",
        "labels = [f'{l}, {s:0.2f}%' for l, s in zip(labels, sizes)]\n",
        "plt.figure(figsize = (15,10))\n",
        "pie = plt.pie(sizes, startangle=90)\n",
        "plt.legend(bbox_to_anchor=(0.85, 1), loc='upper left', labels=labels)"
      ]
    },
    {
      "cell_type": "code",
      "execution_count": 21,
      "metadata": {
        "colab": {
          "base_uri": "https://localhost:8080/",
          "height": 593
        },
        "id": "x9nm-W9-kVHk",
        "outputId": "20fa51bf-92f8-4989-9bb3-25f4c643af46"
      },
      "outputs": [
        {
          "output_type": "execute_result",
          "data": {
            "text/plain": [
              "<matplotlib.legend.Legend at 0x7fa665291340>"
            ]
          },
          "metadata": {},
          "execution_count": 21
        },
        {
          "output_type": "display_data",
          "data": {
            "text/plain": [
              "<Figure size 1080x720 with 1 Axes>"
            ],
            "image/png": "[encoded data removed]"
          },
          "metadata": {}
        }
      ],
      "source": [
        "#Chart for number of arrests per charge type per race\n",
        "\n",
        "df_O=merged_df_init.loc[merged_df_init['charge_1_type']=='O']\n",
        "vc=df_O['race'].value_counts()\n",
        "labels = list(dict(vc).keys())\n",
        "total=sum(list(dict(vc).values()))\n",
        "sizes = list(dict(vc).values())/total*100\n",
        "labels = [f'{l}, {s:0.2f}%' for l, s in zip(labels, sizes)]\n",
        "plt.figure(figsize = (15,10))\n",
        "pie = plt.pie(sizes, startangle=90)\n",
        "plt.legend(bbox_to_anchor=(0.85, 1), loc='upper left', labels=labels)"
      ]
    },
    {
      "cell_type": "code",
      "execution_count": 22,
      "metadata": {
        "colab": {
          "base_uri": "https://localhost:8080/",
          "height": 593
        },
        "id": "chCbw4tqkVHl",
        "outputId": "11766ad6-2ee0-47fa-89e5-cf38bd7725da"
      },
      "outputs": [
        {
          "output_type": "execute_result",
          "data": {
            "text/plain": [
              "<matplotlib.legend.Legend at 0x7fa663c305b0>"
            ]
          },
          "metadata": {},
          "execution_count": 22
        },
        {
          "output_type": "display_data",
          "data": {
            "text/plain": [
              "<Figure size 1080x720 with 1 Axes>"
            ],
            "image/png": "[encoded data removed]"
          },
          "metadata": {}
        }
      ],
      "source": [
        "df_M=merged_df_init.loc[merged_df_init['charge_1_type']=='M']\n",
        "vc=df_M['race'].value_counts()\n",
        "labels = list(dict(vc).keys())\n",
        "total=sum(list(dict(vc).values()))\n",
        "sizes = list(dict(vc).values())/total*100\n",
        "labels = [f'{l}, {s:0.2f}%' for l, s in zip(labels, sizes)]\n",
        "plt.figure(figsize = (15,10))\n",
        "pie = plt.pie(sizes, startangle=90)\n",
        "plt.legend(bbox_to_anchor=(0.85, 1), loc='upper left', labels=labels)"
      ]
    },
    {
      "cell_type": "code",
      "execution_count": 23,
      "metadata": {
        "colab": {
          "base_uri": "https://localhost:8080/",
          "height": 593
        },
        "id": "A_kvGaSvkVHl",
        "outputId": "35e07b51-c972-4caf-d5dc-6bd303524b8b"
      },
      "outputs": [
        {
          "output_type": "execute_result",
          "data": {
            "text/plain": [
              "<matplotlib.legend.Legend at 0x7fa661014fd0>"
            ]
          },
          "metadata": {},
          "execution_count": 23
        },
        {
          "output_type": "display_data",
          "data": {
            "text/plain": [
              "<Figure size 1080x720 with 1 Axes>"
            ],
            "image/png": "[encoded data removed]"
          },
          "metadata": {}
        }
      ],
      "source": [
        "df_M=merged_df_init.loc[merged_df_init['charge_1_type']=='F']\n",
        "vc=df_M['race'].value_counts()\n",
        "labels = list(dict(vc).keys())\n",
        "total=sum(list(dict(vc).values()))\n",
        "sizes = list(dict(vc).values())/total*100\n",
        "labels = [f'{l}, {s:0.2f}%' for l, s in zip(labels, sizes)]\n",
        "plt.figure(figsize = (15,10))\n",
        "pie = plt.pie(sizes, startangle=90)\n",
        "plt.legend(bbox_to_anchor=(0.85, 1), loc='upper left', labels=labels)"
      ]
    },
    {
      "cell_type": "code",
      "execution_count": 24,
      "metadata": {
        "id": "mwgVhRDNkVHm"
      },
      "outputs": [],
      "source": [
        "def show_values(axs, orient=\"v\", space=.01):\n",
        "    def _single(ax):\n",
        "        if orient == \"v\":\n",
        "            for p in ax.patches:\n",
        "                _x = p.get_x() + p.get_width() / 2\n",
        "                _y = p.get_y() + p.get_height() + (p.get_height()*0.01)\n",
        "                value = '{:.0f}'.format(p.get_height())\n",
        "                ax.text(_x, _y, value, ha=\"center\") \n",
        "        elif orient == \"h\":\n",
        "            for p in ax.patches:\n",
        "                _x = p.get_x() + p.get_width() + float(space)\n",
        "                _y = p.get_y() + p.get_height() - (p.get_height()*0.5)\n",
        "                value = '{:.0f}'.format(p.get_width())\n",
        "                ax.text(_x, _y, value, ha=\"left\")\n",
        "\n",
        "    if isinstance(axs, np.ndarray):\n",
        "        for idx, ax in np.ndenumerate(axs):\n",
        "            _single(ax)\n",
        "    else:\n",
        "        _single(axs)"
      ]
    },
    {
      "cell_type": "code",
      "execution_count": 25,
      "metadata": {
        "colab": {
          "base_uri": "https://localhost:8080/",
          "height": 997
        },
        "id": "rQQJhCZvkVHn",
        "outputId": "30051e95-47bd-4b0f-8e34-b2a6ea0c0c28"
      },
      "outputs": [
        {
          "output_type": "execute_result",
          "data": {
            "text/plain": [
              "<AxesSubplot: xlabel='date_year', ylabel='count'>"
            ]
          },
          "metadata": {},
          "execution_count": 25
        },
        {
          "output_type": "display_data",
          "data": {
            "text/plain": [
              "<Figure size 720x576 with 1 Axes>"
            ],
            "image/png": "[encoded data removed]"
          },
          "metadata": {
            "needs_background": "light"
          }
        },
        {
          "output_type": "display_data",
          "data": {
            "text/plain": [
              "<Figure size 720x576 with 1 Axes>"
            ],
            "image/png": "[encoded data removed]"
          },
          "metadata": {
            "needs_background": "light"
          }
        }
      ],
      "source": [
        "#Chart for number of arrests per year type per race\n",
        "plt.figure(figsize=(10,8))\n",
        "p=sns.countplot(x='date_year', data=merged_df_init)\n",
        "show_values(p)\n",
        "plt.figure(figsize=(10,8))\n",
        "sns.countplot(x='date_year', hue='race', data=merged_df_init)"
      ]
    },
    {
      "cell_type": "code",
      "execution_count": 26,
      "metadata": {
        "colab": {
          "base_uri": "https://localhost:8080/",
          "height": 502
        },
        "id": "nCzFA9wXkVHo",
        "outputId": "87f79d5c-c078-43fc-db7d-70f32496505e"
      },
      "outputs": [
        {
          "output_type": "display_data",
          "data": {
            "text/plain": [
              "<Figure size 720x576 with 1 Axes>"
            ],
            "image/png": "[encoded data removed]"
          },
          "metadata": {
            "needs_background": "light"
          }
        }
      ],
      "source": [
        "#Total number of arrests per month (1-12)\n",
        "plt.figure(figsize=(10,8))\n",
        "p=sns.countplot(x='date_month',data=merged_df_init)\n",
        "plt.ylim([0, 30000])\n",
        "show_values(p)"
      ]
    },
    {
      "cell_type": "code",
      "execution_count": 27,
      "metadata": {
        "colab": {
          "base_uri": "https://localhost:8080/",
          "height": 606
        },
        "id": "P2_KQ11xkVHp",
        "outputId": "7f3e6fb3-fc91-41cc-db9d-0fe30963d53e"
      },
      "outputs": [
        {
          "output_type": "display_data",
          "data": {
            "text/plain": [
              "<Figure size 864x720 with 1 Axes>"
            ],
            "image/png": "[encoded data removed]"
          },
          "metadata": {
            "needs_background": "light"
          }
        }
      ],
      "source": [
        "#Total number of arrests per time of day (12am - 11:59pm)\n",
        "merged_df_init[\"arrest_hour\"]=merged_df_init.apply(lambda x: pd.to_numeric(x['time'].split(':')[0]) if x['meridiem']=='AM' else pd.to_numeric(x['time'].split(':')[0])+12,axis=1)\n",
        "plt.figure(figsize=(12,10))\n",
        "p=sns.countplot(x='arrest_hour', data=merged_df_init)\n",
        "show_values(p)"
      ]
    },
    {
      "cell_type": "markdown",
      "metadata": {
        "id": "QeA0GWdmkVHq"
      },
      "source": [
        "Global Variables"
      ]
    },
    {
      "cell_type": "code",
      "execution_count": 28,
      "metadata": {
        "id": "wISsHeqmkVHq"
      },
      "outputs": [],
      "source": [
        "from sklearn.preprocessing import MinMaxScaler\n",
        "from sklearn.preprocessing import StandardScaler\n",
        "from sklearn.decomposition import PCA\n",
        "from sklearn.model_selection import GridSearchCV\n",
        "from sklearn.pipeline import make_pipeline\n",
        "from sklearn.metrics import accuracy_score\n",
        "from sklearn.metrics import f1_score\n",
        "\n",
        "scalers = [MinMaxScaler(), StandardScaler(), PCA()]"
      ]
    },
    {
      "cell_type": "markdown",
      "metadata": {
        "id": "LTAI7oH71t7J"
      },
      "source": [
        "KNN"
      ]
    },
    {
      "cell_type": "code",
      "execution_count": 56,
      "metadata": {
        "id": "QWafU_mF405R"
      },
      "outputs": [],
      "source": [
        "from  sklearn.neighbors import KNeighborsClassifier"
      ]
    },
    {
      "cell_type": "code",
      "execution_count": 78,
      "metadata": {
        "colab": {
          "base_uri": "https://localhost:8080/"
        },
        "id": "B0L6lU211t7J",
        "outputId": "e0e5f928-0f2e-41c0-e66b-294b86e658ad"
      },
      "outputs": [
        {
          "output_type": "stream",
          "name": "stdout",
          "text": [
            "{'leaf_size': 35, 'n_neighbors': 9, 'weights': 'uniform'}\n"
          ]
        }
      ],
      "source": [
        "knn = KNeighborsClassifier()\n",
        "params = {'n_neighbors':[i for i in range(3, 10, 2)],\n",
        "          'weights':['uniform', 'distance'], \n",
        "          # 'algorithm': ['auto', 'ball_tree', 'kd_tree', 'brute'], \n",
        "          'leaf_size':[i for i in range(20, 40, 5)]}\n",
        "clf_knn = GridSearchCV(knn, params, cv=5)\n",
        "clf_knn.fit(x_train,y_train)\n",
        "print(clf_knn.best_params_)"
      ]
    },
    {
      "cell_type": "code",
      "source": [
        "y_pred = clf_knn.predict(x_test)\n",
        "print(\"Multi-class F1 score: \", f1_score(y_test, y_pred, average='macro'))"
      ],
      "metadata": {
        "colab": {
          "base_uri": "https://localhost:8080/"
        },
        "id": "UlIIGIX1oQJQ",
        "outputId": "c9492fa7-7f95-4ae8-cb8a-d57854e123ae"
      },
      "execution_count": 79,
      "outputs": [
        {
          "output_type": "stream",
          "name": "stdout",
          "text": [
            "Multi-class F1 score:  0.44089860405857356\n"
          ]
        }
      ]
    },
    {
      "cell_type": "code",
      "execution_count": 80,
      "metadata": {
        "colab": {
          "base_uri": "https://localhost:8080/"
        },
        "id": "JJ4FNGHk1t7K",
        "outputId": "1d074059-8c4f-42ee-e5d4-20955e1bb225"
      },
      "outputs": [
        {
          "output_type": "stream",
          "name": "stdout",
          "text": [
            "Best score: 0.606992588625467\n",
            "CV score: 0.5861088770433993\n"
          ]
        }
      ],
      "source": [
        "print(\"Best score:\", clf_knn.best_score_)\n",
        "print(\"CV score:\", clf_knn.cv_results_['mean_test_score'].mean())"
      ]
    },
    {
      "cell_type": "code",
      "execution_count": 81,
      "metadata": {
        "colab": {
          "base_uri": "https://localhost:8080/"
        },
        "id": "c9kKGSLD1t7K",
        "outputId": "034024e5-bd37-42cf-8d36-b4bc9000eab3"
      },
      "outputs": [
        {
          "output_type": "stream",
          "name": "stdout",
          "text": [
            "MinMaxScaler() score =  0.6024800792116555\n",
            "StandardScaler() score =  0.6036588240841152\n",
            "PCA() score =  0.603988872648404\n"
          ]
        }
      ],
      "source": [
        "for index, scaling in enumerate(scalers):\n",
        "    pipe = make_pipeline(scaling, clf_knn.best_estimator_)\n",
        "    pipe.fit(x_train,y_train)\n",
        "    y_pred = pipe.predict(x_test)\n",
        "    print(scalers[index], \"score = \", accuracy_score(y_pred, y_test))"
      ]
    },
    {
      "cell_type": "code",
      "execution_count": 82,
      "metadata": {
        "colab": {
          "base_uri": "https://localhost:8080/"
        },
        "id": "rIg-xS-d1t7K",
        "outputId": "c4a71c01-67b2-43bc-a371-067472f7f79b"
      },
      "outputs": [
        {
          "output_type": "stream",
          "name": "stdout",
          "text": [
            "No scaling score =  0.6058748644443397\n"
          ]
        }
      ],
      "source": [
        "clf_knn.best_estimator_.fit(x_train,y_train)\n",
        "y_pred = clf_knn.best_estimator_.predict(x_test)\n",
        "print(\"No scaling score = \", accuracy_score(y_pred, y_test))"
      ]
    },
    {
      "cell_type": "markdown",
      "metadata": {
        "id": "l_zXgUeZ1t7L"
      },
      "source": [
        "Neural Networks"
      ]
    },
    {
      "cell_type": "code",
      "execution_count": 70,
      "metadata": {
        "id": "T7abPjNX1t7L"
      },
      "outputs": [],
      "source": [
        "from statistics import mean \n",
        "from sklearn.neural_network import MLPClassifier\n",
        "from sklearn.neural_network import MLPRegressor\n",
        "from sklearn.model_selection import cross_val_score"
      ]
    },
    {
      "cell_type": "code",
      "execution_count": 71,
      "metadata": {
        "colab": {
          "base_uri": "https://localhost:8080/"
        },
        "id": "uiRLtrvn1t7L",
        "outputId": "bedf9302-9b59-44b6-e6aa-b69e5bde9a1b"
      },
      "outputs": [
        {
          "output_type": "stream",
          "name": "stdout",
          "text": [
            "0.5892781366401056\n"
          ]
        }
      ],
      "source": [
        "net_classifier = MLPClassifier()\n",
        "net_classifier.fit(x_train,y_train)\n",
        "classifier_preds = net_classifier.predict(x_test)\n",
        "score = net_classifier.score(x_test,y_test)\n",
        "print(score)"
      ]
    },
    {
      "cell_type": "code",
      "execution_count": 73,
      "metadata": {
        "colab": {
          "base_uri": "https://localhost:8080/"
        },
        "id": "Ueaj8mkj1t7L",
        "outputId": "880f5e6c-ae48-4ba4-a10f-c60c780f40ff"
      },
      "outputs": [
        {
          "output_type": "stream",
          "name": "stdout",
          "text": [
            "MinMaxScore = 0.6248762317883917\n",
            "StandardScaler = 0.6243575840445094\n",
            "PCA = 0.6331745956905087\n"
          ]
        }
      ],
      "source": [
        "scores = []\n",
        "for scaling in scalers:\n",
        "    pipe = make_pipeline(scaling, net_classifier)\n",
        "    pipe.fit(x_train,y_train)\n",
        "    scores.append(pipe.score(x_test,y_test))\n",
        "\n",
        "print(\"MinMaxScore =\",scores[0])\n",
        "print(\"StandardScaler =\",scores[1])\n",
        "print(\"PCA =\",scores[2])"
      ]
    },
    {
      "cell_type": "code",
      "execution_count": 74,
      "metadata": {
        "colab": {
          "base_uri": "https://localhost:8080/"
        },
        "id": "teIKBvE61t7M",
        "outputId": "40e924d6-9fe1-4f30-9a9e-c30006576ff7"
      },
      "outputs": [
        {
          "output_type": "stream",
          "name": "stdout",
          "text": [
            "Best score: 0.5892781366401056\n",
            "CV score: 0.5255745786519285\n",
            "Best estimator: MLPClassifier(learning_rate_init=0.0009, random_state=200)\n"
          ]
        }
      ],
      "source": [
        "parameters = {\n",
        "    # 'solver': ['lbfgs', 'sgd', 'adam'],\n",
        "    # 'activation' : ['identity', 'logistic', 'tanh', 'relu'],\n",
        "    # 'alpha' : [0.001, 0.01,0.0001,0.002,0.003],\n",
        "    'learning_rate' : ['constant', 'invscaling', 'adaptive'],\n",
        "    'learning_rate_init' : [0.001,0.002,0.0011,0.0009],\n",
        "    'random_state':[0,100,200,300,400],\n",
        "}\n",
        "\n",
        "search = GridSearchCV(net_classifier,parameters)\n",
        "search.fit(x_train,y_train)\n",
        "\n",
        "best = search.best_estimator_\n",
        "best_score = best.score(x_test,y_test)\n",
        "print(\"Best score:\", best_score)\n",
        "print(\"CV score:\", search.cv_results_['mean_test_score'].mean())\n",
        "print(\"Best estimator:\", best)"
      ]
    },
    {
      "cell_type": "code",
      "execution_count": 75,
      "metadata": {
        "colab": {
          "base_uri": "https://localhost:8080/"
        },
        "id": "s3PHZ7Dl1t7M",
        "outputId": "3a4b9eb1-b639-4d0e-88ac-295e3a2357e8"
      },
      "outputs": [
        {
          "output_type": "stream",
          "name": "stdout",
          "text": [
            "MinMaxScore = 0.6268565231741242\n",
            "StandardScaler = 0.6271394219435146\n",
            "PCA = 0.6311943043047763\n"
          ]
        }
      ],
      "source": [
        "scores = []\n",
        "for scaling in scalers:\n",
        "    pipe = make_pipeline(scaling, best)\n",
        "    pipe.fit(x_train,y_train)\n",
        "    scores.append(pipe.score(x_test,y_test))\n",
        "\n",
        "print(\"MinMaxScore =\",scores[0])\n",
        "print(\"StandardScaler =\",scores[1])\n",
        "print(\"PCA =\",scores[2])"
      ]
    },
    {
      "cell_type": "code",
      "source": [
        "pipe = make_pipeline(PCA(), best)\n",
        "pipe.fit(x_train,y_train)\n",
        "y_pred = pipe.predict(x_test)\n",
        "print(\"Multi-class F1 score: \", f1_score(y_test, y_pred, average='macro'))"
      ],
      "metadata": {
        "colab": {
          "base_uri": "https://localhost:8080/"
        },
        "id": "dMgSc7Yroi4j",
        "outputId": "7f689a8f-9f33-4454-f15d-47b12eeb06e5"
      },
      "execution_count": 91,
      "outputs": [
        {
          "output_type": "stream",
          "name": "stdout",
          "text": [
            "Multi-class F1 score:  0.32097898281521503\n"
          ]
        }
      ]
    },
    {
      "cell_type": "markdown",
      "metadata": {
        "id": "LQhJiBo11t7M"
      },
      "source": [
        "Random Forest"
      ]
    },
    {
      "cell_type": "code",
      "execution_count": 57,
      "metadata": {
        "id": "xsP-Tatu3lZc"
      },
      "outputs": [],
      "source": [
        "from sklearn.model_selection import cross_val_score\n",
        "from sklearn.ensemble import RandomForestClassifier"
      ]
    },
    {
      "cell_type": "code",
      "execution_count": 58,
      "metadata": {
        "id": "5Cj7REAb1t7N"
      },
      "outputs": [],
      "source": [
        "clf_m = RandomForestClassifier(n_estimators = 100,random_state=0)\n",
        "clf_m.fit(x_train, y_train)\n",
        "scores_RF = cross_val_score(clf_m, x_train,y_train, cv=5)"
      ]
    },
    {
      "cell_type": "code",
      "execution_count": 59,
      "metadata": {
        "colab": {
          "base_uri": "https://localhost:8080/"
        },
        "id": "JeVq6D6Y1t7N",
        "outputId": "0fea1dbc-871b-4743-d43f-bee0ff739c27"
      },
      "outputs": [
        {
          "output_type": "stream",
          "name": "stdout",
          "text": [
            "Best estimator: RandomForestClassifier(max_depth=12, min_samples_leaf=9, random_state=0)\n"
          ]
        }
      ],
      "source": [
        "parameters = {'max_depth':[i for i in range(6,17,2)],\n",
        "              'min_samples_leaf':[i for i in range(9, 15)]}\n",
        "clf_mCV = GridSearchCV(clf_m, parameters, scoring='accuracy', cv=5)\n",
        "clf_mCV.fit(x_train,y_train)\n",
        "print(\"Best estimator:\", clf_mCV.best_estimator_)"
      ]
    },
    {
      "cell_type": "code",
      "execution_count": 60,
      "metadata": {
        "colab": {
          "base_uri": "https://localhost:8080/"
        },
        "id": "sZFRxCO5kVHy",
        "outputId": "4aa52974-a895-4406-ae89-f3761b257d46"
      },
      "outputs": [
        {
          "output_type": "stream",
          "name": "stdout",
          "text": [
            "Best Estimator: RandomForestClassifier(max_depth=12, max_features=4, min_samples_leaf=9,\n",
            "                       min_samples_split=38, random_state=0)\n",
            "Best score: 0.6430870116353828\n",
            "CV score: 0.642370299278208\n"
          ]
        }
      ],
      "source": [
        "parameters = {'max_features':[i for i in range(4, 9)],\n",
        "              'min_samples_split':[i for i in range(33,39)]}\n",
        "clf_mCV = GridSearchCV(clf_mCV.best_estimator_, parameters,cv=5)\n",
        "clf_mCV.fit(x_train,y_train)\n",
        "\n",
        "print(\"Best Estimator:\", clf_mCV.best_estimator_)\n",
        "print(\"Best score:\", clf_mCV.best_score_)\n",
        "print(\"CV score:\", clf_mCV.cv_results_['mean_test_score'].mean())"
      ]
    },
    {
      "cell_type": "code",
      "execution_count": 61,
      "metadata": {
        "id": "VYx2O6Jr1t7O",
        "colab": {
          "base_uri": "https://localhost:8080/"
        },
        "outputId": "6611503d-fe08-4fd5-c156-71f3ea8a6b7d"
      },
      "outputs": [
        {
          "output_type": "stream",
          "name": "stdout",
          "text": [
            "Accuracy:  0.640058465745674\n"
          ]
        }
      ],
      "source": [
        "# performing predictions on the test dataset\n",
        "y_pred_m = clf_mCV.best_estimator_.predict(x_test)\n",
        "\n",
        "# using metrics module for accuracy calculation\n",
        "print(\"Accuracy: \", accuracy_score(y_test, y_pred_m))"
      ]
    },
    {
      "cell_type": "code",
      "execution_count": 62,
      "metadata": {
        "colab": {
          "base_uri": "https://localhost:8080/"
        },
        "id": "ijjbjEmQkVHz",
        "outputId": "df62acb9-8ea4-4bb0-bad9-957c8f5d6836"
      },
      "outputs": [
        {
          "output_type": "stream",
          "name": "stdout",
          "text": [
            "MinMaxScaler() score =  0.6400113159507756\n",
            "StandardScaler() score =  0.6401056155405724\n",
            "PCA() score =  0.6403413645150644\n"
          ]
        }
      ],
      "source": [
        "for index, scaling in enumerate(scalers):\n",
        "    pipe = make_pipeline(scaling, clf_mCV.best_estimator_)\n",
        "    pipe.fit(x_train,y_train)\n",
        "    y_pred = pipe.predict(x_test)\n",
        "    print(scalers[index], \"score = \", accuracy_score(y_pred, y_test))"
      ]
    },
    {
      "cell_type": "code",
      "source": [
        "print(\"Multi-class F1 score: \", f1_score(y_test, y_pred_m, average='macro'))"
      ],
      "metadata": {
        "colab": {
          "base_uri": "https://localhost:8080/"
        },
        "id": "E_2IZQ8epT2X",
        "outputId": "8c0021d0-d56b-483d-f2b2-be94c0ff8d98"
      },
      "execution_count": 63,
      "outputs": [
        {
          "output_type": "stream",
          "name": "stdout",
          "text": [
            "Multi-class F1 score:  0.44342364598448075\n"
          ]
        }
      ]
    },
    {
      "cell_type": "markdown",
      "metadata": {
        "id": "yTKQcd-k1t7O"
      },
      "source": [
        "Gradient Boosting"
      ]
    },
    {
      "cell_type": "code",
      "execution_count": 95,
      "metadata": {
        "id": "0QwGrWO_1t7O"
      },
      "outputs": [],
      "source": [
        "from sklearn.ensemble import HistGradientBoostingClassifier\n",
        "from sklearn.model_selection import GridSearchCV\n",
        "from sklearn import metrics\n",
        "from xgboost import XGBClassifier\n",
        "from sklearn.preprocessing import LabelEncoder"
      ]
    },
    {
      "cell_type": "code",
      "execution_count": 96,
      "metadata": {
        "id": "2t7dhKXbkVH0"
      },
      "outputs": [],
      "source": [
        "merged_df = merged_df.infer_objects()\n",
        "\n",
        "x = merged_df[['race_WHITE HISPANIC','race_BLACK','race_BLACK HISPANIC',\n",
        "               'race_WHITE','race_ASIAN / PACIFIC ISLANDER',\n",
        "               'race_AMER INDIAN / ALASKAN NATIVE', \\\n",
        "    'race_UNKNOWN / REFUSED','ward','district','date_day','date_year']]\n",
        "\n",
        "x = x.astype({'district':'int', 'ward':'int'})\n",
        "\n",
        "m_charge_types = merged_df.loc[:, \"charge_1_type\"].replace('A', 'M')\n",
        "m_charge_types = m_charge_types.replace('R', 'O')\n",
        "m_charge_types = m_charge_types.replace('V', 'O')\n",
        "multi_class_types = pd.factorize(m_charge_types)\n",
        "multi_class_types = multi_class_types[0]\n",
        "\n",
        "x_train, x_test, y_train, y_test = train_test_split(x, multi_class_types, \n",
        "                                                    test_size=0.2, \n",
        "                                                    random_state=2)"
      ]
    },
    {
      "cell_type": "code",
      "execution_count": 30,
      "metadata": {
        "id": "29JXGxB41t7P",
        "colab": {
          "base_uri": "https://localhost:8080/"
        },
        "outputId": "5834189b-4cfc-499a-98c0-3bddbb787b2e"
      },
      "outputs": [
        {
          "output_type": "stream",
          "name": "stdout",
          "text": [
            "accuracy score:  0.6382544280355192\n"
          ]
        }
      ],
      "source": [
        "# training\n",
        "xgb_clf_m = XGBClassifier()\n",
        "xgb_clf_m.fit(x_train, y_train)\n",
        "\n",
        "# testing\n",
        "score_m = xgb_clf_m.score(x_test, y_test)\n",
        "print(\"accuracy score: \", score_m)"
      ]
    },
    {
      "cell_type": "code",
      "execution_count": 31,
      "metadata": {
        "id": "J2i7L3NC1t7P",
        "colab": {
          "base_uri": "https://localhost:8080/"
        },
        "outputId": "f383b231-97b4-43fa-dbf7-dfe1a26f3064"
      },
      "outputs": [
        {
          "output_type": "stream",
          "name": "stdout",
          "text": [
            "MinMaxScaler() score =  0.6382544280355192\n",
            "StandardScaler() score =  0.6382544280355192\n",
            "PCA() score =  0.6207322285008785\n"
          ]
        }
      ],
      "source": [
        "for index, scaling in enumerate(scalers):\n",
        "    pipe = make_pipeline(scaling, XGBClassifier())\n",
        "    pipe.fit(x_train,y_train)\n",
        "    y_pred = pipe.predict(x_test)\n",
        "    print(scalers[index], \"score = \", accuracy_score(y_pred, y_test))"
      ]
    },
    {
      "cell_type": "code",
      "source": [
        "xgb_params = {\"min_child_weight\": [i for i in range(1,5)], \n",
        "              \"max_depth\": [i for i in range(3,10)]}\n",
        "xgb_clf = XGBClassifier()\n",
        "xgb_clf_cv = GridSearchCV(xgb_clf, scoring='accuracy', \n",
        "                          cv=5, param_grid=xgb_params)\n",
        "xgb_clf_cv.fit(x_train, y_train)\n"
      ],
      "metadata": {
        "id": "zQGHWk2AhIAN"
      },
      "execution_count": null,
      "outputs": []
    },
    {
      "cell_type": "code",
      "source": [
        "print(\"best parameters: \", xgb_clf_cv.best_params_)\n",
        "print(\"best score:\", xgb_clf_cv.best_score_)\n",
        "print(\"CV score:\", xgb_clf_cv.cv_results_['mean_test_score'].mean())\n",
        "print(\"Best Estimator:\", xgb_clf_cv.best_estimator_)\n",
        "print(\"Accuracy:\", xgb_clf_cv.score(x_test, y_test))"
      ],
      "metadata": {
        "colab": {
          "base_uri": "https://localhost:8080/"
        },
        "id": "N28SnfERyfcy",
        "outputId": "bba7f717-6464-496d-d58e-00f2c0ba4a7a"
      },
      "execution_count": 34,
      "outputs": [
        {
          "output_type": "stream",
          "name": "stdout",
          "text": [
            "best parameters:  {'max_depth': 6, 'min_child_weight': 1}\n",
            "best score: 0.6410323962813526\n",
            "CV score: 0.6398901914456119\n",
            "Best Estimator: XGBClassifier(max_depth=6, objective='multi:softprob')\n",
            "Accuracy: 0.6432404197730187\n"
          ]
        }
      ]
    },
    {
      "cell_type": "code",
      "source": [
        "y_pred = xgb_clf_cv.predict(x_test)\n",
        "print(\"Multi-class F1 score: \", f1_score(y_test, y_pred, average='macro'))"
      ],
      "metadata": {
        "colab": {
          "base_uri": "https://localhost:8080/"
        },
        "id": "8ehFzD6kyokl",
        "outputId": "6f1354b4-ff4a-43b4-9edb-cd8c26f04b18"
      },
      "execution_count": 37,
      "outputs": [
        {
          "output_type": "stream",
          "name": "stdout",
          "text": [
            "Multi-class F1 score:  0.4417905299748064\n"
          ]
        }
      ]
    },
    {
      "cell_type": "code",
      "execution_count": 97,
      "metadata": {
        "id": "YWdZcG9_1t7P",
        "colab": {
          "base_uri": "https://localhost:8080/"
        },
        "outputId": "da5e190f-dfaf-4179-f289-497125b04d3e"
      },
      "outputs": [
        {
          "output_type": "stream",
          "name": "stdout",
          "text": [
            "accuracy score:  0.6388325710783158\n"
          ]
        }
      ],
      "source": [
        "# training\n",
        "light_clf = HistGradientBoostingClassifier()\n",
        "light_clf.fit(x_train, y_train)\n",
        "\n",
        "# testing\n",
        "score_light = light_clf.score(x_test, y_test)\n",
        "print(\"accuracy score: \", score_light)"
      ]
    },
    {
      "cell_type": "code",
      "execution_count": 98,
      "metadata": {
        "id": "5jjNoKMo1t7P",
        "colab": {
          "base_uri": "https://localhost:8080/"
        },
        "outputId": "91937d05-df96-4d04-8a0a-1259630a68fa"
      },
      "outputs": [
        {
          "output_type": "stream",
          "name": "stdout",
          "text": [
            "MinMaxScaler() score =  0.6388797208732142\n",
            "StandardScaler() score =  0.6383139233344335\n",
            "PCA() score =  0.6351548870762412\n"
          ]
        }
      ],
      "source": [
        "for index, scaling in enumerate(scalers):\n",
        "    pipe = make_pipeline(scaling, HistGradientBoostingClassifier())\n",
        "    pipe.fit(x_train,y_train)\n",
        "    y_pred = pipe.predict(x_test)\n",
        "    print(scalers[index], \"score = \", accuracy_score(y_pred, y_test))"
      ]
    },
    {
      "cell_type": "code",
      "execution_count": 99,
      "metadata": {
        "id": "3ZE7Cm0h1t7P",
        "colab": {
          "base_uri": "https://localhost:8080/"
        },
        "outputId": "5b63d950-c309-4e18-d740-ca51071a25e5"
      },
      "outputs": [
        {
          "output_type": "stream",
          "name": "stdout",
          "text": [
            "best parameters:  {'l2_regularization': 0.1, 'max_depth': None, 'max_iter': 200, 'max_leaf_nodes': 31}\n",
            "best score: 0.6425447520323637\n",
            "CV score: 0.6370155847658824\n",
            "0.6392569192324014\n"
          ]
        }
      ],
      "source": [
        "hist_params = {\"max_iter\": [100, 150, 200], \"max_leaf_nodes\": [31, None], \n",
        "               \"max_depth\": [9, None], \"l2_regularization\": [0, 0.001, 0.1]}\n",
        "hist_clf = HistGradientBoostingClassifier()\n",
        "hist_clf_cv = GridSearchCV(hist_clf, scoring='accuracy', cv=5, \n",
        "                           param_grid=hist_params)\n",
        "hist_clf_cv.fit(x_train, y_train)\n",
        "print(\"best parameters: \", hist_clf_cv.best_params_)\n",
        "print(\"best score:\", hist_clf_cv.best_score_)\n",
        "print(\"CV score:\", hist_clf_cv.cv_results_['mean_test_score'].mean())\n",
        "print(hist_clf_cv.score(x_test, y_test))"
      ]
    },
    {
      "cell_type": "code",
      "source": [
        "y_pred = hist_clf_cv.predict(x_test)\n",
        "print(\"Multi-class F1 score: \", f1_score(y_test, y_pred, average='macro'))"
      ],
      "metadata": {
        "colab": {
          "base_uri": "https://localhost:8080/"
        },
        "id": "5kMJtVBWqak7",
        "outputId": "a6898b35-ef61-49de-cda2-71594b956c47"
      },
      "execution_count": 100,
      "outputs": [
        {
          "output_type": "stream",
          "name": "stdout",
          "text": [
            "Multi-class F1 score:  0.44549039816366554\n"
          ]
        }
      ]
    },
    {
      "cell_type": "code",
      "execution_count": 101,
      "metadata": {
        "id": "1v752Scx1t7Q",
        "colab": {
          "base_uri": "https://localhost:8080/"
        },
        "outputId": "b6584c09-d000-475e-9d77-b5be089d9f5f"
      },
      "outputs": [
        {
          "output_type": "stream",
          "name": "stdout",
          "text": [
            "dim =  1  accuracy score:  0.6317352763765147\n",
            "dim =  2  accuracy score:  0.6355545381549017\n",
            "dim =  3  accuracy score:  0.638030025360544\n",
            "dim =  4  accuracy score:  0.6389730448801457\n",
            "dim =  5  accuracy score:  0.6401282437569191\n",
            "dim =  6  accuracy score:  0.6406468927509679\n",
            "dim =  7  accuracy score:  0.6407294308766335\n",
            "dim =  8  accuracy score:  0.6412009316043324\n",
            "dim =  9  accuracy score:  0.6400928914155646\n",
            "dim =  10  accuracy score:  0.6405761845943733\n"
          ]
        }
      ],
      "source": [
        "# Plot\n",
        "dims = list(range(1, 11))\n",
        "acc_scores = []\n",
        "for dim in dims:\n",
        "    # PCA\n",
        "    pca_project = PCA(n_components=dim)\n",
        "    trans_s_data = pca_project.fit_transform(x_train)\n",
        "\n",
        "    # CV\n",
        "    hist_params = {'l2_regularization': [0.001], \n",
        "                   'max_depth': [None], 'max_iter': [100], \n",
        "                   'max_leaf_nodes': [31]}\n",
        "    hist_clf = HistGradientBoostingClassifier()\n",
        "    hist_clf_cv = GridSearchCV(hist_clf, scoring='accuracy', \n",
        "                               cv=5, param_grid=hist_params)\n",
        "    hist_clf_cv.fit(trans_s_data, y_train)\n",
        "    acc_scores.append(hist_clf_cv.best_score_)\n",
        "    print(\"dim = \", dim, \" accuracy score: \", hist_clf_cv.best_score_)"
      ]
    },
    {
      "cell_type": "code",
      "execution_count": 102,
      "metadata": {
        "id": "kL8hbfW11t7Q",
        "colab": {
          "base_uri": "https://localhost:8080/",
          "height": 295
        },
        "outputId": "b5d21340-b151-47ec-9f91-6c8ddbe8036f"
      },
      "outputs": [
        {
          "output_type": "display_data",
          "data": {
            "text/plain": [
              "<Figure size 432x288 with 1 Axes>"
            ],
            "image/png": "[encoded data removed]"
          },
          "metadata": {
            "needs_background": "light"
          }
        }
      ],
      "source": [
        "plt.plot(dims, acc_scores)\n",
        "plt.axvline(x = 4, color = 'purple', label = 'axvline - full height', \n",
        "            linestyle=\":\")\n",
        "plt.xlabel(\"dimension\")\n",
        "plt.ylabel(\"accuracy score\")\n",
        "plt.title(\"Explore Reduced Dimensions by Knee Method\")\n",
        "plt.show()"
      ]
    },
    {
      "cell_type": "markdown",
      "metadata": {
        "id": "DWuHYl_b1t7Q"
      },
      "source": [
        "Ensemble Model"
      ]
    },
    {
      "cell_type": "code",
      "execution_count": 29,
      "metadata": {
        "id": "mbRFHplq1t7Q"
      },
      "outputs": [],
      "source": [
        "from sklearn.ensemble import GradientBoostingRegressor\n",
        "from sklearn.model_selection import cross_validate\n",
        "from sklearn.ensemble import BaggingClassifier\n",
        "from sklearn.linear_model import LogisticRegression\n",
        "from sklearn.tree import DecisionTreeClassifier\n",
        "from sklearn.neighbors import KNeighborsClassifier\n",
        "from sklearn.metrics import f1_score\n",
        "from sklearn.ensemble import VotingClassifier, AdaBoostClassifier, RandomForestClassifier, HistGradientBoostingClassifier, StackingClassifier, ExtraTreesClassifier"
      ]
    },
    {
      "cell_type": "code",
      "execution_count": 30,
      "metadata": {
        "id": "fHZZn3gx4-7T"
      },
      "outputs": [],
      "source": [
        "y_bool_train = [i == \"M\" for i in y_train['charge_1_type']]\n",
        "y_bool_test = [i == \"M\" for i in y_test['charge_1_type']]"
      ]
    },
    {
      "cell_type": "code",
      "execution_count": 31,
      "metadata": {
        "id": "Zj-3MMby1t7Q",
        "colab": {
          "base_uri": "https://localhost:8080/"
        },
        "outputId": "afe686e0-26fc-43f4-f647-2dd8c25db17d"
      },
      "outputs": [
        {
          "output_type": "execute_result",
          "data": {
            "text/plain": [
              "{'fit_time': array([0.27965498, 0.25680828, 0.26907229, 0.33667755, 0.30538321]),\n",
              " 'score_time': array([0.02931714, 0.02734232, 0.0356853 , 0.03655195, 0.03599143]),\n",
              " 'test_score': array([0.59315141, 0.5895562 , 0.5993399 , 0.59395261, 0.58841212])}"
            ]
          },
          "metadata": {},
          "execution_count": 31
        }
      ],
      "source": [
        "decision_tree_model = DecisionTreeClassifier(criterion='entropy')\n",
        "decision_tree_model.fit(x_train, y_bool_train)\n",
        "y_pred = decision_tree_model.predict(x_test)\n",
        "cv_results = cross_validate(decision_tree_model, x_train, y_bool_train)\n",
        "cv_results"
      ]
    },
    {
      "cell_type": "code",
      "execution_count": 32,
      "metadata": {
        "id": "AqycX4No1t7Q",
        "colab": {
          "base_uri": "https://localhost:8080/"
        },
        "outputId": "d7c893e3-b2d9-4bbc-c824-2ca0737601c6"
      },
      "outputs": [
        {
          "output_type": "stream",
          "name": "stdout",
          "text": [
            "best params: {'max_depth': 10, 'max_leaf_nodes': 105}\n",
            "best score: 0.6569613135833133\n",
            "CV score: 0.64778529757916\n"
          ]
        }
      ],
      "source": [
        "decision_tree_model = DecisionTreeClassifier(criterion='entropy')\n",
        "params = {'max_depth': [i for i in range(1,21)], \n",
        "          'max_leaf_nodes': [i for i in range(20,150,5)]}\n",
        "clf = GridSearchCV(decision_tree_model, params, scoring='accuracy', cv=5)\n",
        "clf.fit(x_train, y_bool_train)\n",
        "print(\"best params:\", clf.best_params_)\n",
        "print(\"best score:\", clf.best_score_)\n",
        "print(\"CV score:\", clf.cv_results_['mean_test_score'].mean())"
      ]
    },
    {
      "cell_type": "code",
      "execution_count": 33,
      "metadata": {
        "id": "PLhttJWj1t7S",
        "colab": {
          "base_uri": "https://localhost:8080/"
        },
        "outputId": "ce6a5ab3-e2f6-46ee-cc31-a98cc8141358"
      },
      "outputs": [
        {
          "output_type": "stream",
          "name": "stdout",
          "text": [
            "cv result: 0.6569731011709836\n"
          ]
        }
      ],
      "source": [
        "decision_tree_model = clf.best_estimator_\n",
        "decision_tree_model.fit(x_train, y_bool_train)\n",
        "y_pred = decision_tree_model.predict(x_train)\n",
        "cv_results = cross_validate(decision_tree_model, x_train, y_bool_train)\n",
        "score = np.mean(cv_results['test_score'])\n",
        "print(\"cv result:\", score)"
      ]
    },
    {
      "cell_type": "code",
      "execution_count": 34,
      "metadata": {
        "id": "7ToI_8O91t7U",
        "colab": {
          "base_uri": "https://localhost:8080/"
        },
        "outputId": "960e3cbe-4c51-496e-8fc7-59f3490a87e2"
      },
      "outputs": [
        {
          "output_type": "execute_result",
          "data": {
            "text/plain": [
              "0.6561365458060258"
            ]
          },
          "metadata": {},
          "execution_count": 34
        }
      ],
      "source": [
        "bg_clf = BaggingClassifier(base_estimator = decision_tree_model)\n",
        "bg_clf.fit(x_train, y_bool_train)\n",
        "y_pred = bg_clf.predict(x_test)\n",
        "accuracy_score(y_pred, y_bool_test)"
      ]
    },
    {
      "cell_type": "code",
      "execution_count": 35,
      "metadata": {
        "id": "TtevlnzC1t7Y",
        "colab": {
          "base_uri": "https://localhost:8080/"
        },
        "outputId": "296f680c-05cd-4902-8e4e-476d28ddd137"
      },
      "outputs": [
        {
          "output_type": "execute_result",
          "data": {
            "text/plain": [
              "0.655570748267245"
            ]
          },
          "metadata": {},
          "execution_count": 35
        }
      ],
      "source": [
        "clf = []\n",
        "for i in range(10):\n",
        "    clf.append(bg_clf)\n",
        "eclf1 = VotingClassifier(estimators=[('clf1', clf[0]), \n",
        "                                     ('clf2', clf[1]), \n",
        "                                     ('clf3', clf[2]), \n",
        "                                     ('clf4', clf[3]), \n",
        "                                     ('clf5', clf[4]), \n",
        "                                     ('clf6', clf[5]), \n",
        "                                     ('clf7', clf[6]), \n",
        "                                     ('clf8', clf[7]), \n",
        "                                     ('clf9', clf[8]), \n",
        "                                     ('clf10', clf[9])], voting='hard')\n",
        "eclf1 = eclf1.fit(x_train, y_bool_train)\n",
        "cv_results = cross_validate(eclf1, x_train, y_bool_train)\n",
        "y_pred = eclf1.predict(x_test)\n",
        "accuracy_score(y_pred, y_bool_test)"
      ]
    },
    {
      "cell_type": "code",
      "source": [
        "print(\"Multi-class F1 score: \", f1_score(y_bool_test, y_pred, average='macro'))"
      ],
      "metadata": {
        "colab": {
          "base_uri": "https://localhost:8080/"
        },
        "id": "on5iSnHBsKZy",
        "outputId": "30747928-215e-470b-e4ba-ad64d42de6c2"
      },
      "execution_count": 36,
      "outputs": [
        {
          "output_type": "stream",
          "name": "stdout",
          "text": [
            "Multi-class F1 score:  0.6055901735613057\n"
          ]
        }
      ]
    },
    {
      "cell_type": "code",
      "execution_count": 37,
      "metadata": {
        "colab": {
          "base_uri": "https://localhost:8080/"
        },
        "id": "F03olkECkVH8",
        "outputId": "afe560a4-b5a8-4ba1-e50e-c156edf0e444"
      },
      "outputs": [
        {
          "output_type": "stream",
          "name": "stdout",
          "text": [
            "MinMaxScaler() score =  0.6407185628742516\n",
            "StandardScaler() score =  0.6395869677966901\n",
            "PCA() score =  0.6372294780517704\n"
          ]
        }
      ],
      "source": [
        "for index, scaling in enumerate(scalers):\n",
        "    pipe = make_pipeline(scaling, bg_clf)\n",
        "    pipe.fit(x_train,y_train)\n",
        "    y_pred = pipe.predict(x_test)\n",
        "    print(scalers[index], \"score = \", accuracy_score(y_pred, y_test))"
      ]
    },
    {
      "cell_type": "code",
      "execution_count": 38,
      "metadata": {
        "id": "bsAc914y1t7b",
        "colab": {
          "base_uri": "https://localhost:8080/"
        },
        "outputId": "0a22967f-a504-4c25-cd15-f0f9b14405ef"
      },
      "outputs": [
        {
          "output_type": "execute_result",
          "data": {
            "text/plain": [
              "0.6441604979018342"
            ]
          },
          "metadata": {},
          "execution_count": 38
        }
      ],
      "source": [
        "aclf = AdaBoostClassifier()\n",
        "aclf.fit(x_train,y_bool_train)\n",
        "y_pred = aclf.predict(x_test)\n",
        "accuracy_score(y_pred, y_bool_test)"
      ]
    },
    {
      "cell_type": "code",
      "execution_count": 39,
      "metadata": {
        "id": "V0uJbabH1t7d",
        "colab": {
          "base_uri": "https://localhost:8080/"
        },
        "outputId": "d57dcdae-7b10-4b20-cbed-e9dd299cdf21"
      },
      "outputs": [
        {
          "output_type": "execute_result",
          "data": {
            "text/plain": [
              "0.6210570984016219"
            ]
          },
          "metadata": {},
          "execution_count": 39
        }
      ],
      "source": [
        "rclf = RandomForestClassifier()\n",
        "rclf.fit(x_train,y_bool_train)\n",
        "y_pred = rclf.predict(x_test)\n",
        "accuracy_score(y_pred, y_bool_test)"
      ]
    },
    {
      "cell_type": "code",
      "execution_count": 40,
      "metadata": {
        "id": "_GV_GDZf1t7f",
        "colab": {
          "base_uri": "https://localhost:8080/"
        },
        "outputId": "f39e54a3-33dc-45ef-fc1a-c0234ce229fc"
      },
      "outputs": [
        {
          "output_type": "execute_result",
          "data": {
            "text/plain": [
              "0.6095996982413127"
            ]
          },
          "metadata": {},
          "execution_count": 40
        }
      ],
      "source": [
        "eclf = ExtraTreesClassifier()\n",
        "eclf.fit(x_train,y_bool_train)\n",
        "y_pred = eclf.predict(x_test)\n",
        "accuracy_score(y_pred, y_bool_test)"
      ]
    },
    {
      "cell_type": "code",
      "execution_count": 41,
      "metadata": {
        "id": "SKsb1B_a1t7g",
        "colab": {
          "base_uri": "https://localhost:8080/"
        },
        "outputId": "e8f77635-f3d9-41f3-9a57-91293a232ec3"
      },
      "outputs": [
        {
          "output_type": "execute_result",
          "data": {
            "text/plain": [
              "0.6548163515488707"
            ]
          },
          "metadata": {},
          "execution_count": 41
        }
      ],
      "source": [
        "hclf = HistGradientBoostingClassifier()\n",
        "hclf.fit(x_train,y_bool_train)\n",
        "y_pred = hclf.predict(x_test)\n",
        "accuracy_score(y_pred, y_bool_test)"
      ]
    },
    {
      "cell_type": "code",
      "execution_count": 42,
      "metadata": {
        "id": "fF2CF44V1t7h",
        "colab": {
          "base_uri": "https://localhost:8080/"
        },
        "outputId": "f49d744b-d693-49ce-ff5f-664864efc706"
      },
      "outputs": [
        {
          "output_type": "execute_result",
          "data": {
            "text/plain": [
              "0.6551935499080579"
            ]
          },
          "metadata": {},
          "execution_count": 42
        }
      ],
      "source": [
        "estimators = [('dt', decision_tree_model),('rf',RandomForestClassifier())]\n",
        "sclf = StackingClassifier(estimators=estimators, \\\n",
        "                          final_estimator=LogisticRegression())\n",
        "sclf.fit(x_train,y_bool_train)\n",
        "y_pred = sclf.predict(x_test)\n",
        "accuracy_score(y_pred, y_bool_test)"
      ]
    },
    {
      "cell_type": "code",
      "source": [
        "params = {'stack_method': ['auto', 'predict_proba', 'decision_function', \n",
        "                           'predict'], 'passthrough': [True,False]}\n",
        "stack_clf = GridSearchCV(sclf, params, scoring='accuracy', cv=5)\n",
        "stack_clf.fit(x_train, y_bool_train)\n",
        "print(\"best params:\", stack_clf.best_params_)\n",
        "print(\"best score:\", stack_clf.best_score_)\n",
        "print(\"CV score:\", stack_clf.cv_results_['mean_test_score'].mean())"
      ],
      "metadata": {
        "colab": {
          "base_uri": "https://localhost:8080/"
        },
        "id": "RIx9FlSb_3Xw",
        "outputId": "c5173585-8ecc-4265-9612-09650d5c2f45"
      },
      "execution_count": 43,
      "outputs": [
        {
          "output_type": "stream",
          "name": "stdout",
          "text": [
            "best params: {'passthrough': False, 'stack_method': 'auto'}\n",
            "best score: 0.6570320404988885\n",
            "CV score: nan\n"
          ]
        }
      ]
    },
    {
      "cell_type": "code",
      "source": [
        "stackcv = []\n",
        "for i in stack_clf.cv_results_['mean_test_score']:\n",
        "  if not np.isnan(i):\n",
        "    stackcv.append(i)\n",
        "stackcv = np.array(stackcv)\n",
        "print(\"CV score:\", stackcv.mean())"
      ],
      "metadata": {
        "colab": {
          "base_uri": "https://localhost:8080/"
        },
        "id": "1WRWFFI-FT9P",
        "outputId": "ffaf48a4-187d-42f6-bf38-2b659da15b04"
      },
      "execution_count": 54,
      "outputs": [
        {
          "output_type": "stream",
          "name": "stdout",
          "text": [
            "CV score: 0.6531616933841219\n"
          ]
        }
      ]
    },
    {
      "cell_type": "code",
      "source": [
        "for index, scaling in enumerate(scalers):\n",
        "    pipe = make_pipeline(scaling, stack_clf.best_estimator_)\n",
        "    pipe.fit(x_train,y_bool_train)\n",
        "    y_pred = pipe.predict(x_test)\n",
        "    print(scalers[index], \"score = \", accuracy_score(y_pred, y_bool_test))"
      ],
      "metadata": {
        "colab": {
          "base_uri": "https://localhost:8080/"
        },
        "id": "UeuhE0YlA5Ov",
        "outputId": "35348d24-4baf-4323-d06d-23861979d48c"
      },
      "execution_count": 44,
      "outputs": [
        {
          "output_type": "stream",
          "name": "stdout",
          "text": [
            "MinMaxScaler() score =  0.6554292988825499\n",
            "StandardScaler() score =  0.6549106511386675\n",
            "PCA() score =  0.6502899712386251\n"
          ]
        }
      ]
    },
    {
      "cell_type": "code",
      "source": [
        "y_pred = stack_clf.best_estimator_.predict(x_test)"
      ],
      "metadata": {
        "id": "LEiBJAfRBKpp"
      },
      "execution_count": 45,
      "outputs": []
    },
    {
      "cell_type": "code",
      "source": [
        "print(\"Multi-class F1 score: \", f1_score(y_bool_test, y_pred, average='macro'))"
      ],
      "metadata": {
        "colab": {
          "base_uri": "https://localhost:8080/"
        },
        "id": "en_90mSJBGDm",
        "outputId": "e7cb67ad-6f46-44f9-d791-de61b5e3a877"
      },
      "execution_count": 46,
      "outputs": [
        {
          "output_type": "stream",
          "name": "stdout",
          "text": [
            "Multi-class F1 score:  0.3707835167769306\n"
          ]
        }
      ]
    },
    {
      "cell_type": "markdown",
      "metadata": {
        "id": "e1-zlgEHkVH-"
      },
      "source": [
        "Visualizations"
      ]
    },
    {
      "cell_type": "code",
      "execution_count": 103,
      "metadata": {
        "colab": {
          "base_uri": "https://localhost:8080/",
          "height": 333
        },
        "id": "kW_JgHcLkVH_",
        "outputId": "efe11c47-0702-427c-d0e6-aa97f077fe44"
      },
      "outputs": [
        {
          "output_type": "display_data",
          "data": {
            "text/plain": [
              "<Figure size 1224x360 with 1 Axes>"
            ],
            "image/png": "[encoded data removed]"
          },
          "metadata": {
            "needs_background": "light"
          }
        }
      ],
      "source": [
        "pre_scale = [0.6058, 0.5892, 0.6400, 0.6432, 0.6388, 0.6561, 0.657]\n",
        "post_scale = [0.6039, 0.6331, 0.6403, 0.6382, 0.6388, 0.6407, 0.6554]\n",
        "methods = ['KNN','Neural Nets','Random Forest','Gradient Boosting - XGB',\n",
        "           'Gradient Boosting - Hist','Ensemble - Bagging',\n",
        "           'Ensemble - Stacking']\n",
        "x = np.arange(len(methods))\n",
        "width = 0.35\n",
        "fig, ax = plt.subplots(figsize = (17, 5))\n",
        "rects1 = ax.bar(x - width/2, pre_scale, width, label='before scaling')\n",
        "rects2 = ax.bar(x + width/2, post_scale, width, label='after scaling')\n",
        "ax.set_ylabel('Accuracy')\n",
        "ax.set_title('Accuracy for all the models')\n",
        "ax.set_xticks(x, methods)\n",
        "ax.set_ylim([0.5, 0.7])\n",
        "ax.legend()\n",
        "ax.bar_label(rects1, padding=5)\n",
        "ax.bar_label(rects2, padding=5)\n",
        "fig.tight_layout()\n",
        "plt.show()\n"
      ]
    }
  ],
  "metadata": {
    "accelerator": "GPU",
    "colab": {
      "provenance": []
    },
    "gpuClass": "standard",
    "kernelspec": {
      "display_name": "Python 3.9.12 ('base')",
      "language": "python",
      "name": "python3"
    },
    "language_info": {
      "codemirror_mode": {
        "name": "ipython",
        "version": 3
      },
      "file_extension": ".py",
      "mimetype": "text/x-python",
      "name": "python",
      "nbconvert_exporter": "python",
      "pygments_lexer": "ipython3",
      "version": "3.9.12"
    },
    "vscode": {
      "interpreter": {
        "hash": "861d1558aefcf33bd47063bd8115b8b386b776d6787af849a7341cedbeb6e451"
      }
    }
  },
  "nbformat": 4,
  "nbformat_minor": 0
}